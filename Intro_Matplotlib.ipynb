{
 "cells": [
  {
   "cell_type": "markdown",
   "metadata": {},
   "source": [
    "## Intro Matplotlib\n",
    "Author: Emmanuel Rodriguez\n",
    "\n",
    "Date: 8 May 2022\n",
    "\n",
    "Location: Fort Hancock, TX\n",
    "\n",
    "emmanueljrodriguez.com"
   ]
  },
  {
   "cell_type": "markdown",
   "metadata": {},
   "source": [
    "## World Development Indicators (WDI)\n",
    "\n",
    "World Bank's compilation of global development data."
   ]
  },
  {
   "cell_type": "markdown",
   "metadata": {},
   "source": [
    "## Step 1: Initial exploration of the dataset"
   ]
  },
  {
   "cell_type": "code",
   "execution_count": null,
   "metadata": {},
   "outputs": [],
   "source": []
  },
  {
   "cell_type": "code",
   "execution_count": 2,
   "metadata": {},
   "outputs": [],
   "source": [
    "# Import libraries\n",
    "import pandas as pd\n",
    "import numpy as np\n",
    "import random\n",
    "import matplotlib.pyplot as plt"
   ]
  },
  {
   "cell_type": "markdown",
   "metadata": {},
   "source": [
    "Download dataset from https://datatopics.worldbank.org/world-development-indicators/?msclkid=905295b0cef211eca247786f37737c73"
   ]
  },
  {
   "cell_type": "code",
   "execution_count": 3,
   "metadata": {},
   "outputs": [
    {
     "data": {
      "text/plain": [
       "(384370, 67)"
      ]
     },
     "execution_count": 3,
     "metadata": {},
     "output_type": "execute_result"
    }
   ],
   "source": [
    "data = pd.read_csv('./WDI_csv/WDIData.csv') # Read .csv file into a DataFrame (multi-dimensional array w/rows and column labels)\n",
    "data.shape # Get array size"
   ]
  },
  {
   "cell_type": "markdown",
   "metadata": {},
   "source": [
    "This is a large dataset, let's explore what this data holds."
   ]
  },
  {
   "cell_type": "code",
   "execution_count": 4,
   "metadata": {},
   "outputs": [
    {
     "data": {
      "text/html": [
       "<div>\n",
       "<style scoped>\n",
       "    .dataframe tbody tr th:only-of-type {\n",
       "        vertical-align: middle;\n",
       "    }\n",
       "\n",
       "    .dataframe tbody tr th {\n",
       "        vertical-align: top;\n",
       "    }\n",
       "\n",
       "    .dataframe thead th {\n",
       "        text-align: right;\n",
       "    }\n",
       "</style>\n",
       "<table border=\"1\" class=\"dataframe\">\n",
       "  <thead>\n",
       "    <tr style=\"text-align: right;\">\n",
       "      <th></th>\n",
       "      <th>Country Name</th>\n",
       "      <th>Country Code</th>\n",
       "      <th>Indicator Name</th>\n",
       "      <th>Indicator Code</th>\n",
       "      <th>1960</th>\n",
       "      <th>1961</th>\n",
       "      <th>1962</th>\n",
       "      <th>1963</th>\n",
       "      <th>1964</th>\n",
       "      <th>1965</th>\n",
       "      <th>...</th>\n",
       "      <th>2013</th>\n",
       "      <th>2014</th>\n",
       "      <th>2015</th>\n",
       "      <th>2016</th>\n",
       "      <th>2017</th>\n",
       "      <th>2018</th>\n",
       "      <th>2019</th>\n",
       "      <th>2020</th>\n",
       "      <th>2021</th>\n",
       "      <th>Unnamed: 66</th>\n",
       "    </tr>\n",
       "  </thead>\n",
       "  <tbody>\n",
       "    <tr>\n",
       "      <th>0</th>\n",
       "      <td>Africa Eastern and Southern</td>\n",
       "      <td>AFE</td>\n",
       "      <td>Access to clean fuels and technologies for coo...</td>\n",
       "      <td>EG.CFT.ACCS.ZS</td>\n",
       "      <td>NaN</td>\n",
       "      <td>NaN</td>\n",
       "      <td>NaN</td>\n",
       "      <td>NaN</td>\n",
       "      <td>NaN</td>\n",
       "      <td>NaN</td>\n",
       "      <td>...</td>\n",
       "      <td>16.936004</td>\n",
       "      <td>17.337896</td>\n",
       "      <td>17.687093</td>\n",
       "      <td>18.140971</td>\n",
       "      <td>18.491344</td>\n",
       "      <td>18.825520</td>\n",
       "      <td>19.272212</td>\n",
       "      <td>19.628009</td>\n",
       "      <td>NaN</td>\n",
       "      <td>NaN</td>\n",
       "    </tr>\n",
       "    <tr>\n",
       "      <th>1</th>\n",
       "      <td>Africa Eastern and Southern</td>\n",
       "      <td>AFE</td>\n",
       "      <td>Access to clean fuels and technologies for coo...</td>\n",
       "      <td>EG.CFT.ACCS.RU.ZS</td>\n",
       "      <td>NaN</td>\n",
       "      <td>NaN</td>\n",
       "      <td>NaN</td>\n",
       "      <td>NaN</td>\n",
       "      <td>NaN</td>\n",
       "      <td>NaN</td>\n",
       "      <td>...</td>\n",
       "      <td>6.499471</td>\n",
       "      <td>6.680066</td>\n",
       "      <td>6.859110</td>\n",
       "      <td>7.016238</td>\n",
       "      <td>7.180364</td>\n",
       "      <td>7.322294</td>\n",
       "      <td>7.517191</td>\n",
       "      <td>7.651598</td>\n",
       "      <td>NaN</td>\n",
       "      <td>NaN</td>\n",
       "    </tr>\n",
       "    <tr>\n",
       "      <th>2</th>\n",
       "      <td>Africa Eastern and Southern</td>\n",
       "      <td>AFE</td>\n",
       "      <td>Access to clean fuels and technologies for coo...</td>\n",
       "      <td>EG.CFT.ACCS.UR.ZS</td>\n",
       "      <td>NaN</td>\n",
       "      <td>NaN</td>\n",
       "      <td>NaN</td>\n",
       "      <td>NaN</td>\n",
       "      <td>NaN</td>\n",
       "      <td>NaN</td>\n",
       "      <td>...</td>\n",
       "      <td>37.855399</td>\n",
       "      <td>38.046781</td>\n",
       "      <td>38.326255</td>\n",
       "      <td>38.468426</td>\n",
       "      <td>38.670044</td>\n",
       "      <td>38.722783</td>\n",
       "      <td>38.927016</td>\n",
       "      <td>39.042839</td>\n",
       "      <td>NaN</td>\n",
       "      <td>NaN</td>\n",
       "    </tr>\n",
       "    <tr>\n",
       "      <th>3</th>\n",
       "      <td>Africa Eastern and Southern</td>\n",
       "      <td>AFE</td>\n",
       "      <td>Access to electricity (% of population)</td>\n",
       "      <td>EG.ELC.ACCS.ZS</td>\n",
       "      <td>NaN</td>\n",
       "      <td>NaN</td>\n",
       "      <td>NaN</td>\n",
       "      <td>NaN</td>\n",
       "      <td>NaN</td>\n",
       "      <td>NaN</td>\n",
       "      <td>...</td>\n",
       "      <td>31.794160</td>\n",
       "      <td>32.001027</td>\n",
       "      <td>33.871910</td>\n",
       "      <td>38.880173</td>\n",
       "      <td>40.261358</td>\n",
       "      <td>43.061877</td>\n",
       "      <td>44.270860</td>\n",
       "      <td>45.803485</td>\n",
       "      <td>NaN</td>\n",
       "      <td>NaN</td>\n",
       "    </tr>\n",
       "    <tr>\n",
       "      <th>4</th>\n",
       "      <td>Africa Eastern and Southern</td>\n",
       "      <td>AFE</td>\n",
       "      <td>Access to electricity, rural (% of rural popul...</td>\n",
       "      <td>EG.ELC.ACCS.RU.ZS</td>\n",
       "      <td>NaN</td>\n",
       "      <td>NaN</td>\n",
       "      <td>NaN</td>\n",
       "      <td>NaN</td>\n",
       "      <td>NaN</td>\n",
       "      <td>NaN</td>\n",
       "      <td>...</td>\n",
       "      <td>18.663502</td>\n",
       "      <td>17.633986</td>\n",
       "      <td>16.464681</td>\n",
       "      <td>24.531436</td>\n",
       "      <td>25.345111</td>\n",
       "      <td>27.449908</td>\n",
       "      <td>29.641760</td>\n",
       "      <td>30.404935</td>\n",
       "      <td>NaN</td>\n",
       "      <td>NaN</td>\n",
       "    </tr>\n",
       "    <tr>\n",
       "      <th>5</th>\n",
       "      <td>Africa Eastern and Southern</td>\n",
       "      <td>AFE</td>\n",
       "      <td>Access to electricity, urban (% of urban popul...</td>\n",
       "      <td>EG.ELC.ACCS.UR.ZS</td>\n",
       "      <td>NaN</td>\n",
       "      <td>NaN</td>\n",
       "      <td>NaN</td>\n",
       "      <td>NaN</td>\n",
       "      <td>NaN</td>\n",
       "      <td>NaN</td>\n",
       "      <td>...</td>\n",
       "      <td>67.112206</td>\n",
       "      <td>66.283426</td>\n",
       "      <td>67.080235</td>\n",
       "      <td>69.132292</td>\n",
       "      <td>70.928567</td>\n",
       "      <td>71.866136</td>\n",
       "      <td>73.332842</td>\n",
       "      <td>73.942949</td>\n",
       "      <td>NaN</td>\n",
       "      <td>NaN</td>\n",
       "    </tr>\n",
       "    <tr>\n",
       "      <th>6</th>\n",
       "      <td>Africa Eastern and Southern</td>\n",
       "      <td>AFE</td>\n",
       "      <td>Account ownership at a financial institution o...</td>\n",
       "      <td>FX.OWN.TOTL.ZS</td>\n",
       "      <td>NaN</td>\n",
       "      <td>NaN</td>\n",
       "      <td>NaN</td>\n",
       "      <td>NaN</td>\n",
       "      <td>NaN</td>\n",
       "      <td>NaN</td>\n",
       "      <td>...</td>\n",
       "      <td>NaN</td>\n",
       "      <td>NaN</td>\n",
       "      <td>NaN</td>\n",
       "      <td>NaN</td>\n",
       "      <td>NaN</td>\n",
       "      <td>NaN</td>\n",
       "      <td>NaN</td>\n",
       "      <td>NaN</td>\n",
       "      <td>NaN</td>\n",
       "      <td>NaN</td>\n",
       "    </tr>\n",
       "    <tr>\n",
       "      <th>7</th>\n",
       "      <td>Africa Eastern and Southern</td>\n",
       "      <td>AFE</td>\n",
       "      <td>Account ownership at a financial institution o...</td>\n",
       "      <td>FX.OWN.TOTL.FE.ZS</td>\n",
       "      <td>NaN</td>\n",
       "      <td>NaN</td>\n",
       "      <td>NaN</td>\n",
       "      <td>NaN</td>\n",
       "      <td>NaN</td>\n",
       "      <td>NaN</td>\n",
       "      <td>...</td>\n",
       "      <td>NaN</td>\n",
       "      <td>NaN</td>\n",
       "      <td>NaN</td>\n",
       "      <td>NaN</td>\n",
       "      <td>NaN</td>\n",
       "      <td>NaN</td>\n",
       "      <td>NaN</td>\n",
       "      <td>NaN</td>\n",
       "      <td>NaN</td>\n",
       "      <td>NaN</td>\n",
       "    </tr>\n",
       "    <tr>\n",
       "      <th>8</th>\n",
       "      <td>Africa Eastern and Southern</td>\n",
       "      <td>AFE</td>\n",
       "      <td>Account ownership at a financial institution o...</td>\n",
       "      <td>FX.OWN.TOTL.MA.ZS</td>\n",
       "      <td>NaN</td>\n",
       "      <td>NaN</td>\n",
       "      <td>NaN</td>\n",
       "      <td>NaN</td>\n",
       "      <td>NaN</td>\n",
       "      <td>NaN</td>\n",
       "      <td>...</td>\n",
       "      <td>NaN</td>\n",
       "      <td>NaN</td>\n",
       "      <td>NaN</td>\n",
       "      <td>NaN</td>\n",
       "      <td>NaN</td>\n",
       "      <td>NaN</td>\n",
       "      <td>NaN</td>\n",
       "      <td>NaN</td>\n",
       "      <td>NaN</td>\n",
       "      <td>NaN</td>\n",
       "    </tr>\n",
       "    <tr>\n",
       "      <th>9</th>\n",
       "      <td>Africa Eastern and Southern</td>\n",
       "      <td>AFE</td>\n",
       "      <td>Account ownership at a financial institution o...</td>\n",
       "      <td>FX.OWN.TOTL.OL.ZS</td>\n",
       "      <td>NaN</td>\n",
       "      <td>NaN</td>\n",
       "      <td>NaN</td>\n",
       "      <td>NaN</td>\n",
       "      <td>NaN</td>\n",
       "      <td>NaN</td>\n",
       "      <td>...</td>\n",
       "      <td>NaN</td>\n",
       "      <td>NaN</td>\n",
       "      <td>NaN</td>\n",
       "      <td>NaN</td>\n",
       "      <td>NaN</td>\n",
       "      <td>NaN</td>\n",
       "      <td>NaN</td>\n",
       "      <td>NaN</td>\n",
       "      <td>NaN</td>\n",
       "      <td>NaN</td>\n",
       "    </tr>\n",
       "  </tbody>\n",
       "</table>\n",
       "<p>10 rows × 67 columns</p>\n",
       "</div>"
      ],
      "text/plain": [
       "                  Country Name Country Code  \\\n",
       "0  Africa Eastern and Southern          AFE   \n",
       "1  Africa Eastern and Southern          AFE   \n",
       "2  Africa Eastern and Southern          AFE   \n",
       "3  Africa Eastern and Southern          AFE   \n",
       "4  Africa Eastern and Southern          AFE   \n",
       "5  Africa Eastern and Southern          AFE   \n",
       "6  Africa Eastern and Southern          AFE   \n",
       "7  Africa Eastern and Southern          AFE   \n",
       "8  Africa Eastern and Southern          AFE   \n",
       "9  Africa Eastern and Southern          AFE   \n",
       "\n",
       "                                      Indicator Name     Indicator Code  1960  \\\n",
       "0  Access to clean fuels and technologies for coo...     EG.CFT.ACCS.ZS   NaN   \n",
       "1  Access to clean fuels and technologies for coo...  EG.CFT.ACCS.RU.ZS   NaN   \n",
       "2  Access to clean fuels and technologies for coo...  EG.CFT.ACCS.UR.ZS   NaN   \n",
       "3            Access to electricity (% of population)     EG.ELC.ACCS.ZS   NaN   \n",
       "4  Access to electricity, rural (% of rural popul...  EG.ELC.ACCS.RU.ZS   NaN   \n",
       "5  Access to electricity, urban (% of urban popul...  EG.ELC.ACCS.UR.ZS   NaN   \n",
       "6  Account ownership at a financial institution o...     FX.OWN.TOTL.ZS   NaN   \n",
       "7  Account ownership at a financial institution o...  FX.OWN.TOTL.FE.ZS   NaN   \n",
       "8  Account ownership at a financial institution o...  FX.OWN.TOTL.MA.ZS   NaN   \n",
       "9  Account ownership at a financial institution o...  FX.OWN.TOTL.OL.ZS   NaN   \n",
       "\n",
       "   1961  1962  1963  1964  1965  ...       2013       2014       2015  \\\n",
       "0   NaN   NaN   NaN   NaN   NaN  ...  16.936004  17.337896  17.687093   \n",
       "1   NaN   NaN   NaN   NaN   NaN  ...   6.499471   6.680066   6.859110   \n",
       "2   NaN   NaN   NaN   NaN   NaN  ...  37.855399  38.046781  38.326255   \n",
       "3   NaN   NaN   NaN   NaN   NaN  ...  31.794160  32.001027  33.871910   \n",
       "4   NaN   NaN   NaN   NaN   NaN  ...  18.663502  17.633986  16.464681   \n",
       "5   NaN   NaN   NaN   NaN   NaN  ...  67.112206  66.283426  67.080235   \n",
       "6   NaN   NaN   NaN   NaN   NaN  ...        NaN        NaN        NaN   \n",
       "7   NaN   NaN   NaN   NaN   NaN  ...        NaN        NaN        NaN   \n",
       "8   NaN   NaN   NaN   NaN   NaN  ...        NaN        NaN        NaN   \n",
       "9   NaN   NaN   NaN   NaN   NaN  ...        NaN        NaN        NaN   \n",
       "\n",
       "        2016       2017       2018       2019       2020  2021  Unnamed: 66  \n",
       "0  18.140971  18.491344  18.825520  19.272212  19.628009   NaN          NaN  \n",
       "1   7.016238   7.180364   7.322294   7.517191   7.651598   NaN          NaN  \n",
       "2  38.468426  38.670044  38.722783  38.927016  39.042839   NaN          NaN  \n",
       "3  38.880173  40.261358  43.061877  44.270860  45.803485   NaN          NaN  \n",
       "4  24.531436  25.345111  27.449908  29.641760  30.404935   NaN          NaN  \n",
       "5  69.132292  70.928567  71.866136  73.332842  73.942949   NaN          NaN  \n",
       "6        NaN        NaN        NaN        NaN        NaN   NaN          NaN  \n",
       "7        NaN        NaN        NaN        NaN        NaN   NaN          NaN  \n",
       "8        NaN        NaN        NaN        NaN        NaN   NaN          NaN  \n",
       "9        NaN        NaN        NaN        NaN        NaN   NaN          NaN  \n",
       "\n",
       "[10 rows x 67 columns]"
      ]
     },
     "execution_count": 4,
     "metadata": {},
     "output_type": "execute_result"
    }
   ],
   "source": [
    "data.head(10) #Use the 'head' method to view the headers of the n rows"
   ]
  },
  {
   "cell_type": "markdown",
   "metadata": {},
   "source": [
    "This is a three-dimensional dataset, where the dimensions are: country, indicator, and year."
   ]
  },
  {
   "cell_type": "markdown",
   "metadata": {},
   "source": [
    "### How many unique country names are there?"
   ]
  },
  {
   "cell_type": "code",
   "execution_count": 5,
   "metadata": {},
   "outputs": [
    {
     "data": {
      "text/plain": [
       "266"
      ]
     },
     "execution_count": 5,
     "metadata": {},
     "output_type": "execute_result"
    }
   ],
   "source": [
    "countries = data['Country Name'].unique().tolist() # Use the 'unique' method on the column of the dataframe that contains the country names \n",
    "len(countries)"
   ]
  },
  {
   "cell_type": "markdown",
   "metadata": {},
   "source": [
    "### Do the number of country codes match the number of countries?"
   ]
  },
  {
   "cell_type": "code",
   "execution_count": 6,
   "metadata": {},
   "outputs": [
    {
     "data": {
      "text/plain": [
       "266"
      ]
     },
     "execution_count": 6,
     "metadata": {},
     "output_type": "execute_result"
    }
   ],
   "source": [
    "countryCodes = data['Country Code'].unique().tolist() # The 'unique()' method finds the unique names in the dataframe index\n",
    "# 'Country Code' and returns an arrray, then the 'tolist()' method returns a list of the array values \n",
    "len(countryCodes)"
   ]
  },
  {
   "cell_type": "markdown",
   "metadata": {},
   "source": [
    "### How many indicators are there?"
   ]
  },
  {
   "cell_type": "code",
   "execution_count": 7,
   "metadata": {},
   "outputs": [
    {
     "data": {
      "text/plain": [
       "1445"
      ]
     },
     "execution_count": 7,
     "metadata": {},
     "output_type": "execute_result"
    }
   ],
   "source": [
    "indicators = data['Indicator Name'].unique().tolist()\n",
    "len(indicators)"
   ]
  },
  {
   "cell_type": "code",
   "execution_count": 8,
   "metadata": {},
   "outputs": [
    {
     "data": {
      "text/plain": [
       "1445"
      ]
     },
     "execution_count": 8,
     "metadata": {},
     "output_type": "execute_result"
    }
   ],
   "source": [
    "# Cross-check with number of indicator codes\n",
    "indicatorCodes = data['Indicator Code'].unique().tolist()\n",
    "len(indicatorCodes)"
   ]
  },
  {
   "cell_type": "code",
   "execution_count": 9,
   "metadata": {},
   "outputs": [
    {
     "name": "stdout",
     "output_type": "stream",
     "text": [
      "Variable         Type         Data/Info\n",
      "---------------------------------------\n",
      "countries        list         n=266\n",
      "countryCodes     list         n=266\n",
      "data             DataFrame                           Co<...>384370 rows x 67 columns]\n",
      "indicatorCodes   list         n=1445\n",
      "indicators       list         n=1445\n",
      "np               module       <module 'numpy' from 'C:\\<...>ges\\\\numpy\\\\__init__.py'>\n",
      "pd               module       <module 'pandas' from 'C:<...>es\\\\pandas\\\\__init__.py'>\n",
      "plt              module       <module 'matplotlib.pyplo<...>\\\\matplotlib\\\\pyplot.py'>\n",
      "random           module       <module 'random' from 'C:<...>aconda3\\\\lib\\\\random.py'>\n"
     ]
    }
   ],
   "source": [
    "# List the environment variables created so far\n",
    "\n",
    "%whos"
   ]
  },
  {
   "cell_type": "markdown",
   "metadata": {},
   "source": [
    "### How many years of data do we have?"
   ]
  },
  {
   "cell_type": "code",
   "execution_count": 10,
   "metadata": {},
   "outputs": [
    {
     "data": {
      "text/plain": [
       "62"
      ]
     },
     "execution_count": 10,
     "metadata": {},
     "output_type": "execute_result"
    }
   ],
   "source": [
    "years = data.columns[4:-1] # Grab the column labels starting at col 4, then remove the last 'Unnamed' value\n",
    "len(years)"
   ]
  },
  {
   "cell_type": "code",
   "execution_count": 11,
   "metadata": {},
   "outputs": [
    {
     "name": "stdout",
     "output_type": "stream",
     "text": [
      "Index(['1960', '1961', '1962', '1963', '1964', '1965', '1966', '1967', '1968',\n",
      "       '1969', '1970', '1971', '1972', '1973', '1974', '1975', '1976', '1977',\n",
      "       '1978', '1979', '1980', '1981', '1982', '1983', '1984', '1985', '1986',\n",
      "       '1987', '1988', '1989', '1990', '1991', '1992', '1993', '1994', '1995',\n",
      "       '1996', '1997', '1998', '1999', '2000', '2001', '2002', '2003', '2004',\n",
      "       '2005', '2006', '2007', '2008', '2009', '2010', '2011', '2012', '2013',\n",
      "       '2014', '2015', '2016', '2017', '2018', '2019', '2020', '2021'],\n",
      "      dtype='object')\n"
     ]
    }
   ],
   "source": [
    "print(years)"
   ]
  },
  {
   "cell_type": "code",
   "execution_count": 12,
   "metadata": {},
   "outputs": [],
   "source": [
    "# Convert the index into a list\n",
    "years = years.tolist()"
   ]
  },
  {
   "cell_type": "code",
   "execution_count": 13,
   "metadata": {},
   "outputs": [
    {
     "name": "stdout",
     "output_type": "stream",
     "text": [
      "['1960', '1961', '1962', '1963', '1964', '1965', '1966', '1967', '1968', '1969', '1970', '1971', '1972', '1973', '1974', '1975', '1976', '1977', '1978', '1979', '1980', '1981', '1982', '1983', '1984', '1985', '1986', '1987', '1988', '1989', '1990', '1991', '1992', '1993', '1994', '1995', '1996', '1997', '1998', '1999', '2000', '2001', '2002', '2003', '2004', '2005', '2006', '2007', '2008', '2009', '2010', '2011', '2012', '2013', '2014', '2015', '2016', '2017', '2018', '2019', '2020', '2021']\n"
     ]
    }
   ],
   "source": [
    "print(years)"
   ]
  },
  {
   "cell_type": "markdown",
   "metadata": {},
   "source": [
    "### What's the range of years?"
   ]
  },
  {
   "cell_type": "code",
   "execution_count": 14,
   "metadata": {},
   "outputs": [
    {
     "name": "stdout",
     "output_type": "stream",
     "text": [
      "1960  to  2021\n"
     ]
    }
   ],
   "source": [
    "print(min(years), \" to \" , max(years))"
   ]
  },
  {
   "cell_type": "markdown",
   "metadata": {},
   "source": [
    "## Matplotlib: Basic Plotting, Part 1"
   ]
  },
  {
   "cell_type": "markdown",
   "metadata": {},
   "source": [
    "### Country and an indicator to explore:\n",
    "\n",
    "USA and CO2 emissions per capita"
   ]
  },
  {
   "cell_type": "code",
   "execution_count": 15,
   "metadata": {},
   "outputs": [
    {
     "name": "stdout",
     "output_type": "stream",
     "text": [
      "1\n",
      "<class 'pandas.core.frame.DataFrame'>\n"
     ]
    }
   ],
   "source": [
    "# Create and set variables to hold indicator and country\n",
    "hist_indicator = 'CO2 emissions (metric'\n",
    "#hist_indicator = 'CO2 emissions \\(metric' # Alternative, if regex is left as default True\n",
    "hist_country = 'USA'\n",
    "\n",
    "# Setup two masks using the string method 'contains()'\n",
    "mask1 = data['Indicator Name'].str.contains(hist_indicator, regex=False) # Set the regex (Regular expression) arg to \n",
    "# False, treating str arg as a literal string.\n",
    "# Literal string or string literal - When a string appears in the actual code of a program it is called a string literal.\n",
    "# In the string above, the open paranthesis, which typically appears in the actual code - is causing errors in interpreting\n",
    "# the string (where it ends/begins), therefore the string must be set as a literal string. See Gaddis, p. 35.\n",
    "#mask1 = data['Indicator Name'].str.contains(hist_indicator) # By default regex is set to True.\n",
    "\n",
    "mask2 = data['Country Code'].str.contains(hist_country)\n",
    "\n",
    "# Create and set a temporary dataframe called stage to hold:\n",
    "# A mask for all the rows for which the indicated name contains 'CO2 emissions'\n",
    "# Another mask for the rows whose country code is the USA.\n",
    "stage = data[mask1 & mask2]\n",
    "print(len(stage))\n",
    "print(type(stage))"
   ]
  },
  {
   "cell_type": "code",
   "execution_count": 16,
   "metadata": {},
   "outputs": [
    {
     "data": {
      "text/html": [
       "<div>\n",
       "<style scoped>\n",
       "    .dataframe tbody tr th:only-of-type {\n",
       "        vertical-align: middle;\n",
       "    }\n",
       "\n",
       "    .dataframe tbody tr th {\n",
       "        vertical-align: top;\n",
       "    }\n",
       "\n",
       "    .dataframe thead th {\n",
       "        text-align: right;\n",
       "    }\n",
       "</style>\n",
       "<table border=\"1\" class=\"dataframe\">\n",
       "  <thead>\n",
       "    <tr style=\"text-align: right;\">\n",
       "      <th></th>\n",
       "      <th>Country Name</th>\n",
       "      <th>Country Code</th>\n",
       "      <th>Indicator Name</th>\n",
       "      <th>Indicator Code</th>\n",
       "      <th>1960</th>\n",
       "      <th>1961</th>\n",
       "      <th>1962</th>\n",
       "      <th>1963</th>\n",
       "      <th>1964</th>\n",
       "      <th>1965</th>\n",
       "      <th>...</th>\n",
       "      <th>2013</th>\n",
       "      <th>2014</th>\n",
       "      <th>2015</th>\n",
       "      <th>2016</th>\n",
       "      <th>2017</th>\n",
       "      <th>2018</th>\n",
       "      <th>2019</th>\n",
       "      <th>2020</th>\n",
       "      <th>2021</th>\n",
       "      <th>Unnamed: 66</th>\n",
       "    </tr>\n",
       "  </thead>\n",
       "  <tbody>\n",
       "    <tr>\n",
       "      <th>368668</th>\n",
       "      <td>United States</td>\n",
       "      <td>USA</td>\n",
       "      <td>CO2 emissions (metric tons per capita)</td>\n",
       "      <td>EN.ATM.CO2E.PC</td>\n",
       "      <td>NaN</td>\n",
       "      <td>NaN</td>\n",
       "      <td>NaN</td>\n",
       "      <td>NaN</td>\n",
       "      <td>NaN</td>\n",
       "      <td>NaN</td>\n",
       "      <td>...</td>\n",
       "      <td>16.102958</td>\n",
       "      <td>16.026379</td>\n",
       "      <td>15.535342</td>\n",
       "      <td>15.131747</td>\n",
       "      <td>14.805882</td>\n",
       "      <td>15.240875</td>\n",
       "      <td>NaN</td>\n",
       "      <td>NaN</td>\n",
       "      <td>NaN</td>\n",
       "      <td>NaN</td>\n",
       "    </tr>\n",
       "  </tbody>\n",
       "</table>\n",
       "<p>1 rows × 67 columns</p>\n",
       "</div>"
      ],
      "text/plain": [
       "         Country Name Country Code                          Indicator Name  \\\n",
       "368668  United States          USA  CO2 emissions (metric tons per capita)   \n",
       "\n",
       "        Indicator Code  1960  1961  1962  1963  1964  1965  ...       2013  \\\n",
       "368668  EN.ATM.CO2E.PC   NaN   NaN   NaN   NaN   NaN   NaN  ...  16.102958   \n",
       "\n",
       "             2014       2015       2016       2017       2018  2019  2020  \\\n",
       "368668  16.026379  15.535342  15.131747  14.805882  15.240875   NaN   NaN   \n",
       "\n",
       "        2021  Unnamed: 66  \n",
       "368668   NaN          NaN  \n",
       "\n",
       "[1 rows x 67 columns]"
      ]
     },
     "execution_count": 16,
     "metadata": {},
     "output_type": "execute_result"
    }
   ],
   "source": [
    "stage.head() # head() function returns the first n rows (default is 5) for the object"
   ]
  },
  {
   "cell_type": "markdown",
   "metadata": {},
   "source": [
    "### Handle missing data"
   ]
  },
  {
   "cell_type": "code",
   "execution_count": 17,
   "metadata": {},
   "outputs": [],
   "source": [
    "# Use the dropna() function to drop missing data fields\n",
    "stage = stage.dropna(axis=1) # Set axis parameter to 1 to drop columns with NaN, set it to 0 to drop rows with NaN "
   ]
  },
  {
   "cell_type": "markdown",
   "metadata": {},
   "source": [
    "### Plot indicator over time using Matplotlib"
   ]
  },
  {
   "cell_type": "code",
   "execution_count": 30,
   "metadata": {},
   "outputs": [],
   "source": [
    "# Get the years\n",
    "years = stage.columns[4:].tolist() # Get column labels starting at index 5 (or 4 implicit) to the last, \n",
    "# turn the index to a list of strings containing the years\n",
    "\n",
    "#years"
   ]
  },
  {
   "cell_type": "code",
   "execution_count": 31,
   "metadata": {},
   "outputs": [
    {
     "name": "stdout",
     "output_type": "stream",
     "text": [
      "<class 'list'>\n",
      "['1990', '1991', '1992', '1993', '1994', '1995', '1996', '1997', '1998', '1999', '2000', '2001', '2002', '2003', '2004', '2005', '2006', '2007', '2008', '2009', '2010', '2011', '2012', '2013', '2014', '2015', '2016', '2017', '2018']\n",
      "29\n"
     ]
    }
   ],
   "source": [
    "print(type(years))\n",
    "print(years)\n",
    "print(len(years))"
   ]
  },
  {
   "cell_type": "markdown",
   "metadata": {},
   "source": [
    "### How do I select a subset of a DataFrame?\n",
    "\n",
    "Ref: https://pandas.pydata.org/docs/getting_started/intro_tutorials/03_subset_data.html"
   ]
  },
  {
   "cell_type": "code",
   "execution_count": 21,
   "metadata": {},
   "outputs": [
    {
     "data": {
      "text/plain": [
       "368668    19.409229\n",
       "Name: 1990, dtype: float64"
      ]
     },
     "execution_count": 21,
     "metadata": {},
     "output_type": "execute_result"
    }
   ],
   "source": [
    "stage['1990'] # Each column in a DataFrame is a Series. As a single column is selected, the return object is a pandas Series."
   ]
  },
  {
   "cell_type": "code",
   "execution_count": 22,
   "metadata": {},
   "outputs": [
    {
     "data": {
      "text/plain": [
       "pandas.core.series.Series"
      ]
     },
     "execution_count": 22,
     "metadata": {},
     "output_type": "execute_result"
    }
   ],
   "source": [
    "type(stage['1990']) # To verify the above statement"
   ]
  },
  {
   "cell_type": "code",
   "execution_count": 23,
   "metadata": {},
   "outputs": [
    {
     "data": {
      "text/html": [
       "<div>\n",
       "<style scoped>\n",
       "    .dataframe tbody tr th:only-of-type {\n",
       "        vertical-align: middle;\n",
       "    }\n",
       "\n",
       "    .dataframe tbody tr th {\n",
       "        vertical-align: top;\n",
       "    }\n",
       "\n",
       "    .dataframe thead th {\n",
       "        text-align: right;\n",
       "    }\n",
       "</style>\n",
       "<table border=\"1\" class=\"dataframe\">\n",
       "  <thead>\n",
       "    <tr style=\"text-align: right;\">\n",
       "      <th></th>\n",
       "      <th>1990</th>\n",
       "    </tr>\n",
       "  </thead>\n",
       "  <tbody>\n",
       "    <tr>\n",
       "      <th>368668</th>\n",
       "      <td>19.409229</td>\n",
       "    </tr>\n",
       "  </tbody>\n",
       "</table>\n",
       "</div>"
      ],
      "text/plain": [
       "             1990\n",
       "368668  19.409229"
      ]
     },
     "execution_count": 23,
     "metadata": {},
     "output_type": "execute_result"
    }
   ],
   "source": [
    "stage[['1990']] # To select multiple columns, use a list of column names within the selection brackets. The inner square\n",
    "# brackets define a Python list with column names, whereas the outer brackets are used to select the data \n",
    "# from a pandas DataFrame - this is known as 'fancy indexing'."
   ]
  },
  {
   "cell_type": "code",
   "execution_count": 24,
   "metadata": {},
   "outputs": [
    {
     "data": {
      "text/html": [
       "<div>\n",
       "<style scoped>\n",
       "    .dataframe tbody tr th:only-of-type {\n",
       "        vertical-align: middle;\n",
       "    }\n",
       "\n",
       "    .dataframe tbody tr th {\n",
       "        vertical-align: top;\n",
       "    }\n",
       "\n",
       "    .dataframe thead th {\n",
       "        text-align: right;\n",
       "    }\n",
       "</style>\n",
       "<table border=\"1\" class=\"dataframe\">\n",
       "  <thead>\n",
       "    <tr style=\"text-align: right;\">\n",
       "      <th></th>\n",
       "      <th>1990</th>\n",
       "      <th>1990</th>\n",
       "    </tr>\n",
       "  </thead>\n",
       "  <tbody>\n",
       "    <tr>\n",
       "      <th>368668</th>\n",
       "      <td>19.409229</td>\n",
       "      <td>19.409229</td>\n",
       "    </tr>\n",
       "  </tbody>\n",
       "</table>\n",
       "</div>"
      ],
      "text/plain": [
       "             1990       1990\n",
       "368668  19.409229  19.409229"
      ]
     },
     "execution_count": 24,
     "metadata": {},
     "output_type": "execute_result"
    }
   ],
   "source": [
    "stage[['1990','1990']]"
   ]
  },
  {
   "cell_type": "code",
   "execution_count": 32,
   "metadata": {},
   "outputs": [],
   "source": [
    "# Get the CO2 values\n",
    "co2 = stage[years].values # Use the 'years' list to select the corresponding year columns"
   ]
  },
  {
   "cell_type": "code",
   "execution_count": 33,
   "metadata": {},
   "outputs": [
    {
     "data": {
      "text/plain": [
       "array([[19.40922912, 19.00573561, 19.02508245, 19.2381088 , 19.28061081,\n",
       "        19.25393761, 19.61109008, 20.34787297, 20.26688031, 20.10571961,\n",
       "        20.4719331 , 20.17500468, 19.44947847, 19.50870471, 19.60357288,\n",
       "        19.478026  , 18.9576435 , 19.05602695, 18.29480563, 16.81886848,\n",
       "        17.43419587, 16.59940374, 15.77114462, 16.10295784, 16.02637907,\n",
       "        15.53534211, 15.13174682, 14.80588242, 15.24087458]])"
      ]
     },
     "execution_count": 33,
     "metadata": {},
     "output_type": "execute_result"
    }
   ],
   "source": [
    "co2"
   ]
  },
  {
   "cell_type": "code",
   "execution_count": 36,
   "metadata": {},
   "outputs": [
    {
     "name": "stdout",
     "output_type": "stream",
     "text": [
      "<class 'numpy.ndarray'>\n",
      "(1, 29)\n"
     ]
    }
   ],
   "source": [
    "print(type(co2))\n",
    "print(co2.shape)"
   ]
  },
  {
   "cell_type": "code",
   "execution_count": 35,
   "metadata": {},
   "outputs": [
    {
     "ename": "TypeError",
     "evalue": "only size-1 arrays can be converted to Python scalars",
     "output_type": "error",
     "traceback": [
      "\u001b[1;31m---------------------------------------------------------------------------\u001b[0m",
      "\u001b[1;31mTypeError\u001b[0m                                 Traceback (most recent call last)",
      "\u001b[1;32m<ipython-input-35-77c3862c6030>\u001b[0m in \u001b[0;36m<module>\u001b[1;34m\u001b[0m\n\u001b[1;32m----> 1\u001b[1;33m \u001b[0mco2List\u001b[0m \u001b[1;33m=\u001b[0m \u001b[1;33m[\u001b[0m\u001b[0mint\u001b[0m\u001b[1;33m(\u001b[0m\u001b[0mco2\u001b[0m\u001b[1;33m)\u001b[0m \u001b[1;32mfor\u001b[0m \u001b[0mco2\u001b[0m \u001b[1;32min\u001b[0m \u001b[0mco2\u001b[0m\u001b[1;33m]\u001b[0m\u001b[1;33m\u001b[0m\u001b[1;33m\u001b[0m\u001b[0m\n\u001b[0m\u001b[0;32m      2\u001b[0m \u001b[0mco2List\u001b[0m\u001b[1;33m\u001b[0m\u001b[1;33m\u001b[0m\u001b[0m\n",
      "\u001b[1;32m<ipython-input-35-77c3862c6030>\u001b[0m in \u001b[0;36m<listcomp>\u001b[1;34m(.0)\u001b[0m\n\u001b[1;32m----> 1\u001b[1;33m \u001b[0mco2List\u001b[0m \u001b[1;33m=\u001b[0m \u001b[1;33m[\u001b[0m\u001b[0mint\u001b[0m\u001b[1;33m(\u001b[0m\u001b[0mco2\u001b[0m\u001b[1;33m)\u001b[0m \u001b[1;32mfor\u001b[0m \u001b[0mco2\u001b[0m \u001b[1;32min\u001b[0m \u001b[0mco2\u001b[0m\u001b[1;33m]\u001b[0m\u001b[1;33m\u001b[0m\u001b[1;33m\u001b[0m\u001b[0m\n\u001b[0m\u001b[0;32m      2\u001b[0m \u001b[0mco2List\u001b[0m\u001b[1;33m\u001b[0m\u001b[1;33m\u001b[0m\u001b[0m\n",
      "\u001b[1;31mTypeError\u001b[0m: only size-1 arrays can be converted to Python scalars"
     ]
    }
   ],
   "source": [
    "#co2List = [int(co2) for co2 in co2]\n",
    "#co2List"
   ]
  },
  {
   "cell_type": "markdown",
   "metadata": {},
   "source": [
    "Only 'size-1' arrays... does this mean, the trailing dimension must be 1? Let find out..."
   ]
  },
  {
   "cell_type": "code",
   "execution_count": 37,
   "metadata": {},
   "outputs": [
    {
     "name": "stdout",
     "output_type": "stream",
     "text": [
      "<class 'numpy.ndarray'>\n",
      "29\n",
      "(29, 1)\n"
     ]
    }
   ],
   "source": [
    "co2 = np.transpose(co2)\n",
    "print(type(co2))\n",
    "print(len(co2))\n",
    "print(co2.shape)"
   ]
  },
  {
   "cell_type": "code",
   "execution_count": 38,
   "metadata": {},
   "outputs": [],
   "source": [
    "co2List = list(co2)"
   ]
  },
  {
   "cell_type": "code",
   "execution_count": 39,
   "metadata": {},
   "outputs": [
    {
     "name": "stdout",
     "output_type": "stream",
     "text": [
      "[array([19.40922912]), array([19.00573561]), array([19.02508245]), array([19.2381088]), array([19.28061081]), array([19.25393761]), array([19.61109008]), array([20.34787297]), array([20.26688031]), array([20.10571961]), array([20.4719331]), array([20.17500468]), array([19.44947847]), array([19.50870471]), array([19.60357288]), array([19.478026]), array([18.9576435]), array([19.05602695]), array([18.29480563]), array([16.81886848]), array([17.43419587]), array([16.59940374]), array([15.77114462]), array([16.10295784]), array([16.02637907]), array([15.53534211]), array([15.13174682]), array([14.80588242]), array([15.24087458])]\n",
      "<class 'list'>\n"
     ]
    }
   ],
   "source": [
    "print(co2List)\n",
    "print(type(co2List))\n",
    "#print(co2List.shape)"
   ]
  },
  {
   "cell_type": "markdown",
   "metadata": {},
   "source": [
    "This gives a list filled with 1x1 arrays... not quite what I was looking for..."
   ]
  },
  {
   "cell_type": "code",
   "execution_count": 40,
   "metadata": {},
   "outputs": [
    {
     "data": {
      "text/plain": [
       "[19.4092291175092,\n",
       " 19.005735608603,\n",
       " 19.0250824516401,\n",
       " 19.2381087954324,\n",
       " 19.280610810030197,\n",
       " 19.2539376140725,\n",
       " 19.611090076245198,\n",
       " 20.3478729686016,\n",
       " 20.266880306249,\n",
       " 20.105719610091697,\n",
       " 20.471933095298102,\n",
       " 20.1750046772639,\n",
       " 19.4494784745785,\n",
       " 19.5087047137039,\n",
       " 19.603572883438698,\n",
       " 19.478026004217803,\n",
       " 18.9576435024889,\n",
       " 19.0560269540732,\n",
       " 18.2948056259689,\n",
       " 16.8188684811099,\n",
       " 17.4341958733314,\n",
       " 16.599403740534,\n",
       " 15.7711446187591,\n",
       " 16.1029578354008,\n",
       " 16.0263790723251,\n",
       " 15.535342110601,\n",
       " 15.131746815811901,\n",
       " 14.8058824221278,\n",
       " 15.2408745833286]"
      ]
     },
     "execution_count": 40,
     "metadata": {},
     "output_type": "execute_result"
    }
   ],
   "source": [
    "co2List = [float(co2) for co2 in co2]\n",
    "co2List"
   ]
  },
  {
   "cell_type": "markdown",
   "metadata": {},
   "source": [
    "Okay, much better, so a size-1 array, is a column vector. These are the only types of arrays that can be converted to Python scalars."
   ]
  },
  {
   "cell_type": "code",
   "execution_count": 42,
   "metadata": {},
   "outputs": [
    {
     "name": "stdout",
     "output_type": "stream",
     "text": [
      "<class 'list'>\n",
      "29\n"
     ]
    }
   ],
   "source": [
    "print(type(co2List))\n",
    "print(len(co2List))"
   ]
  },
  {
   "cell_type": "code",
   "execution_count": 43,
   "metadata": {},
   "outputs": [
    {
     "data": {
      "text/plain": [
       "[1990,\n",
       " 1991,\n",
       " 1992,\n",
       " 1993,\n",
       " 1994,\n",
       " 1995,\n",
       " 1996,\n",
       " 1997,\n",
       " 1998,\n",
       " 1999,\n",
       " 2000,\n",
       " 2001,\n",
       " 2002,\n",
       " 2003,\n",
       " 2004,\n",
       " 2005,\n",
       " 2006,\n",
       " 2007,\n",
       " 2008,\n",
       " 2009,\n",
       " 2010,\n",
       " 2011,\n",
       " 2012,\n",
       " 2013,\n",
       " 2014,\n",
       " 2015,\n",
       " 2016,\n",
       " 2017,\n",
       " 2018]"
      ]
     },
     "execution_count": 43,
     "metadata": {},
     "output_type": "execute_result"
    }
   ],
   "source": [
    "# Change years from string to integer to facilitate plotting...\n",
    "years = [int(years) for years in years]\n",
    "years"
   ]
  },
  {
   "cell_type": "markdown",
   "metadata": {},
   "source": [
    "## Plot"
   ]
  },
  {
   "cell_type": "code",
   "execution_count": 44,
   "metadata": {},
   "outputs": [
    {
     "data": {
      "text/plain": [
       "(10.0, 20.0)"
      ]
     },
     "execution_count": 44,
     "metadata": {},
     "output_type": "execute_result"
    },
    {
     "data": {
      "image/png": "[encoded data removed]",
      "text/plain": [
       "<Figure size 432x288 with 1 Axes>"
      ]
     },
     "metadata": {
      "needs_background": "light"
     },
     "output_type": "display_data"
    }
   ],
   "source": [
    "plt.bar(years, co2List) # Test the plot, okay, so plotting two lists works....\n",
    "plt.ylim([10,20]) # Set y-axis range limit"
   ]
  },
  {
   "cell_type": "markdown",
   "metadata": {},
   "source": [
    "It can be seen that CO2 emssions has dropped over time, but the graphic should be more appealing and interpretable."
   ]
  },
  {
   "cell_type": "code",
   "execution_count": 45,
   "metadata": {},
   "outputs": [
    {
     "data": {
      "image/png": "[encoded data removed]",
      "text/plain": [
       "<Figure size 432x288 with 1 Axes>"
      ]
     },
     "metadata": {
      "needs_background": "light"
     },
     "output_type": "display_data"
    }
   ],
   "source": [
    "# Switch to a line plot\n",
    "plt.plot(years, co2List)\n",
    "\n",
    "# Label the axes\n",
    "plt.xlabel('Year', fontsize = 16) # xlabel is a method on the plot\n",
    "plt.ylabel(stage['Indicator Name'].iloc[0], fontsize = 12)\n",
    "\n",
    "# Title\n",
    "plt.title('CO2 Emissions in USA', fontsize = 20)\n",
    "\n",
    "# Adjust the axis\n",
    "plt.axis([1990,2017,0,25]);\n",
    "\n",
    "# Adjust x-axis ticks\n",
    "#plt.xticks(np.arange(min(years), max(years), 3));"
   ]
  },
  {
   "cell_type": "markdown",
   "metadata": {},
   "source": [
    "### Histogram to explore distribution"
   ]
  },
  {
   "cell_type": "markdown",
   "metadata": {},
   "source": [
    "### Calculate bins using square-root method\n",
    "$ k = \\lceil sqrt(n) \\rceil $\n",
    "\n",
    "Where $\\lceil$ and $\\rceil$ indicate the celing function (the smallest integer >= input argument), and $n$ is the sample size."
   ]
  },
  {
   "cell_type": "code",
   "execution_count": 46,
   "metadata": {},
   "outputs": [
    {
     "data": {
      "text/plain": [
       "6"
      ]
     },
     "execution_count": 46,
     "metadata": {},
     "output_type": "execute_result"
    }
   ],
   "source": [
    "import math\n",
    "k = math.ceil(math.sqrt(len(co2List)))\n",
    "k"
   ]
  },
  {
   "cell_type": "code",
   "execution_count": 47,
   "metadata": {},
   "outputs": [
    {
     "data": {
      "text/plain": [
       "Text(0, 0.5, '# of Years')"
      ]
     },
     "execution_count": 47,
     "metadata": {},
     "output_type": "execute_result"
    },
    {
     "data": {
      "image/png": "[encoded data removed]",
      "text/plain": [
       "<Figure size 432x288 with 1 Axes>"
      ]
     },
     "metadata": {
      "needs_background": "light"
     },
     "output_type": "display_data"
    }
   ],
   "source": [
    "plt.hist(co2List, k, facecolor = 'green', edgecolor = 'white')\n",
    "\n",
    "plt.title('CO2 Emissions Frequency by Year')\n",
    "plt.xlabel(stage['Indicator Name'].iloc[0])\n",
    "plt.ylabel('# of Years')\n",
    "#plt.grid(True)"
   ]
  },
  {
   "cell_type": "markdown",
   "metadata": {},
   "source": [
    "The USA has several years where its CO2 emissions were 19 metric tons per capita or greater."
   ]
  },
  {
   "cell_type": "markdown",
   "metadata": {},
   "source": [
    "### How does the USA CO2 emissions compare to other countries?"
   ]
  },
  {
   "cell_type": "code",
   "execution_count": 48,
   "metadata": {},
   "outputs": [
    {
     "name": "stdout",
     "output_type": "stream",
     "text": [
      "0            18.491344\n",
      "1             7.180364\n",
      "2            38.670044\n",
      "3            40.261358\n",
      "4            25.345111\n",
      "              ...     \n",
      "384365             NaN\n",
      "384366             NaN\n",
      "384367             NaN\n",
      "384368       59.900000\n",
      "384369    12000.000000\n",
      "Name: 2017, Length: 384370, dtype: float64\n",
      "(384370,)\n"
     ]
    }
   ],
   "source": [
    "test = data['2017']\n",
    "print(test)\n",
    "print(test.shape)"
   ]
  },
  {
   "cell_type": "code",
   "execution_count": 49,
   "metadata": {},
   "outputs": [
    {
     "name": "stdout",
     "output_type": "stream",
     "text": [
      "0         False\n",
      "1         False\n",
      "2         False\n",
      "3         False\n",
      "4         False\n",
      "          ...  \n",
      "384365    False\n",
      "384366    False\n",
      "384367    False\n",
      "384368    False\n",
      "384369    False\n",
      "Name: Indicator Name, Length: 384370, dtype: bool\n",
      "<class 'pandas.core.series.Series'>\n",
      "(384370,)\n"
     ]
    }
   ],
   "source": [
    "test2 = data['Indicator Name'].str.contains('CO2 emissions (metric', regex = False)\n",
    "#test2 = data['Indicator Name']\n",
    "print(test2)\n",
    "print(type(test2))\n",
    "print(test2.shape)"
   ]
  },
  {
   "cell_type": "code",
   "execution_count": 50,
   "metadata": {},
   "outputs": [
    {
     "data": {
      "text/plain": [
       "True"
      ]
     },
     "execution_count": 50,
     "metadata": {},
     "output_type": "execute_result"
    }
   ],
   "source": [
    "# Is there True elements in test2? \n",
    "True in test2"
   ]
  },
  {
   "cell_type": "code",
   "execution_count": 51,
   "metadata": {},
   "outputs": [
    {
     "name": "stdout",
     "output_type": "stream",
     "text": [
      "                          Country Name Country Code  \\\n",
      "193        Africa Eastern and Southern          AFE   \n",
      "1638        Africa Western and Central          AFW   \n",
      "3083                        Arab World          ARB   \n",
      "4528            Caribbean small states          CSS   \n",
      "5973    Central Europe and the Baltics          CEB   \n",
      "...                                ...          ...   \n",
      "377338           Virgin Islands (U.S.)          VIR   \n",
      "378783              West Bank and Gaza          PSE   \n",
      "380228                     Yemen, Rep.          YEM   \n",
      "381673                          Zambia          ZMB   \n",
      "383118                        Zimbabwe          ZWE   \n",
      "\n",
      "                                Indicator Name  Indicator Code  1960  1961  \\\n",
      "193     CO2 emissions (metric tons per capita)  EN.ATM.CO2E.PC   NaN   NaN   \n",
      "1638    CO2 emissions (metric tons per capita)  EN.ATM.CO2E.PC   NaN   NaN   \n",
      "3083    CO2 emissions (metric tons per capita)  EN.ATM.CO2E.PC   NaN   NaN   \n",
      "4528    CO2 emissions (metric tons per capita)  EN.ATM.CO2E.PC   NaN   NaN   \n",
      "5973    CO2 emissions (metric tons per capita)  EN.ATM.CO2E.PC   NaN   NaN   \n",
      "...                                        ...             ...   ...   ...   \n",
      "377338  CO2 emissions (metric tons per capita)  EN.ATM.CO2E.PC   NaN   NaN   \n",
      "378783  CO2 emissions (metric tons per capita)  EN.ATM.CO2E.PC   NaN   NaN   \n",
      "380228  CO2 emissions (metric tons per capita)  EN.ATM.CO2E.PC   NaN   NaN   \n",
      "381673  CO2 emissions (metric tons per capita)  EN.ATM.CO2E.PC   NaN   NaN   \n",
      "383118  CO2 emissions (metric tons per capita)  EN.ATM.CO2E.PC   NaN   NaN   \n",
      "\n",
      "        1962  1963  1964  1965  ...      2013      2014      2015      2016  \\\n",
      "193      NaN   NaN   NaN   NaN  ...  1.031833  1.041145  0.987393  0.971016   \n",
      "1638     NaN   NaN   NaN   NaN  ...  0.504655  0.507671  0.480743  0.472959   \n",
      "3083     NaN   NaN   NaN   NaN  ...  4.495194  4.600191  4.617964  4.570308   \n",
      "4528     NaN   NaN   NaN   NaN  ...  5.811901  5.605398  5.462327  5.032063   \n",
      "5973     NaN   NaN   NaN   NaN  ...  6.326935  6.142063  6.249983  6.372490   \n",
      "...      ...   ...   ...   ...  ...       ...       ...       ...       ...   \n",
      "377338   NaN   NaN   NaN   NaN  ...       NaN       NaN       NaN       NaN   \n",
      "378783   NaN   NaN   NaN   NaN  ...       NaN       NaN       NaN       NaN   \n",
      "380228   NaN   NaN   NaN   NaN  ...  1.047834  1.034330  0.536269  0.400468   \n",
      "381673   NaN   NaN   NaN   NaN  ...  0.284058  0.311693  0.319282  0.341615   \n",
      "383118   NaN   NaN   NaN   NaN  ...  0.925816  0.894256  0.897598  0.783303   \n",
      "\n",
      "            2017      2018  2019  2020  2021  Unnamed: 66  \n",
      "193     0.959978  0.933541   NaN   NaN   NaN          NaN  \n",
      "1638    0.476438  0.515544   NaN   NaN   NaN          NaN  \n",
      "3083    4.528351  4.438716   NaN   NaN   NaN          NaN  \n",
      "4528    4.876311  5.017034   NaN   NaN   NaN          NaN  \n",
      "5973    6.625944  6.597232   NaN   NaN   NaN          NaN  \n",
      "...          ...       ...   ...   ...   ...          ...  \n",
      "377338       NaN       NaN   NaN   NaN   NaN          NaN  \n",
      "378783       NaN       NaN   NaN   NaN   NaN          NaN  \n",
      "380228  0.361418  0.326682   NaN   NaN   NaN          NaN  \n",
      "381673  0.414748  0.446065   NaN   NaN   NaN          NaN  \n",
      "383118  0.718570  0.849793   NaN   NaN   NaN          NaN  \n",
      "\n",
      "[266 rows x 67 columns]\n",
      "<class 'pandas.core.frame.DataFrame'>\n",
      "(266, 67)\n",
      "17822\n",
      "2\n"
     ]
    }
   ],
   "source": [
    "co2Only = data[test2]\n",
    "print(co2Only)\n",
    "print(type(co2Only))\n",
    "print(co2Only.shape)\n",
    "print(co2Only.size)\n",
    "print(co2Only.ndim)"
   ]
  },
  {
   "cell_type": "code",
   "execution_count": 52,
   "metadata": {},
   "outputs": [
    {
     "name": "stdout",
     "output_type": "stream",
     "text": [
      "<class 'pandas.core.series.Series'>\n"
     ]
    }
   ],
   "source": [
    "data['2018'].dropna(axis=0)\n",
    "print(type(data['2018'].dropna(axis=0)))"
   ]
  },
  {
   "cell_type": "code",
   "execution_count": 53,
   "metadata": {},
   "outputs": [
    {
     "name": "stdout",
     "output_type": "stream",
     "text": [
      "193     0.933541\n",
      "1638    0.515544\n",
      "3083    4.438716\n",
      "4528    5.017034\n",
      "5973    6.597232\n",
      "Name: 2018, dtype: float64\n",
      "<class 'pandas.core.series.Series'>\n",
      "(239,)\n",
      "float64\n",
      "1\n",
      "239\n",
      "Int64Index([   193,   1638,   3083,   4528,   5973,   7418,   8863,  10308,\n",
      "             11753,  13198,\n",
      "            ...\n",
      "            367223, 368668, 370113, 371558, 373003, 374448, 375893, 380228,\n",
      "            381673, 383118],\n",
      "           dtype='int64', length=239)\n"
     ]
    }
   ],
   "source": [
    "# Select CO2 emissions for all countries for the last year in the range of the current analysis (2017).\n",
    "hist_indicator = 'CO2 emissions (metric'\n",
    "hist_year = '2018'\n",
    "\n",
    "mask1 = data['Indicator Name'].str.contains(hist_indicator, regex = False) # The column indicator 'Indicator Name' found\n",
    "# in 'data' DataFrame with elements that contain the string 'x'.\n",
    "#mask2 = data['Year'].isin([hist_year]) # use isin() method\n",
    "#mask2 = data['2017']\n",
    "data2018 = data[hist_year] # Query only the specified year\n",
    "\n",
    "#mask2 = data[hist_year].dropna(axis=0)\n",
    "\n",
    "# Apply mask\n",
    "co2_2018 = data2018[mask1].dropna(axis=0) # Drop ROWS that contain NaN\n",
    "#co2_2017 = data[mask1 & mask2]\n",
    "print(co2_2018.head())\n",
    "print(type(co2_2018)) # The type of object, and the class that it's derived from\n",
    "print(co2_2018.shape) # a tuple of the shape of the underlying data.\n",
    "print(co2_2018.dtype) # dtype object of the underlying data.\n",
    "print(co2_2018.ndim) # # of dimensions of the underlying data.\n",
    "print(co2_2018.size) # # of elements in the underlying data.\n",
    "print(co2_2018.index) # The index (axis labels) of the Series."
   ]
  },
  {
   "cell_type": "code",
   "execution_count": 54,
   "metadata": {},
   "outputs": [
    {
     "name": "stdout",
     "output_type": "stream",
     "text": [
      "(239,)\n",
      "int64\n",
      "1\n",
      "239\n",
      "<class 'pandas.core.indexes.numeric.Int64Index'>\n"
     ]
    }
   ],
   "source": [
    "# Okay, so now I've got a pandas Series of the CO2 emissions per capita for all countries in the dataset for the year 2018.\n",
    "# Now what? Plot the data to visualize how the US compares to others... duh\n",
    "\n",
    "#plt.bar(country, CO2 emissions)\n",
    "# How to get country? I need a way to query the indices from co2_2018, i.e., I need the KEYS\n",
    "countryKeys = co2_2018.keys() # use dictionary-like Python method keys() to query\n",
    "print(countryKeys.shape)\n",
    "print(countryKeys.dtype)\n",
    "print(countryKeys.ndim)\n",
    "print(countryKeys.size)\n",
    "print(type(countryKeys))"
   ]
  },
  {
   "cell_type": "code",
   "execution_count": 55,
   "metadata": {},
   "outputs": [
    {
     "data": {
      "text/plain": [
       "193          Africa Eastern and Southern\n",
       "1638          Africa Western and Central\n",
       "3083                          Arab World\n",
       "4528              Caribbean small states\n",
       "5973      Central Europe and the Baltics\n",
       "                       ...              \n",
       "374448                     Venezuela, RB\n",
       "375893                           Vietnam\n",
       "380228                       Yemen, Rep.\n",
       "381673                            Zambia\n",
       "383118                          Zimbabwe\n",
       "Name: Country Name, Length: 239, dtype: object"
      ]
     },
     "execution_count": 55,
     "metadata": {},
     "output_type": "execute_result"
    }
   ],
   "source": [
    "countries = data['Country Name'].loc[countryKeys] # Query the column 'Country Name' in DataFrame 'data', and slice into it\n",
    "# using the loc[] attribute that slices by referencing the explicit index (which is the index assigned label found in the\n",
    "# dataframe), whereas an implicit Python-style index would reference the index from the array dimensions.\n",
    "countries"
   ]
  },
  {
   "cell_type": "code",
   "execution_count": 56,
   "metadata": {},
   "outputs": [
    {
     "data": {
      "text/plain": [
       "<BarContainer object of 239 artists>"
      ]
     },
     "execution_count": 56,
     "metadata": {},
     "output_type": "execute_result"
    },
    {
     "data": {
      "image/png": "[encoded data removed]",
      "text/plain": [
       "<Figure size 432x288 with 1 Axes>"
      ]
     },
     "metadata": {
      "needs_background": "light"
     },
     "output_type": "display_data"
    }
   ],
   "source": [
    "# Raw data plot\n",
    "plt.bar(countries, co2_2018)"
   ]
  },
  {
   "cell_type": "code",
   "execution_count": 57,
   "metadata": {},
   "outputs": [
    {
     "name": "stdout",
     "output_type": "stream",
     "text": [
      "<class 'pandas.core.frame.DataFrame'>\n",
      "239\n",
      "(239, 2)\n"
     ]
    },
    {
     "data": {
      "text/html": [
       "<div>\n",
       "<style scoped>\n",
       "    .dataframe tbody tr th:only-of-type {\n",
       "        vertical-align: middle;\n",
       "    }\n",
       "\n",
       "    .dataframe tbody tr th {\n",
       "        vertical-align: top;\n",
       "    }\n",
       "\n",
       "    .dataframe thead th {\n",
       "        text-align: right;\n",
       "    }\n",
       "</style>\n",
       "<table border=\"1\" class=\"dataframe\">\n",
       "  <thead>\n",
       "    <tr style=\"text-align: right;\">\n",
       "      <th></th>\n",
       "      <th>Country</th>\n",
       "      <th>CO2 emissions per capita - 2018</th>\n",
       "    </tr>\n",
       "  </thead>\n",
       "  <tbody>\n",
       "    <tr>\n",
       "      <th>193</th>\n",
       "      <td>Africa Eastern and Southern</td>\n",
       "      <td>0.933541</td>\n",
       "    </tr>\n",
       "    <tr>\n",
       "      <th>1638</th>\n",
       "      <td>Africa Western and Central</td>\n",
       "      <td>0.515544</td>\n",
       "    </tr>\n",
       "    <tr>\n",
       "      <th>3083</th>\n",
       "      <td>Arab World</td>\n",
       "      <td>4.438716</td>\n",
       "    </tr>\n",
       "    <tr>\n",
       "      <th>4528</th>\n",
       "      <td>Caribbean small states</td>\n",
       "      <td>5.017034</td>\n",
       "    </tr>\n",
       "    <tr>\n",
       "      <th>5973</th>\n",
       "      <td>Central Europe and the Baltics</td>\n",
       "      <td>6.597232</td>\n",
       "    </tr>\n",
       "    <tr>\n",
       "      <th>...</th>\n",
       "      <td>...</td>\n",
       "      <td>...</td>\n",
       "    </tr>\n",
       "    <tr>\n",
       "      <th>374448</th>\n",
       "      <td>Venezuela, RB</td>\n",
       "      <td>4.782755</td>\n",
       "    </tr>\n",
       "    <tr>\n",
       "      <th>375893</th>\n",
       "      <td>Vietnam</td>\n",
       "      <td>2.698806</td>\n",
       "    </tr>\n",
       "    <tr>\n",
       "      <th>380228</th>\n",
       "      <td>Yemen, Rep.</td>\n",
       "      <td>0.326682</td>\n",
       "    </tr>\n",
       "    <tr>\n",
       "      <th>381673</th>\n",
       "      <td>Zambia</td>\n",
       "      <td>0.446065</td>\n",
       "    </tr>\n",
       "    <tr>\n",
       "      <th>383118</th>\n",
       "      <td>Zimbabwe</td>\n",
       "      <td>0.849793</td>\n",
       "    </tr>\n",
       "  </tbody>\n",
       "</table>\n",
       "<p>239 rows × 2 columns</p>\n",
       "</div>"
      ],
      "text/plain": [
       "                               Country  CO2 emissions per capita - 2018\n",
       "193        Africa Eastern and Southern                         0.933541\n",
       "1638        Africa Western and Central                         0.515544\n",
       "3083                        Arab World                         4.438716\n",
       "4528            Caribbean small states                         5.017034\n",
       "5973    Central Europe and the Baltics                         6.597232\n",
       "...                                ...                              ...\n",
       "374448                   Venezuela, RB                         4.782755\n",
       "375893                         Vietnam                         2.698806\n",
       "380228                     Yemen, Rep.                         0.326682\n",
       "381673                          Zambia                         0.446065\n",
       "383118                        Zimbabwe                         0.849793\n",
       "\n",
       "[239 rows x 2 columns]"
      ]
     },
     "execution_count": 57,
     "metadata": {},
     "output_type": "execute_result"
    }
   ],
   "source": [
    "# What is the CO2 emissions of the USA?\n",
    "#USAkey = countries[193]\n",
    "#USAkey = countries.keys('Africa Eastern and Southern')\n",
    "\n",
    "# Construct a new dataframe\n",
    "df = pd.DataFrame({'Country': countries,'CO2 emissions per capita - 2018': co2_2018})\n",
    "\n",
    "print(type(df))\n",
    "print(len(df))\n",
    "print(df.shape)\n",
    "df"
   ]
  },
  {
   "cell_type": "code",
   "execution_count": 58,
   "metadata": {},
   "outputs": [
    {
     "data": {
      "text/html": [
       "<div>\n",
       "<style scoped>\n",
       "    .dataframe tbody tr th:only-of-type {\n",
       "        vertical-align: middle;\n",
       "    }\n",
       "\n",
       "    .dataframe tbody tr th {\n",
       "        vertical-align: top;\n",
       "    }\n",
       "\n",
       "    .dataframe thead th {\n",
       "        text-align: right;\n",
       "    }\n",
       "</style>\n",
       "<table border=\"1\" class=\"dataframe\">\n",
       "  <thead>\n",
       "    <tr style=\"text-align: right;\">\n",
       "      <th></th>\n",
       "      <th>Country</th>\n",
       "      <th>CO2 emissions per capita - 2018</th>\n",
       "    </tr>\n",
       "  </thead>\n",
       "  <tbody>\n",
       "    <tr>\n",
       "      <th>368668</th>\n",
       "      <td>United States</td>\n",
       "      <td>15.240875</td>\n",
       "    </tr>\n",
       "  </tbody>\n",
       "</table>\n",
       "</div>"
      ],
      "text/plain": [
       "              Country  CO2 emissions per capita - 2018\n",
       "368668  United States                        15.240875"
      ]
     },
     "execution_count": 58,
     "metadata": {},
     "output_type": "execute_result"
    }
   ],
   "source": [
    "# Masking - filter out USA\n",
    "USA_emissions = df[(df['Country'] == 'United States')]\n",
    "USA_emissions"
   ]
  },
  {
   "cell_type": "code",
   "execution_count": 59,
   "metadata": {},
   "outputs": [
    {
     "data": {
      "text/plain": [
       "15.2408745833286"
      ]
     },
     "execution_count": 59,
     "metadata": {},
     "output_type": "execute_result"
    }
   ],
   "source": [
    "# Extract value\n",
    "USA_emissionsValue = USA_emissions.iloc[0,1] # Use the iloc[] attribute to slice into the dataframe by referencing \n",
    "# the implicit Python-style index, index 0 refers to row 1, index 1 refers to column 2\n",
    "#USA_emissions.loc[368668]\n",
    "USA_emissionsValue"
   ]
  },
  {
   "cell_type": "code",
   "execution_count": 60,
   "metadata": {},
   "outputs": [
    {
     "data": {
      "text/html": [
       "<div>\n",
       "<style scoped>\n",
       "    .dataframe tbody tr th:only-of-type {\n",
       "        vertical-align: middle;\n",
       "    }\n",
       "\n",
       "    .dataframe tbody tr th {\n",
       "        vertical-align: top;\n",
       "    }\n",
       "\n",
       "    .dataframe thead th {\n",
       "        text-align: right;\n",
       "    }\n",
       "</style>\n",
       "<table border=\"1\" class=\"dataframe\">\n",
       "  <thead>\n",
       "    <tr style=\"text-align: right;\">\n",
       "      <th></th>\n",
       "      <th>Country</th>\n",
       "      <th>CO2 emissions per capita - 2018</th>\n",
       "    </tr>\n",
       "  </thead>\n",
       "  <tbody>\n",
       "    <tr>\n",
       "      <th>224168</th>\n",
       "      <td>Kuwait</td>\n",
       "      <td>21.622724</td>\n",
       "    </tr>\n",
       "    <tr>\n",
       "      <th>300753</th>\n",
       "      <td>Qatar</td>\n",
       "      <td>32.415639</td>\n",
       "    </tr>\n",
       "    <tr>\n",
       "      <th>365778</th>\n",
       "      <td>United Arab Emirates</td>\n",
       "      <td>20.797498</td>\n",
       "    </tr>\n",
       "  </tbody>\n",
       "</table>\n",
       "</div>"
      ],
      "text/plain": [
       "                     Country  CO2 emissions per capita - 2018\n",
       "224168                Kuwait                        21.622724\n",
       "300753                 Qatar                        32.415639\n",
       "365778  United Arab Emirates                        20.797498"
      ]
     },
     "execution_count": 60,
     "metadata": {},
     "output_type": "execute_result"
    }
   ],
   "source": [
    "# What is the country(ies) with the heighest emissions?\n",
    "highestCO2_countries = df[(df['CO2 emissions per capita - 2018'] > 20)]\n",
    "highestCO2_countries"
   ]
  },
  {
   "cell_type": "code",
   "execution_count": 61,
   "metadata": {},
   "outputs": [],
   "source": [
    "Kuwait_eV = highestCO2_countries.iloc[0,1]\n",
    "Qatar_eV = highestCO2_countries.iloc[1,1]\n",
    "UAE_eV = highestCO2_countries.iloc[2,1]"
   ]
  },
  {
   "cell_type": "code",
   "execution_count": 62,
   "metadata": {},
   "outputs": [
    {
     "data": {
      "text/html": [
       "<div>\n",
       "<style scoped>\n",
       "    .dataframe tbody tr th:only-of-type {\n",
       "        vertical-align: middle;\n",
       "    }\n",
       "\n",
       "    .dataframe tbody tr th {\n",
       "        vertical-align: top;\n",
       "    }\n",
       "\n",
       "    .dataframe thead th {\n",
       "        text-align: right;\n",
       "    }\n",
       "</style>\n",
       "<table border=\"1\" class=\"dataframe\">\n",
       "  <thead>\n",
       "    <tr style=\"text-align: right;\">\n",
       "      <th></th>\n",
       "      <th>Country</th>\n",
       "      <th>CO2 emissions per capita - 2018</th>\n",
       "    </tr>\n",
       "  </thead>\n",
       "  <tbody>\n",
       "    <tr>\n",
       "      <th>254513</th>\n",
       "      <td>Mexico</td>\n",
       "      <td>3.741478</td>\n",
       "    </tr>\n",
       "  </tbody>\n",
       "</table>\n",
       "</div>"
      ],
      "text/plain": [
       "       Country  CO2 emissions per capita - 2018\n",
       "254513  Mexico                         3.741478"
      ]
     },
     "execution_count": 62,
     "metadata": {},
     "output_type": "execute_result"
    }
   ],
   "source": [
    "# Where is Mexico in all of this?\n",
    "Mx_emissions = df[(df['Country'] == 'Mexico')]\n",
    "Mx_emissions"
   ]
  },
  {
   "cell_type": "code",
   "execution_count": 63,
   "metadata": {},
   "outputs": [],
   "source": [
    "Mx_eV = Mx_emissions.iloc[0,1]"
   ]
  },
  {
   "cell_type": "code",
   "execution_count": 64,
   "metadata": {},
   "outputs": [
    {
     "data": {
      "text/plain": [
       "Text(0.5, 1.0, 'Histogram of CO2 Emissions per Capita')"
      ]
     },
     "execution_count": 64,
     "metadata": {},
     "output_type": "execute_result"
    },
    {
     "data": {
      "image/png": "[encoded data removed]",
      "text/plain": [
       "<Figure size 432x288 with 1 Axes>"
      ]
     },
     "metadata": {
      "needs_background": "light"
     },
     "output_type": "display_data"
    }
   ],
   "source": [
    "# Histogram of the emissions per capita by country\n",
    "\n",
    "# Create just a figure and only one subplot\n",
    "fig, ax = plt.subplots() # subplots returns a tuple with the figure, axis attributes\n",
    "# What is a tuple? A tuple is a type of Python array. It is a collection which is ordered and unchangeable. Allows\n",
    "# duplicate members.\n",
    "# A list is ordered and changeable. Allows duplicate members.\n",
    "# https://www.w3schools.com/python/python_tuples.asp\n",
    "# Even though only one plot is being created, subplots() function is used because this function returns two arguments\n",
    "# figure and axes.Axes, where the latter can be either a single Axes object or an array of Axes objects if more than one\n",
    "# subplot was created.\n",
    "# https://matplotlib.org/stable/api/_as_gen/matplotlib.pyplot.subplots.html?highlight=subplots#matplotlib.pyplot.subplots\n",
    "\n",
    "# Annotate the figure with an arrow indicating where the USA lies in the distribution\n",
    "# annotate is a Python method in matplotlib.axes.Axes.annotate;\n",
    "# https://matplotlib.org/stable/api/_as_gen/matplotlib.axes.Axes.annotate.html?highlight=annotate#matplotlib.axes.Axes.annotate\n",
    "# Annotate the point xy with text text.\n",
    "ax.annotate(\"USA\",\n",
    "           xy=(USA_emissionsValue, 10), xycoords='data',\n",
    "           xytext=(USA_emissionsValue,30), textcoords='data',\n",
    "           arrowprops=dict(arrowstyle=\"->\",\n",
    "                          connectionstyle=\"arc3\"),\n",
    "           )\n",
    "\n",
    "ax.annotate(\"Kuwait\",\n",
    "           xy=(Kuwait_eV, 5), xycoords = 'data',\n",
    "           xytext=(Kuwait_eV, 20), textcoords='data',\n",
    "            arrowprops=dict(arrowstyle=\"->\",\n",
    "                           connectionstyle=\"arc3\"),\n",
    "           )\n",
    "\n",
    "ax.annotate(\"UAE\",\n",
    "           xy=(Kuwait_eV, 5), xycoords = 'data',\n",
    "           xytext=(Kuwait_eV, 28), textcoords='data',\n",
    "           )\n",
    "\n",
    "ax.annotate(\"Qatar\",\n",
    "           xy=(Qatar_eV-1.4, 2), xycoords = 'data',\n",
    "           xytext=(Qatar_eV-1.4, 15), textcoords='data',\n",
    "            arrowprops=dict(arrowstyle=\"->\",\n",
    "                            connectionstyle=\"arc3\"),\n",
    "           )\n",
    "# Subtracting 1.4 from the Qatar value to shift the text to the left.\n",
    "\n",
    "ax.annotate(\"Mexico\",\n",
    "           xy=(Mx_eV, 50), xycoords = 'data',\n",
    "           xytext=(Mx_eV, 60), textcoords='data',\n",
    "            arrowprops=dict(arrowstyle=\"->\",\n",
    "                            connectionstyle=\"arc3\"),\n",
    "           )\n",
    "            \n",
    "# Note that 'data' in xycoords and textcoords is simply the option assigned to those two parameters, it is not referring\n",
    "# to the Pandas dataframe 'data' -- see the doc.\n",
    "\n",
    "# # of bins\n",
    "k = math.ceil(math.sqrt(len(co2_2018)))\n",
    "\n",
    "plt.hist(co2_2018, k, facecolor = 'green', edgecolor = 'white')\n",
    "\n",
    "plt.xlabel(stage['Indicator Name'].iloc[0]) # Query column 'Indicator Name' in the stage DataFrame, and extract the location\n",
    "# of element 0 by using the implicit index 0 (Pthon-style index, where 0 references element 1 in the array)\n",
    "\n",
    "plt.ylabel('Number of Countries')\n",
    "plt.title('Histogram of CO2 Emissions per Capita')"
   ]
  },
  {
   "cell_type": "markdown",
   "metadata": {},
   "source": [
    "## Matplotlib: Basic Plotting, Part 2"
   ]
  },
  {
   "cell_type": "markdown",
   "metadata": {},
   "source": [
    "### Relationship between GDP and CO2 emissions in USA\n",
    "\n",
    "What is GDP? -- A monetary measure of the market value of all the final goods and services produced in a specific time period by the country being queried."
   ]
  },
  {
   "cell_type": "code",
   "execution_count": 65,
   "metadata": {},
   "outputs": [],
   "source": [
    "# Select GDP per capita for the US\n",
    "hist_indicator = 'GDP per capita (constant 2015'\n",
    "hist_country = 'USA'\n",
    "\n",
    "mask1 = data['Indicator Name'].str.contains(hist_indicator, regex=False)\n",
    "mask2 = data['Country Code'].str.contains(hist_country)\n",
    "\n",
    "gdp_stage = data[mask1 & mask2]"
   ]
  },
  {
   "cell_type": "code",
   "execution_count": 66,
   "metadata": {},
   "outputs": [
    {
     "data": {
      "text/html": [
       "<div>\n",
       "<style scoped>\n",
       "    .dataframe tbody tr th:only-of-type {\n",
       "        vertical-align: middle;\n",
       "    }\n",
       "\n",
       "    .dataframe tbody tr th {\n",
       "        vertical-align: top;\n",
       "    }\n",
       "\n",
       "    .dataframe thead th {\n",
       "        text-align: right;\n",
       "    }\n",
       "</style>\n",
       "<table border=\"1\" class=\"dataframe\">\n",
       "  <thead>\n",
       "    <tr style=\"text-align: right;\">\n",
       "      <th></th>\n",
       "      <th>Country Name</th>\n",
       "      <th>Country Code</th>\n",
       "      <th>Indicator Name</th>\n",
       "      <th>Indicator Code</th>\n",
       "      <th>1960</th>\n",
       "      <th>1961</th>\n",
       "      <th>1962</th>\n",
       "      <th>1963</th>\n",
       "      <th>1964</th>\n",
       "      <th>1965</th>\n",
       "      <th>...</th>\n",
       "      <th>2013</th>\n",
       "      <th>2014</th>\n",
       "      <th>2015</th>\n",
       "      <th>2016</th>\n",
       "      <th>2017</th>\n",
       "      <th>2018</th>\n",
       "      <th>2019</th>\n",
       "      <th>2020</th>\n",
       "      <th>2021</th>\n",
       "      <th>Unnamed: 66</th>\n",
       "    </tr>\n",
       "  </thead>\n",
       "  <tbody>\n",
       "    <tr>\n",
       "      <th>368946</th>\n",
       "      <td>United States</td>\n",
       "      <td>USA</td>\n",
       "      <td>GDP per capita (constant 2015 US$)</td>\n",
       "      <td>NY.GDP.PCAP.KD</td>\n",
       "      <td>19135.268182</td>\n",
       "      <td>19253.547329</td>\n",
       "      <td>20116.235124</td>\n",
       "      <td>20701.269947</td>\n",
       "      <td>21599.818705</td>\n",
       "      <td>22696.678583</td>\n",
       "      <td>...</td>\n",
       "      <td>54604.130054</td>\n",
       "      <td>55574.356825</td>\n",
       "      <td>56863.371496</td>\n",
       "      <td>57418.933846</td>\n",
       "      <td>58387.775808</td>\n",
       "      <td>59821.592274</td>\n",
       "      <td>60836.771454</td>\n",
       "      <td>58203.379006</td>\n",
       "      <td>NaN</td>\n",
       "      <td>NaN</td>\n",
       "    </tr>\n",
       "  </tbody>\n",
       "</table>\n",
       "<p>1 rows × 67 columns</p>\n",
       "</div>"
      ],
      "text/plain": [
       "         Country Name Country Code                      Indicator Name  \\\n",
       "368946  United States          USA  GDP per capita (constant 2015 US$)   \n",
       "\n",
       "        Indicator Code          1960          1961          1962  \\\n",
       "368946  NY.GDP.PCAP.KD  19135.268182  19253.547329  20116.235124   \n",
       "\n",
       "                1963          1964          1965  ...          2013  \\\n",
       "368946  20701.269947  21599.818705  22696.678583  ...  54604.130054   \n",
       "\n",
       "                2014          2015          2016          2017          2018  \\\n",
       "368946  55574.356825  56863.371496  57418.933846  58387.775808  59821.592274   \n",
       "\n",
       "                2019          2020  2021  Unnamed: 66  \n",
       "368946  60836.771454  58203.379006   NaN          NaN  \n",
       "\n",
       "[1 rows x 67 columns]"
      ]
     },
     "execution_count": 66,
     "metadata": {},
     "output_type": "execute_result"
    }
   ],
   "source": [
    "gdp_stage.head()"
   ]
  },
  {
   "cell_type": "code",
   "execution_count": 67,
   "metadata": {},
   "outputs": [
    {
     "data": {
      "text/html": [
       "<div>\n",
       "<style scoped>\n",
       "    .dataframe tbody tr th:only-of-type {\n",
       "        vertical-align: middle;\n",
       "    }\n",
       "\n",
       "    .dataframe tbody tr th {\n",
       "        vertical-align: top;\n",
       "    }\n",
       "\n",
       "    .dataframe thead th {\n",
       "        text-align: right;\n",
       "    }\n",
       "</style>\n",
       "<table border=\"1\" class=\"dataframe\">\n",
       "  <thead>\n",
       "    <tr style=\"text-align: right;\">\n",
       "      <th></th>\n",
       "      <th>Country Name</th>\n",
       "      <th>Country Code</th>\n",
       "      <th>Indicator Name</th>\n",
       "      <th>Indicator Code</th>\n",
       "      <th>1960</th>\n",
       "      <th>1961</th>\n",
       "      <th>1962</th>\n",
       "      <th>1963</th>\n",
       "      <th>1964</th>\n",
       "      <th>1965</th>\n",
       "      <th>...</th>\n",
       "      <th>2011</th>\n",
       "      <th>2012</th>\n",
       "      <th>2013</th>\n",
       "      <th>2014</th>\n",
       "      <th>2015</th>\n",
       "      <th>2016</th>\n",
       "      <th>2017</th>\n",
       "      <th>2018</th>\n",
       "      <th>2019</th>\n",
       "      <th>2020</th>\n",
       "    </tr>\n",
       "  </thead>\n",
       "  <tbody>\n",
       "    <tr>\n",
       "      <th>368946</th>\n",
       "      <td>United States</td>\n",
       "      <td>USA</td>\n",
       "      <td>GDP per capita (constant 2015 US$)</td>\n",
       "      <td>NY.GDP.PCAP.KD</td>\n",
       "      <td>19135.268182</td>\n",
       "      <td>19253.547329</td>\n",
       "      <td>20116.235124</td>\n",
       "      <td>20701.269947</td>\n",
       "      <td>21599.818705</td>\n",
       "      <td>22696.678583</td>\n",
       "      <td>...</td>\n",
       "      <td>53190.231121</td>\n",
       "      <td>53989.24834</td>\n",
       "      <td>54604.130054</td>\n",
       "      <td>55574.356825</td>\n",
       "      <td>56863.371496</td>\n",
       "      <td>57418.933846</td>\n",
       "      <td>58387.775808</td>\n",
       "      <td>59821.592274</td>\n",
       "      <td>60836.771454</td>\n",
       "      <td>58203.379006</td>\n",
       "    </tr>\n",
       "  </tbody>\n",
       "</table>\n",
       "<p>1 rows × 65 columns</p>\n",
       "</div>"
      ],
      "text/plain": [
       "         Country Name Country Code                      Indicator Name  \\\n",
       "368946  United States          USA  GDP per capita (constant 2015 US$)   \n",
       "\n",
       "        Indicator Code          1960          1961          1962  \\\n",
       "368946  NY.GDP.PCAP.KD  19135.268182  19253.547329  20116.235124   \n",
       "\n",
       "                1963          1964          1965  ...          2011  \\\n",
       "368946  20701.269947  21599.818705  22696.678583  ...  53190.231121   \n",
       "\n",
       "               2012          2013          2014          2015          2016  \\\n",
       "368946  53989.24834  54604.130054  55574.356825  56863.371496  57418.933846   \n",
       "\n",
       "                2017          2018          2019          2020  \n",
       "368946  58387.775808  59821.592274  60836.771454  58203.379006  \n",
       "\n",
       "[1 rows x 65 columns]"
      ]
     },
     "execution_count": 67,
     "metadata": {},
     "output_type": "execute_result"
    }
   ],
   "source": [
    "# Remove columns that contain NaN values\n",
    "gdp_stage = gdp_stage.dropna(axis=1)\n",
    "gdp_stage.head()"
   ]
  },
  {
   "cell_type": "markdown",
   "metadata": {},
   "source": [
    "### First, what is the trend of GDP of the USA?"
   ]
  },
  {
   "cell_type": "code",
   "execution_count": 68,
   "metadata": {},
   "outputs": [
    {
     "name": "stdout",
     "output_type": "stream",
     "text": [
      "61\n",
      "Range: 1960  to  2020\n"
     ]
    }
   ],
   "source": [
    "# Line plot\n",
    "# Plot plt.plot(years, gdp_value)\n",
    "\n",
    "# Get the years\n",
    "gdp_years =  gdp_stage.columns[4:].tolist()\n",
    "print(len(gdp_years))\n",
    "# Range:\n",
    "print(\"Range:\", min(gdp_years), \" to \" , max(gdp_years))"
   ]
  },
  {
   "cell_type": "code",
   "execution_count": 69,
   "metadata": {},
   "outputs": [
    {
     "name": "stdout",
     "output_type": "stream",
     "text": [
      "1\n",
      "<class 'numpy.ndarray'>\n",
      "(1, 61)\n"
     ]
    }
   ],
   "source": [
    "# Get the GDP values\n",
    "gdp = gdp_stage[gdp_years].values # Use the years list to select the corresponding values; this expression will output\n",
    "# a numpy array\n",
    "print(len(gdp))\n",
    "print(type(gdp))\n",
    "print(gdp.shape)"
   ]
  },
  {
   "cell_type": "code",
   "execution_count": 70,
   "metadata": {},
   "outputs": [
    {
     "name": "stdout",
     "output_type": "stream",
     "text": [
      "(61, 1)\n"
     ]
    }
   ],
   "source": [
    "# To plot, both x and y must have same first dimension, therefore gdp needs to be transposed\n",
    "gdp = gdp.T\n",
    "print(gdp.shape)"
   ]
  },
  {
   "cell_type": "code",
   "execution_count": 71,
   "metadata": {},
   "outputs": [
    {
     "name": "stdout",
     "output_type": "stream",
     "text": [
      "<class 'list'>\n",
      "61\n",
      "<class 'int'>\n"
     ]
    }
   ],
   "source": [
    "# To plot, convert the string list to an integer list\n",
    "gdp_years = [int(gdp_years) for gdp_years in gdp_years]\n",
    "print(type(gdp_years))\n",
    "print(len(gdp_years))\n",
    "print(type(gdp_years[0]))"
   ]
  },
  {
   "cell_type": "code",
   "execution_count": 72,
   "metadata": {},
   "outputs": [
    {
     "data": {
      "text/plain": [
       "Text(0.5, 1.0, 'US GDP per Capita')"
      ]
     },
     "execution_count": 72,
     "metadata": {},
     "output_type": "execute_result"
    },
    {
     "data": {
      "image/png": "[encoded data removed]",
      "text/plain": [
       "<Figure size 432x288 with 1 Axes>"
      ]
     },
     "metadata": {
      "needs_background": "light"
     },
     "output_type": "display_data"
    }
   ],
   "source": [
    "plt.plot(gdp_years,gdp)\n",
    "\n",
    "plt.xlabel('Year', fontsize=14)\n",
    "plt.ylabel(gdp_stage['Indicator Name'].iloc[0], fontsize=12)\n",
    "\n",
    "plt.title('US GDP per Capita', fontsize = 18)"
   ]
  },
  {
   "cell_type": "markdown",
   "metadata": {},
   "source": [
    "Is there a correlation between GDP per capita and CO2 emissions?\n",
    "A scatter plot will be used to investigate this question."
   ]
  },
  {
   "cell_type": "markdown",
   "metadata": {},
   "source": [
    "### ScatterPlot to evalute GDP against CO2 emissions per capita."
   ]
  },
  {
   "cell_type": "markdown",
   "metadata": {},
   "source": [
    "Ensure time frames for both indicators match, as a scatterplot requires that the length of the arrays be equal."
   ]
  },
  {
   "cell_type": "code",
   "execution_count": 73,
   "metadata": {},
   "outputs": [
    {
     "name": "stdout",
     "output_type": "stream",
     "text": [
      "GDP range: 1960  to  2020\n",
      "CO2 emissions range: 1990  to  2018\n"
     ]
    }
   ],
   "source": [
    "#print(\"GDP min year = \", gdp_stage.columns[4], \"max = \", gdp_stage.columns[-2])\n",
    "print(\"GDP range:\", min(gdp_years), \" to \" , max(gdp_years))\n",
    "print(\"CO2 emissions range:\", min(years), \" to \" , max(years))"
   ]
  },
  {
   "cell_type": "code",
   "execution_count": 74,
   "metadata": {},
   "outputs": [
    {
     "name": "stdout",
     "output_type": "stream",
     "text": [
      "               1990          1991\n",
      "368946  39278.59535  38715.261688\n",
      "               1990          1991\n",
      "368946  39278.59535  38715.261688\n",
      "                1960          1961          1962\n",
      "368946  19135.268182  19253.547329  20116.235124\n",
      "<class 'pandas.core.frame.DataFrame'>\n"
     ]
    },
    {
     "data": {
      "text/plain": [
       "Index(['1960', '1961'], dtype='object')"
      ]
     },
     "execution_count": 74,
     "metadata": {},
     "output_type": "execute_result"
    }
   ],
   "source": [
    "# Let's truncate (trim off) the gdp_stage on the left and right to match the CO2 emissions indicator range:\n",
    "# How do I do this?? How do I slice this range?\n",
    "\n",
    "test = gdp_stage[['1990','1991']]\n",
    "print(test)\n",
    "# Fancy indexing works well, but it only seems to accept lists?\n",
    "list1 = list(['1990','1991'])\n",
    "test2 = gdp_stage[list1]\n",
    "print(test2)\n",
    "\n",
    "# Okay, cool. Now I need to figure out a way to create a list by specifying the range of years...\n",
    "# https://pandas.pydata.org/pandas-docs/stable/user_guide/indexing.html#slicing-ranges\n",
    "\n",
    "# pandas provides a suite of methods in order to have purely label based indexing. The .loc attribute is the primary\n",
    "# access method. Contrary to typical Python slices, both the start and the stop are included, when present in the index.\n",
    "test3 = gdp_stage.loc[:,'1960':'1962'] # Because I'm slicing columns, place the indices in the column location (after ,).\n",
    "print(test3)\n",
    "print(type(gdp_stage))\n",
    "\n",
    "\n",
    "#gdp_stage_trunc = gdp_stage[['1990','2017']] # When using Double[], this is indexing function is referred to as fancy indexing\n",
    "# or label-based\n",
    "#gdp_stage_trunc = gdp_stage.loc['1990':'2017']\n",
    "gdp_stage_trunc = gdp_stage.columns[4:6]\n",
    "gdp_stage_trunc\n",
    "#gdp_stage_trunc.head()"
   ]
  },
  {
   "cell_type": "code",
   "execution_count": 75,
   "metadata": {},
   "outputs": [
    {
     "data": {
      "text/html": [
       "<div>\n",
       "<style scoped>\n",
       "    .dataframe tbody tr th:only-of-type {\n",
       "        vertical-align: middle;\n",
       "    }\n",
       "\n",
       "    .dataframe tbody tr th {\n",
       "        vertical-align: top;\n",
       "    }\n",
       "\n",
       "    .dataframe thead th {\n",
       "        text-align: right;\n",
       "    }\n",
       "</style>\n",
       "<table border=\"1\" class=\"dataframe\">\n",
       "  <thead>\n",
       "    <tr style=\"text-align: right;\">\n",
       "      <th></th>\n",
       "      <th>1990</th>\n",
       "      <th>1991</th>\n",
       "      <th>1992</th>\n",
       "      <th>1993</th>\n",
       "      <th>1994</th>\n",
       "      <th>1995</th>\n",
       "      <th>1996</th>\n",
       "      <th>1997</th>\n",
       "      <th>1998</th>\n",
       "      <th>1999</th>\n",
       "      <th>...</th>\n",
       "      <th>2009</th>\n",
       "      <th>2010</th>\n",
       "      <th>2011</th>\n",
       "      <th>2012</th>\n",
       "      <th>2013</th>\n",
       "      <th>2014</th>\n",
       "      <th>2015</th>\n",
       "      <th>2016</th>\n",
       "      <th>2017</th>\n",
       "      <th>2018</th>\n",
       "    </tr>\n",
       "  </thead>\n",
       "  <tbody>\n",
       "    <tr>\n",
       "      <th>368946</th>\n",
       "      <td>39278.59535</td>\n",
       "      <td>38715.261688</td>\n",
       "      <td>39526.970805</td>\n",
       "      <td>40082.604815</td>\n",
       "      <td>41189.238357</td>\n",
       "      <td>41794.192213</td>\n",
       "      <td>42869.24717</td>\n",
       "      <td>44212.167041</td>\n",
       "      <td>45658.136598</td>\n",
       "      <td>47282.284676</td>\n",
       "      <td>...</td>\n",
       "      <td>51869.706308</td>\n",
       "      <td>52759.998081</td>\n",
       "      <td>53190.231121</td>\n",
       "      <td>53989.24834</td>\n",
       "      <td>54604.130054</td>\n",
       "      <td>55574.356825</td>\n",
       "      <td>56863.371496</td>\n",
       "      <td>57418.933846</td>\n",
       "      <td>58387.775808</td>\n",
       "      <td>59821.592274</td>\n",
       "    </tr>\n",
       "  </tbody>\n",
       "</table>\n",
       "<p>1 rows × 29 columns</p>\n",
       "</div>"
      ],
      "text/plain": [
       "               1990          1991          1992          1993          1994  \\\n",
       "368946  39278.59535  38715.261688  39526.970805  40082.604815  41189.238357   \n",
       "\n",
       "                1995         1996          1997          1998          1999  \\\n",
       "368946  41794.192213  42869.24717  44212.167041  45658.136598  47282.284676   \n",
       "\n",
       "        ...          2009          2010          2011         2012  \\\n",
       "368946  ...  51869.706308  52759.998081  53190.231121  53989.24834   \n",
       "\n",
       "                2013          2014          2015          2016          2017  \\\n",
       "368946  54604.130054  55574.356825  56863.371496  57418.933846  58387.775808   \n",
       "\n",
       "                2018  \n",
       "368946  59821.592274  \n",
       "\n",
       "[1 rows x 29 columns]"
      ]
     },
     "execution_count": 75,
     "metadata": {},
     "output_type": "execute_result"
    }
   ],
   "source": [
    "# Let's truncate (trim off) the gdp_stage on the left and right to match the CO2 emissions indicator range:\n",
    "# How do I do this?? How do I slice this range?\n",
    "\n",
    "gdp_stage_trunc = gdp_stage.loc[:,'1990':'2018'] # Because I'm slicing columns, place the indices in the column location (after ,).\n",
    "gdp_stage_trunc"
   ]
  },
  {
   "cell_type": "code",
   "execution_count": 76,
   "metadata": {},
   "outputs": [
    {
     "data": {
      "text/html": [
       "<div>\n",
       "<style scoped>\n",
       "    .dataframe tbody tr th:only-of-type {\n",
       "        vertical-align: middle;\n",
       "    }\n",
       "\n",
       "    .dataframe tbody tr th {\n",
       "        vertical-align: top;\n",
       "    }\n",
       "\n",
       "    .dataframe thead th {\n",
       "        text-align: right;\n",
       "    }\n",
       "</style>\n",
       "<table border=\"1\" class=\"dataframe\">\n",
       "  <thead>\n",
       "    <tr style=\"text-align: right;\">\n",
       "      <th></th>\n",
       "      <th>Country Name</th>\n",
       "      <th>Country Code</th>\n",
       "      <th>Indicator Name</th>\n",
       "      <th>Indicator Code</th>\n",
       "      <th>1990</th>\n",
       "      <th>1991</th>\n",
       "      <th>1992</th>\n",
       "      <th>1993</th>\n",
       "      <th>1994</th>\n",
       "      <th>1995</th>\n",
       "      <th>...</th>\n",
       "      <th>2009</th>\n",
       "      <th>2010</th>\n",
       "      <th>2011</th>\n",
       "      <th>2012</th>\n",
       "      <th>2013</th>\n",
       "      <th>2014</th>\n",
       "      <th>2015</th>\n",
       "      <th>2016</th>\n",
       "      <th>2017</th>\n",
       "      <th>2018</th>\n",
       "    </tr>\n",
       "  </thead>\n",
       "  <tbody>\n",
       "    <tr>\n",
       "      <th>368668</th>\n",
       "      <td>United States</td>\n",
       "      <td>USA</td>\n",
       "      <td>CO2 emissions (metric tons per capita)</td>\n",
       "      <td>EN.ATM.CO2E.PC</td>\n",
       "      <td>19.409229</td>\n",
       "      <td>19.005736</td>\n",
       "      <td>19.025082</td>\n",
       "      <td>19.238109</td>\n",
       "      <td>19.280611</td>\n",
       "      <td>19.253938</td>\n",
       "      <td>...</td>\n",
       "      <td>16.818868</td>\n",
       "      <td>17.434196</td>\n",
       "      <td>16.599404</td>\n",
       "      <td>15.771145</td>\n",
       "      <td>16.102958</td>\n",
       "      <td>16.026379</td>\n",
       "      <td>15.535342</td>\n",
       "      <td>15.131747</td>\n",
       "      <td>14.805882</td>\n",
       "      <td>15.240875</td>\n",
       "    </tr>\n",
       "  </tbody>\n",
       "</table>\n",
       "<p>1 rows × 33 columns</p>\n",
       "</div>"
      ],
      "text/plain": [
       "         Country Name Country Code                          Indicator Name  \\\n",
       "368668  United States          USA  CO2 emissions (metric tons per capita)   \n",
       "\n",
       "        Indicator Code       1990       1991       1992       1993       1994  \\\n",
       "368668  EN.ATM.CO2E.PC  19.409229  19.005736  19.025082  19.238109  19.280611   \n",
       "\n",
       "             1995  ...       2009       2010       2011       2012       2013  \\\n",
       "368668  19.253938  ...  16.818868  17.434196  16.599404  15.771145  16.102958   \n",
       "\n",
       "             2014       2015       2016       2017       2018  \n",
       "368668  16.026379  15.535342  15.131747  14.805882  15.240875  \n",
       "\n",
       "[1 rows x 33 columns]"
      ]
     },
     "execution_count": 76,
     "metadata": {},
     "output_type": "execute_result"
    }
   ],
   "source": [
    "stage"
   ]
  },
  {
   "cell_type": "code",
   "execution_count": 77,
   "metadata": {},
   "outputs": [
    {
     "name": "stdout",
     "output_type": "stream",
     "text": [
      "<class 'numpy.ndarray'>\n",
      "(1, 29)\n",
      "(29, 1)\n"
     ]
    }
   ],
   "source": [
    "# Okay, now I need to get the values from both the gdp stage and the co2 stage.\n",
    "\n",
    "# gdp stage values\n",
    "gdp_values = gdp_stage_trunc.values\n",
    "print(type(gdp_values))\n",
    "print(gdp_values.shape)\n",
    "gdp_values = gdp_values.T\n",
    "print(gdp_values.shape)"
   ]
  },
  {
   "cell_type": "code",
   "execution_count": 78,
   "metadata": {},
   "outputs": [
    {
     "name": "stdout",
     "output_type": "stream",
     "text": [
      "<class 'numpy.ndarray'>\n",
      "(1, 29)\n",
      "(29, 1)\n"
     ]
    }
   ],
   "source": [
    "# co2 stage values\n",
    "# Don't I have these already??\n",
    "co2_values = stage.loc[:,'1990':].values\n",
    "print(type(co2_values))\n",
    "print(co2_values.shape)\n",
    "co2_values = co2_values.T\n",
    "print(co2_values.shape)"
   ]
  },
  {
   "cell_type": "code",
   "execution_count": 80,
   "metadata": {},
   "outputs": [
    {
     "data": {
      "text/plain": [
       "Text(0.5, 1.0, 'CO2 Emissions vs. GDP (per capita)')"
      ]
     },
     "execution_count": 80,
     "metadata": {},
     "output_type": "execute_result"
    },
    {
     "data": {
      "image/png": "[encoded data removed]",
      "text/plain": [
       "<Figure size 432x288 with 1 Axes>"
      ]
     },
     "metadata": {
      "needs_background": "light"
     },
     "output_type": "display_data"
    }
   ],
   "source": [
    "# Scatter plot\n",
    "plt.scatter(gdp_values, co2_values)\n",
    "\n",
    "plt.xlabel(gdp_stage['Indicator Name'].iloc[0], fontsize=12)\n",
    "plt.ylabel(stage['Indicator Name'].iloc[0], fontsize=12)\n",
    "plt.title('CO2 Emissions vs. GDP (per capita)', fontsize=16)"
   ]
  },
  {
   "cell_type": "markdown",
   "metadata": {},
   "source": [
    "There doesn't seem to be a very strong correlation between these two indicators; this can be determined more objectively by calculating the correlation."
   ]
  },
  {
   "cell_type": "code",
   "execution_count": 81,
   "metadata": {},
   "outputs": [
    {
     "name": "stderr",
     "output_type": "stream",
     "text": [
      "C:\\Users\\ejoaq\\anaconda3\\lib\\site-packages\\numpy\\lib\\function_base.py:2551: RuntimeWarning: Degrees of freedom <= 0 for slice\n",
      "  c = cov(x, y, rowvar)\n",
      "C:\\Users\\ejoaq\\anaconda3\\lib\\site-packages\\numpy\\lib\\function_base.py:2480: RuntimeWarning: divide by zero encountered in true_divide\n",
      "  c *= np.true_divide(1, fact)\n",
      "C:\\Users\\ejoaq\\anaconda3\\lib\\site-packages\\numpy\\lib\\function_base.py:2480: RuntimeWarning: invalid value encountered in multiply\n",
      "  c *= np.true_divide(1, fact)\n"
     ]
    },
    {
     "data": {
      "text/plain": [
       "array([[nan, nan, nan, ..., nan, nan, nan],\n",
       "       [nan, nan, nan, ..., nan, nan, nan],\n",
       "       [nan, nan, nan, ..., nan, nan, nan],\n",
       "       ...,\n",
       "       [nan, nan, nan, ..., nan, nan, nan],\n",
       "       [nan, nan, nan, ..., nan, nan, nan],\n",
       "       [nan, nan, nan, ..., nan, nan, nan]])"
      ]
     },
     "execution_count": 81,
     "metadata": {},
     "output_type": "execute_result"
    }
   ],
   "source": [
    "corr = np.corrcoef(co2_values, gdp_values)\n",
    "corr"
   ]
  },
  {
   "cell_type": "code",
   "execution_count": 101,
   "metadata": {},
   "outputs": [
    {
     "name": "stdout",
     "output_type": "stream",
     "text": [
      "<class 'numpy.ndarray'>\n",
      "<class 'numpy.ndarray'>\n",
      "(29, 1)\n",
      "(29, 1)\n",
      "[[39278.59534979]\n",
      " [38715.26168764]\n",
      " [39526.97080471]\n",
      " [40082.60481535]\n",
      " [41189.23835729]\n",
      " [41794.19221265]\n",
      " [42869.24716957]\n",
      " [44212.16704137]\n",
      " [45658.13659762]\n",
      " [47282.28467603]\n",
      " [48689.03128986]\n",
      " [48690.80794082]\n",
      " [49081.35878765]\n",
      " [50053.6241041 ]\n",
      " [51476.48878607]\n",
      " [52796.08981626]\n",
      " [53782.29728816]\n",
      " [54272.71955259]\n",
      " [53688.36513514]\n",
      " [51869.70630837]\n",
      " [52759.99808074]\n",
      " [53190.2311214 ]\n",
      " [53989.24833969]\n",
      " [54604.13005448]\n",
      " [55574.35682485]\n",
      " [56863.37149577]\n",
      " [57418.93384645]\n",
      " [58387.77580836]\n",
      " [59821.59227355]]\n",
      "[[19.40922912]\n",
      " [19.00573561]\n",
      " [19.02508245]\n",
      " [19.2381088 ]\n",
      " [19.28061081]\n",
      " [19.25393761]\n",
      " [19.61109008]\n",
      " [20.34787297]\n",
      " [20.26688031]\n",
      " [20.10571961]\n",
      " [20.4719331 ]\n",
      " [20.17500468]\n",
      " [19.44947847]\n",
      " [19.50870471]\n",
      " [19.60357288]\n",
      " [19.478026  ]\n",
      " [18.9576435 ]\n",
      " [19.05602695]\n",
      " [18.29480563]\n",
      " [16.81886848]\n",
      " [17.43419587]\n",
      " [16.59940374]\n",
      " [15.77114462]\n",
      " [16.10295784]\n",
      " [16.02637907]\n",
      " [15.53534211]\n",
      " [15.13174682]\n",
      " [14.80588242]\n",
      " [15.24087458]]\n"
     ]
    }
   ],
   "source": [
    "print(type(gdp_values))\n",
    "print(type(co2_values))\n",
    "print(gdp_values.shape)\n",
    "print(co2_values.shape)\n",
    "print(gdp_values)\n",
    "print(co2_values)"
   ]
  },
  {
   "cell_type": "code",
   "execution_count": 104,
   "metadata": {},
   "outputs": [
    {
     "name": "stdout",
     "output_type": "stream",
     "text": [
      "<class 'float'>\n",
      "39278.5953497875\n"
     ]
    }
   ],
   "source": [
    "# What I need to do is to convert the above array of array elements (?) into an array of float elements\n",
    "gdp_values = [float(gdp_values) for gdp_values in gdp_values]\n",
    "print(type(gdp_values[0]))\n",
    "print((gdp_values[0]))"
   ]
  },
  {
   "cell_type": "code",
   "execution_count": 105,
   "metadata": {},
   "outputs": [
    {
     "name": "stdout",
     "output_type": "stream",
     "text": [
      "<class 'list'>\n",
      "29\n",
      "<class 'float'>\n",
      "19.4092291175092\n"
     ]
    }
   ],
   "source": [
    "co2_values = [float(co2_values) for co2_values in co2_values]\n",
    "print(type(co2_values))\n",
    "print(len(co2_values))\n",
    "print(type(co2_values[0]))\n",
    "print(co2_values[0])"
   ]
  },
  {
   "cell_type": "code",
   "execution_count": 106,
   "metadata": {},
   "outputs": [
    {
     "name": "stdout",
     "output_type": "stream",
     "text": [
      "<class 'pandas.core.series.Series'>\n",
      "29\n",
      "(29,)\n"
     ]
    }
   ],
   "source": [
    "co2Series = pd.Series(co2_values)\n",
    "print(type(co2Series))\n",
    "print(len(co2Series))\n",
    "print(co2Series.shape)"
   ]
  },
  {
   "cell_type": "code",
   "execution_count": 109,
   "metadata": {},
   "outputs": [
    {
     "name": "stdout",
     "output_type": "stream",
     "text": [
      "<class 'pandas.core.series.Series'>\n",
      "29\n",
      "(29,)\n"
     ]
    }
   ],
   "source": [
    "gdpSeries = pd.Series(gdp_values)\n",
    "print(type(gdpSeries))\n",
    "print(len(gdpSeries))\n",
    "print(gdpSeries.shape)"
   ]
  },
  {
   "cell_type": "code",
   "execution_count": 112,
   "metadata": {},
   "outputs": [
    {
     "data": {
      "text/plain": [
       "{'GDP': 0     39278.595350\n",
       " 1     38715.261688\n",
       " 2     39526.970805\n",
       " 3     40082.604815\n",
       " 4     41189.238357\n",
       " 5     41794.192213\n",
       " 6     42869.247170\n",
       " 7     44212.167041\n",
       " 8     45658.136598\n",
       " 9     47282.284676\n",
       " 10    48689.031290\n",
       " 11    48690.807941\n",
       " 12    49081.358788\n",
       " 13    50053.624104\n",
       " 14    51476.488786\n",
       " 15    52796.089816\n",
       " 16    53782.297288\n",
       " 17    54272.719553\n",
       " 18    53688.365135\n",
       " 19    51869.706308\n",
       " 20    52759.998081\n",
       " 21    53190.231121\n",
       " 22    53989.248340\n",
       " 23    54604.130054\n",
       " 24    55574.356825\n",
       " 25    56863.371496\n",
       " 26    57418.933846\n",
       " 27    58387.775808\n",
       " 28    59821.592274\n",
       " dtype: float64,\n",
       " 'CO2': 0     19.409229\n",
       " 1     19.005736\n",
       " 2     19.025082\n",
       " 3     19.238109\n",
       " 4     19.280611\n",
       " 5     19.253938\n",
       " 6     19.611090\n",
       " 7     20.347873\n",
       " 8     20.266880\n",
       " 9     20.105720\n",
       " 10    20.471933\n",
       " 11    20.175005\n",
       " 12    19.449478\n",
       " 13    19.508705\n",
       " 14    19.603573\n",
       " 15    19.478026\n",
       " 16    18.957644\n",
       " 17    19.056027\n",
       " 18    18.294806\n",
       " 19    16.818868\n",
       " 20    17.434196\n",
       " 21    16.599404\n",
       " 22    15.771145\n",
       " 23    16.102958\n",
       " 24    16.026379\n",
       " 25    15.535342\n",
       " 26    15.131747\n",
       " 27    14.805882\n",
       " 28    15.240875\n",
       " dtype: float64}"
      ]
     },
     "execution_count": 112,
     "metadata": {},
     "output_type": "execute_result"
    }
   ],
   "source": [
    "# Construct dictionary from the two Series'.\n",
    "# What is a dictionary? - Dictionaries are used to store data values in key:value pairs.\n",
    "d = {'GDP':gdpSeries, 'CO2':co2Series}\n",
    "d"
   ]
  },
  {
   "cell_type": "code",
   "execution_count": 113,
   "metadata": {},
   "outputs": [
    {
     "data": {
      "text/html": [
       "<div>\n",
       "<style scoped>\n",
       "    .dataframe tbody tr th:only-of-type {\n",
       "        vertical-align: middle;\n",
       "    }\n",
       "\n",
       "    .dataframe tbody tr th {\n",
       "        vertical-align: top;\n",
       "    }\n",
       "\n",
       "    .dataframe thead th {\n",
       "        text-align: right;\n",
       "    }\n",
       "</style>\n",
       "<table border=\"1\" class=\"dataframe\">\n",
       "  <thead>\n",
       "    <tr style=\"text-align: right;\">\n",
       "      <th></th>\n",
       "      <th>GDP</th>\n",
       "      <th>CO2</th>\n",
       "    </tr>\n",
       "  </thead>\n",
       "  <tbody>\n",
       "    <tr>\n",
       "      <th>0</th>\n",
       "      <td>39278.595350</td>\n",
       "      <td>19.409229</td>\n",
       "    </tr>\n",
       "    <tr>\n",
       "      <th>1</th>\n",
       "      <td>38715.261688</td>\n",
       "      <td>19.005736</td>\n",
       "    </tr>\n",
       "    <tr>\n",
       "      <th>2</th>\n",
       "      <td>39526.970805</td>\n",
       "      <td>19.025082</td>\n",
       "    </tr>\n",
       "    <tr>\n",
       "      <th>3</th>\n",
       "      <td>40082.604815</td>\n",
       "      <td>19.238109</td>\n",
       "    </tr>\n",
       "    <tr>\n",
       "      <th>4</th>\n",
       "      <td>41189.238357</td>\n",
       "      <td>19.280611</td>\n",
       "    </tr>\n",
       "    <tr>\n",
       "      <th>5</th>\n",
       "      <td>41794.192213</td>\n",
       "      <td>19.253938</td>\n",
       "    </tr>\n",
       "    <tr>\n",
       "      <th>6</th>\n",
       "      <td>42869.247170</td>\n",
       "      <td>19.611090</td>\n",
       "    </tr>\n",
       "    <tr>\n",
       "      <th>7</th>\n",
       "      <td>44212.167041</td>\n",
       "      <td>20.347873</td>\n",
       "    </tr>\n",
       "    <tr>\n",
       "      <th>8</th>\n",
       "      <td>45658.136598</td>\n",
       "      <td>20.266880</td>\n",
       "    </tr>\n",
       "    <tr>\n",
       "      <th>9</th>\n",
       "      <td>47282.284676</td>\n",
       "      <td>20.105720</td>\n",
       "    </tr>\n",
       "    <tr>\n",
       "      <th>10</th>\n",
       "      <td>48689.031290</td>\n",
       "      <td>20.471933</td>\n",
       "    </tr>\n",
       "    <tr>\n",
       "      <th>11</th>\n",
       "      <td>48690.807941</td>\n",
       "      <td>20.175005</td>\n",
       "    </tr>\n",
       "    <tr>\n",
       "      <th>12</th>\n",
       "      <td>49081.358788</td>\n",
       "      <td>19.449478</td>\n",
       "    </tr>\n",
       "    <tr>\n",
       "      <th>13</th>\n",
       "      <td>50053.624104</td>\n",
       "      <td>19.508705</td>\n",
       "    </tr>\n",
       "    <tr>\n",
       "      <th>14</th>\n",
       "      <td>51476.488786</td>\n",
       "      <td>19.603573</td>\n",
       "    </tr>\n",
       "    <tr>\n",
       "      <th>15</th>\n",
       "      <td>52796.089816</td>\n",
       "      <td>19.478026</td>\n",
       "    </tr>\n",
       "    <tr>\n",
       "      <th>16</th>\n",
       "      <td>53782.297288</td>\n",
       "      <td>18.957644</td>\n",
       "    </tr>\n",
       "    <tr>\n",
       "      <th>17</th>\n",
       "      <td>54272.719553</td>\n",
       "      <td>19.056027</td>\n",
       "    </tr>\n",
       "    <tr>\n",
       "      <th>18</th>\n",
       "      <td>53688.365135</td>\n",
       "      <td>18.294806</td>\n",
       "    </tr>\n",
       "    <tr>\n",
       "      <th>19</th>\n",
       "      <td>51869.706308</td>\n",
       "      <td>16.818868</td>\n",
       "    </tr>\n",
       "    <tr>\n",
       "      <th>20</th>\n",
       "      <td>52759.998081</td>\n",
       "      <td>17.434196</td>\n",
       "    </tr>\n",
       "    <tr>\n",
       "      <th>21</th>\n",
       "      <td>53190.231121</td>\n",
       "      <td>16.599404</td>\n",
       "    </tr>\n",
       "    <tr>\n",
       "      <th>22</th>\n",
       "      <td>53989.248340</td>\n",
       "      <td>15.771145</td>\n",
       "    </tr>\n",
       "    <tr>\n",
       "      <th>23</th>\n",
       "      <td>54604.130054</td>\n",
       "      <td>16.102958</td>\n",
       "    </tr>\n",
       "    <tr>\n",
       "      <th>24</th>\n",
       "      <td>55574.356825</td>\n",
       "      <td>16.026379</td>\n",
       "    </tr>\n",
       "    <tr>\n",
       "      <th>25</th>\n",
       "      <td>56863.371496</td>\n",
       "      <td>15.535342</td>\n",
       "    </tr>\n",
       "    <tr>\n",
       "      <th>26</th>\n",
       "      <td>57418.933846</td>\n",
       "      <td>15.131747</td>\n",
       "    </tr>\n",
       "    <tr>\n",
       "      <th>27</th>\n",
       "      <td>58387.775808</td>\n",
       "      <td>14.805882</td>\n",
       "    </tr>\n",
       "    <tr>\n",
       "      <th>28</th>\n",
       "      <td>59821.592274</td>\n",
       "      <td>15.240875</td>\n",
       "    </tr>\n",
       "  </tbody>\n",
       "</table>\n",
       "</div>"
      ],
      "text/plain": [
       "             GDP        CO2\n",
       "0   39278.595350  19.409229\n",
       "1   38715.261688  19.005736\n",
       "2   39526.970805  19.025082\n",
       "3   40082.604815  19.238109\n",
       "4   41189.238357  19.280611\n",
       "5   41794.192213  19.253938\n",
       "6   42869.247170  19.611090\n",
       "7   44212.167041  20.347873\n",
       "8   45658.136598  20.266880\n",
       "9   47282.284676  20.105720\n",
       "10  48689.031290  20.471933\n",
       "11  48690.807941  20.175005\n",
       "12  49081.358788  19.449478\n",
       "13  50053.624104  19.508705\n",
       "14  51476.488786  19.603573\n",
       "15  52796.089816  19.478026\n",
       "16  53782.297288  18.957644\n",
       "17  54272.719553  19.056027\n",
       "18  53688.365135  18.294806\n",
       "19  51869.706308  16.818868\n",
       "20  52759.998081  17.434196\n",
       "21  53190.231121  16.599404\n",
       "22  53989.248340  15.771145\n",
       "23  54604.130054  16.102958\n",
       "24  55574.356825  16.026379\n",
       "25  56863.371496  15.535342\n",
       "26  57418.933846  15.131747\n",
       "27  58387.775808  14.805882\n",
       "28  59821.592274  15.240875"
      ]
     },
     "execution_count": 113,
     "metadata": {},
     "output_type": "execute_result"
    }
   ],
   "source": [
    "# Construct the DataFrame from the dictionary\n",
    "newdf = pd.DataFrame(data=d)\n",
    "newdf"
   ]
  },
  {
   "cell_type": "code",
   "execution_count": 117,
   "metadata": {},
   "outputs": [
    {
     "data": {
      "text/html": [
       "<div>\n",
       "<style scoped>\n",
       "    .dataframe tbody tr th:only-of-type {\n",
       "        vertical-align: middle;\n",
       "    }\n",
       "\n",
       "    .dataframe tbody tr th {\n",
       "        vertical-align: top;\n",
       "    }\n",
       "\n",
       "    .dataframe thead th {\n",
       "        text-align: right;\n",
       "    }\n",
       "</style>\n",
       "<table border=\"1\" class=\"dataframe\">\n",
       "  <thead>\n",
       "    <tr style=\"text-align: right;\">\n",
       "      <th></th>\n",
       "      <th>GDP</th>\n",
       "      <th>CO2</th>\n",
       "    </tr>\n",
       "  </thead>\n",
       "  <tbody>\n",
       "    <tr>\n",
       "      <th>GDP</th>\n",
       "      <td>1.000000</td>\n",
       "      <td>-0.703146</td>\n",
       "    </tr>\n",
       "    <tr>\n",
       "      <th>CO2</th>\n",
       "      <td>-0.703146</td>\n",
       "      <td>1.000000</td>\n",
       "    </tr>\n",
       "  </tbody>\n",
       "</table>\n",
       "</div>"
      ],
      "text/plain": [
       "          GDP       CO2\n",
       "GDP  1.000000 -0.703146\n",
       "CO2 -0.703146  1.000000"
      ]
     },
     "execution_count": 117,
     "metadata": {},
     "output_type": "execute_result"
    }
   ],
   "source": [
    "# Compute correlation using the .corr method\n",
    "newdf.corr(method='pearson')"
   ]
  },
  {
   "cell_type": "code",
   "execution_count": 118,
   "metadata": {},
   "outputs": [
    {
     "data": {
      "text/plain": [
       "-0.7031462424574285"
      ]
     },
     "execution_count": 118,
     "metadata": {},
     "output_type": "execute_result"
    }
   ],
   "source": [
    "# Alternatively, compute corr using the Series.corr method\n",
    "gdpSeries.corr(co2Series, method='pearson')"
   ]
  },
  {
   "cell_type": "markdown",
   "metadata": {},
   "source": [
    "In the correlation matrix, the main diagonal represents each variable being correlated with itself, hence yielding a value of 1. \n",
    "The other diagonal represents the correlation between the two variables, a values of -0.70 indicates a negative and relatively strong correlation. E.g., as CO2 emissions decrease, GDP per capita increases - it is critical to note that this conclusion is based off a relatively short time-frame (1990 - 2018, 28 years) and in order to make this claim substantial a longer time period (>50 years) should be sampled."
   ]
  }
 ],
 "metadata": {
  "kernelspec": {
   "display_name": "Python 3",
   "language": "python",
   "name": "python3"
  },
  "language_info": {
   "codemirror_mode": {
    "name": "ipython",
    "version": 3
   },
   "file_extension": ".py",
   "mimetype": "text/x-python",
   "name": "python",
   "nbconvert_exporter": "python",
   "pygments_lexer": "ipython3",
   "version": "3.8.5"
  }
 },
 "nbformat": 4,
 "nbformat_minor": 4
}
