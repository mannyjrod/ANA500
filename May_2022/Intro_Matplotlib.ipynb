{
 "cells": [
  {
   "cell_type": "markdown",
   "metadata": {},
   "source": [
    "# Intro to Data Visualization with Matplotlib\n",
    "\n",
    "Author: Emmanuel Rodriguez\n",
    "\n",
    "https://emmanueljrodriguez.com/\n",
    "\n",
    "Date: 12 May 2022"
   ]
  },
  {
   "cell_type": "markdown",
   "metadata": {},
   "source": [
    "## Data to be explored: World Development Indicators (WDI)\n",
    "\n",
    "https://datatopics.worldbank.org/world-development-indicators/?msclkid=905295b0cef211eca247786f37737c73"
   ]
  },
  {
   "cell_type": "markdown",
   "metadata": {},
   "source": [
    "## Step 1: Initial exploration of the dataset"
   ]
  },
  {
   "cell_type": "code",
   "execution_count": 1,
   "metadata": {},
   "outputs": [],
   "source": [
    "# Import libraries\n",
    "import pandas as pd\n",
    "import numpy as np\n",
    "import random\n",
    "import matplotlib.pyplot as plt"
   ]
  },
  {
   "cell_type": "code",
   "execution_count": 2,
   "metadata": {},
   "outputs": [
    {
     "data": {
      "text/plain": [
       "(384370, 67)"
      ]
     },
     "execution_count": 2,
     "metadata": {},
     "output_type": "execute_result"
    }
   ],
   "source": [
    "data = pd.read_csv(r'C:\\Users\\ejoaq\\OneDrive\\1 My_Notebook\\2 Entrepreneurship and Work\\1 Teaching\\1 National University\\1 ANA 500 - Python for Data Science\\My Notebooks - from edX course\\WDI_csv\\WDIData.csv')\n",
    "# Prefix with 'r' to produce raw string\n",
    "data.shape"
   ]
  },
  {
   "cell_type": "markdown",
   "metadata": {},
   "source": [
    "Let's explore what the data holds."
   ]
  },
  {
   "cell_type": "code",
   "execution_count": 3,
   "metadata": {},
   "outputs": [
    {
     "data": {
      "text/html": [
       "<div>\n",
       "<style scoped>\n",
       "    .dataframe tbody tr th:only-of-type {\n",
       "        vertical-align: middle;\n",
       "    }\n",
       "\n",
       "    .dataframe tbody tr th {\n",
       "        vertical-align: top;\n",
       "    }\n",
       "\n",
       "    .dataframe thead th {\n",
       "        text-align: right;\n",
       "    }\n",
       "</style>\n",
       "<table border=\"1\" class=\"dataframe\">\n",
       "  <thead>\n",
       "    <tr style=\"text-align: right;\">\n",
       "      <th></th>\n",
       "      <th>Country Name</th>\n",
       "      <th>Country Code</th>\n",
       "      <th>Indicator Name</th>\n",
       "      <th>Indicator Code</th>\n",
       "      <th>1960</th>\n",
       "      <th>1961</th>\n",
       "      <th>1962</th>\n",
       "      <th>1963</th>\n",
       "      <th>1964</th>\n",
       "      <th>1965</th>\n",
       "      <th>...</th>\n",
       "      <th>2013</th>\n",
       "      <th>2014</th>\n",
       "      <th>2015</th>\n",
       "      <th>2016</th>\n",
       "      <th>2017</th>\n",
       "      <th>2018</th>\n",
       "      <th>2019</th>\n",
       "      <th>2020</th>\n",
       "      <th>2021</th>\n",
       "      <th>Unnamed: 66</th>\n",
       "    </tr>\n",
       "  </thead>\n",
       "  <tbody>\n",
       "    <tr>\n",
       "      <th>0</th>\n",
       "      <td>Africa Eastern and Southern</td>\n",
       "      <td>AFE</td>\n",
       "      <td>Access to clean fuels and technologies for coo...</td>\n",
       "      <td>EG.CFT.ACCS.ZS</td>\n",
       "      <td>NaN</td>\n",
       "      <td>NaN</td>\n",
       "      <td>NaN</td>\n",
       "      <td>NaN</td>\n",
       "      <td>NaN</td>\n",
       "      <td>NaN</td>\n",
       "      <td>...</td>\n",
       "      <td>16.936004</td>\n",
       "      <td>17.337896</td>\n",
       "      <td>17.687093</td>\n",
       "      <td>18.140971</td>\n",
       "      <td>18.491344</td>\n",
       "      <td>18.825520</td>\n",
       "      <td>19.272212</td>\n",
       "      <td>19.628009</td>\n",
       "      <td>NaN</td>\n",
       "      <td>NaN</td>\n",
       "    </tr>\n",
       "    <tr>\n",
       "      <th>1</th>\n",
       "      <td>Africa Eastern and Southern</td>\n",
       "      <td>AFE</td>\n",
       "      <td>Access to clean fuels and technologies for coo...</td>\n",
       "      <td>EG.CFT.ACCS.RU.ZS</td>\n",
       "      <td>NaN</td>\n",
       "      <td>NaN</td>\n",
       "      <td>NaN</td>\n",
       "      <td>NaN</td>\n",
       "      <td>NaN</td>\n",
       "      <td>NaN</td>\n",
       "      <td>...</td>\n",
       "      <td>6.499471</td>\n",
       "      <td>6.680066</td>\n",
       "      <td>6.859110</td>\n",
       "      <td>7.016238</td>\n",
       "      <td>7.180364</td>\n",
       "      <td>7.322294</td>\n",
       "      <td>7.517191</td>\n",
       "      <td>7.651598</td>\n",
       "      <td>NaN</td>\n",
       "      <td>NaN</td>\n",
       "    </tr>\n",
       "    <tr>\n",
       "      <th>2</th>\n",
       "      <td>Africa Eastern and Southern</td>\n",
       "      <td>AFE</td>\n",
       "      <td>Access to clean fuels and technologies for coo...</td>\n",
       "      <td>EG.CFT.ACCS.UR.ZS</td>\n",
       "      <td>NaN</td>\n",
       "      <td>NaN</td>\n",
       "      <td>NaN</td>\n",
       "      <td>NaN</td>\n",
       "      <td>NaN</td>\n",
       "      <td>NaN</td>\n",
       "      <td>...</td>\n",
       "      <td>37.855399</td>\n",
       "      <td>38.046781</td>\n",
       "      <td>38.326255</td>\n",
       "      <td>38.468426</td>\n",
       "      <td>38.670044</td>\n",
       "      <td>38.722783</td>\n",
       "      <td>38.927016</td>\n",
       "      <td>39.042839</td>\n",
       "      <td>NaN</td>\n",
       "      <td>NaN</td>\n",
       "    </tr>\n",
       "    <tr>\n",
       "      <th>3</th>\n",
       "      <td>Africa Eastern and Southern</td>\n",
       "      <td>AFE</td>\n",
       "      <td>Access to electricity (% of population)</td>\n",
       "      <td>EG.ELC.ACCS.ZS</td>\n",
       "      <td>NaN</td>\n",
       "      <td>NaN</td>\n",
       "      <td>NaN</td>\n",
       "      <td>NaN</td>\n",
       "      <td>NaN</td>\n",
       "      <td>NaN</td>\n",
       "      <td>...</td>\n",
       "      <td>31.794160</td>\n",
       "      <td>32.001027</td>\n",
       "      <td>33.871910</td>\n",
       "      <td>38.880173</td>\n",
       "      <td>40.261358</td>\n",
       "      <td>43.061877</td>\n",
       "      <td>44.270860</td>\n",
       "      <td>45.803485</td>\n",
       "      <td>NaN</td>\n",
       "      <td>NaN</td>\n",
       "    </tr>\n",
       "    <tr>\n",
       "      <th>4</th>\n",
       "      <td>Africa Eastern and Southern</td>\n",
       "      <td>AFE</td>\n",
       "      <td>Access to electricity, rural (% of rural popul...</td>\n",
       "      <td>EG.ELC.ACCS.RU.ZS</td>\n",
       "      <td>NaN</td>\n",
       "      <td>NaN</td>\n",
       "      <td>NaN</td>\n",
       "      <td>NaN</td>\n",
       "      <td>NaN</td>\n",
       "      <td>NaN</td>\n",
       "      <td>...</td>\n",
       "      <td>18.663502</td>\n",
       "      <td>17.633986</td>\n",
       "      <td>16.464681</td>\n",
       "      <td>24.531436</td>\n",
       "      <td>25.345111</td>\n",
       "      <td>27.449908</td>\n",
       "      <td>29.641760</td>\n",
       "      <td>30.404935</td>\n",
       "      <td>NaN</td>\n",
       "      <td>NaN</td>\n",
       "    </tr>\n",
       "    <tr>\n",
       "      <th>5</th>\n",
       "      <td>Africa Eastern and Southern</td>\n",
       "      <td>AFE</td>\n",
       "      <td>Access to electricity, urban (% of urban popul...</td>\n",
       "      <td>EG.ELC.ACCS.UR.ZS</td>\n",
       "      <td>NaN</td>\n",
       "      <td>NaN</td>\n",
       "      <td>NaN</td>\n",
       "      <td>NaN</td>\n",
       "      <td>NaN</td>\n",
       "      <td>NaN</td>\n",
       "      <td>...</td>\n",
       "      <td>67.112206</td>\n",
       "      <td>66.283426</td>\n",
       "      <td>67.080235</td>\n",
       "      <td>69.132292</td>\n",
       "      <td>70.928567</td>\n",
       "      <td>71.866136</td>\n",
       "      <td>73.332842</td>\n",
       "      <td>73.942949</td>\n",
       "      <td>NaN</td>\n",
       "      <td>NaN</td>\n",
       "    </tr>\n",
       "    <tr>\n",
       "      <th>6</th>\n",
       "      <td>Africa Eastern and Southern</td>\n",
       "      <td>AFE</td>\n",
       "      <td>Account ownership at a financial institution o...</td>\n",
       "      <td>FX.OWN.TOTL.ZS</td>\n",
       "      <td>NaN</td>\n",
       "      <td>NaN</td>\n",
       "      <td>NaN</td>\n",
       "      <td>NaN</td>\n",
       "      <td>NaN</td>\n",
       "      <td>NaN</td>\n",
       "      <td>...</td>\n",
       "      <td>NaN</td>\n",
       "      <td>NaN</td>\n",
       "      <td>NaN</td>\n",
       "      <td>NaN</td>\n",
       "      <td>NaN</td>\n",
       "      <td>NaN</td>\n",
       "      <td>NaN</td>\n",
       "      <td>NaN</td>\n",
       "      <td>NaN</td>\n",
       "      <td>NaN</td>\n",
       "    </tr>\n",
       "    <tr>\n",
       "      <th>7</th>\n",
       "      <td>Africa Eastern and Southern</td>\n",
       "      <td>AFE</td>\n",
       "      <td>Account ownership at a financial institution o...</td>\n",
       "      <td>FX.OWN.TOTL.FE.ZS</td>\n",
       "      <td>NaN</td>\n",
       "      <td>NaN</td>\n",
       "      <td>NaN</td>\n",
       "      <td>NaN</td>\n",
       "      <td>NaN</td>\n",
       "      <td>NaN</td>\n",
       "      <td>...</td>\n",
       "      <td>NaN</td>\n",
       "      <td>NaN</td>\n",
       "      <td>NaN</td>\n",
       "      <td>NaN</td>\n",
       "      <td>NaN</td>\n",
       "      <td>NaN</td>\n",
       "      <td>NaN</td>\n",
       "      <td>NaN</td>\n",
       "      <td>NaN</td>\n",
       "      <td>NaN</td>\n",
       "    </tr>\n",
       "    <tr>\n",
       "      <th>8</th>\n",
       "      <td>Africa Eastern and Southern</td>\n",
       "      <td>AFE</td>\n",
       "      <td>Account ownership at a financial institution o...</td>\n",
       "      <td>FX.OWN.TOTL.MA.ZS</td>\n",
       "      <td>NaN</td>\n",
       "      <td>NaN</td>\n",
       "      <td>NaN</td>\n",
       "      <td>NaN</td>\n",
       "      <td>NaN</td>\n",
       "      <td>NaN</td>\n",
       "      <td>...</td>\n",
       "      <td>NaN</td>\n",
       "      <td>NaN</td>\n",
       "      <td>NaN</td>\n",
       "      <td>NaN</td>\n",
       "      <td>NaN</td>\n",
       "      <td>NaN</td>\n",
       "      <td>NaN</td>\n",
       "      <td>NaN</td>\n",
       "      <td>NaN</td>\n",
       "      <td>NaN</td>\n",
       "    </tr>\n",
       "    <tr>\n",
       "      <th>9</th>\n",
       "      <td>Africa Eastern and Southern</td>\n",
       "      <td>AFE</td>\n",
       "      <td>Account ownership at a financial institution o...</td>\n",
       "      <td>FX.OWN.TOTL.OL.ZS</td>\n",
       "      <td>NaN</td>\n",
       "      <td>NaN</td>\n",
       "      <td>NaN</td>\n",
       "      <td>NaN</td>\n",
       "      <td>NaN</td>\n",
       "      <td>NaN</td>\n",
       "      <td>...</td>\n",
       "      <td>NaN</td>\n",
       "      <td>NaN</td>\n",
       "      <td>NaN</td>\n",
       "      <td>NaN</td>\n",
       "      <td>NaN</td>\n",
       "      <td>NaN</td>\n",
       "      <td>NaN</td>\n",
       "      <td>NaN</td>\n",
       "      <td>NaN</td>\n",
       "      <td>NaN</td>\n",
       "    </tr>\n",
       "  </tbody>\n",
       "</table>\n",
       "<p>10 rows × 67 columns</p>\n",
       "</div>"
      ],
      "text/plain": [
       "                  Country Name Country Code  \\\n",
       "0  Africa Eastern and Southern          AFE   \n",
       "1  Africa Eastern and Southern          AFE   \n",
       "2  Africa Eastern and Southern          AFE   \n",
       "3  Africa Eastern and Southern          AFE   \n",
       "4  Africa Eastern and Southern          AFE   \n",
       "5  Africa Eastern and Southern          AFE   \n",
       "6  Africa Eastern and Southern          AFE   \n",
       "7  Africa Eastern and Southern          AFE   \n",
       "8  Africa Eastern and Southern          AFE   \n",
       "9  Africa Eastern and Southern          AFE   \n",
       "\n",
       "                                      Indicator Name     Indicator Code  1960  \\\n",
       "0  Access to clean fuels and technologies for coo...     EG.CFT.ACCS.ZS   NaN   \n",
       "1  Access to clean fuels and technologies for coo...  EG.CFT.ACCS.RU.ZS   NaN   \n",
       "2  Access to clean fuels and technologies for coo...  EG.CFT.ACCS.UR.ZS   NaN   \n",
       "3            Access to electricity (% of population)     EG.ELC.ACCS.ZS   NaN   \n",
       "4  Access to electricity, rural (% of rural popul...  EG.ELC.ACCS.RU.ZS   NaN   \n",
       "5  Access to electricity, urban (% of urban popul...  EG.ELC.ACCS.UR.ZS   NaN   \n",
       "6  Account ownership at a financial institution o...     FX.OWN.TOTL.ZS   NaN   \n",
       "7  Account ownership at a financial institution o...  FX.OWN.TOTL.FE.ZS   NaN   \n",
       "8  Account ownership at a financial institution o...  FX.OWN.TOTL.MA.ZS   NaN   \n",
       "9  Account ownership at a financial institution o...  FX.OWN.TOTL.OL.ZS   NaN   \n",
       "\n",
       "   1961  1962  1963  1964  1965  ...       2013       2014       2015  \\\n",
       "0   NaN   NaN   NaN   NaN   NaN  ...  16.936004  17.337896  17.687093   \n",
       "1   NaN   NaN   NaN   NaN   NaN  ...   6.499471   6.680066   6.859110   \n",
       "2   NaN   NaN   NaN   NaN   NaN  ...  37.855399  38.046781  38.326255   \n",
       "3   NaN   NaN   NaN   NaN   NaN  ...  31.794160  32.001027  33.871910   \n",
       "4   NaN   NaN   NaN   NaN   NaN  ...  18.663502  17.633986  16.464681   \n",
       "5   NaN   NaN   NaN   NaN   NaN  ...  67.112206  66.283426  67.080235   \n",
       "6   NaN   NaN   NaN   NaN   NaN  ...        NaN        NaN        NaN   \n",
       "7   NaN   NaN   NaN   NaN   NaN  ...        NaN        NaN        NaN   \n",
       "8   NaN   NaN   NaN   NaN   NaN  ...        NaN        NaN        NaN   \n",
       "9   NaN   NaN   NaN   NaN   NaN  ...        NaN        NaN        NaN   \n",
       "\n",
       "        2016       2017       2018       2019       2020  2021  Unnamed: 66  \n",
       "0  18.140971  18.491344  18.825520  19.272212  19.628009   NaN          NaN  \n",
       "1   7.016238   7.180364   7.322294   7.517191   7.651598   NaN          NaN  \n",
       "2  38.468426  38.670044  38.722783  38.927016  39.042839   NaN          NaN  \n",
       "3  38.880173  40.261358  43.061877  44.270860  45.803485   NaN          NaN  \n",
       "4  24.531436  25.345111  27.449908  29.641760  30.404935   NaN          NaN  \n",
       "5  69.132292  70.928567  71.866136  73.332842  73.942949   NaN          NaN  \n",
       "6        NaN        NaN        NaN        NaN        NaN   NaN          NaN  \n",
       "7        NaN        NaN        NaN        NaN        NaN   NaN          NaN  \n",
       "8        NaN        NaN        NaN        NaN        NaN   NaN          NaN  \n",
       "9        NaN        NaN        NaN        NaN        NaN   NaN          NaN  \n",
       "\n",
       "[10 rows x 67 columns]"
      ]
     },
     "execution_count": 3,
     "metadata": {},
     "output_type": "execute_result"
    }
   ],
   "source": [
    "data.head(10) # Use the head() method to view the headers of n rows"
   ]
  },
  {
   "cell_type": "markdown",
   "metadata": {},
   "source": [
    "This is a three-dimensional dataset, where the dimensions are: country, indicator, and year."
   ]
  },
  {
   "cell_type": "markdown",
   "metadata": {},
   "source": [
    "### How many unique country names are there?"
   ]
  },
  {
   "cell_type": "code",
   "execution_count": 4,
   "metadata": {},
   "outputs": [
    {
     "name": "stdout",
     "output_type": "stream",
     "text": [
      "266\n",
      "<class 'list'>\n"
     ]
    }
   ],
   "source": [
    "countries = data['Country Name'].unique().tolist()\n",
    "print(len(countries))\n",
    "print(type(countries))"
   ]
  },
  {
   "cell_type": "code",
   "execution_count": 5,
   "metadata": {},
   "outputs": [
    {
     "name": "stdout",
     "output_type": "stream",
     "text": [
      "266\n",
      "<class 'list'>\n"
     ]
    }
   ],
   "source": [
    "# For a quick sanity check, cross-check the number of country codes with the number of countries:\n",
    "countryCodes = data['Country Code'].unique().tolist()\n",
    "print(len(countryCodes))\n",
    "print(type(countryCodes))"
   ]
  },
  {
   "cell_type": "markdown",
   "metadata": {},
   "source": [
    "### How many indicators are there?"
   ]
  },
  {
   "cell_type": "code",
   "execution_count": 6,
   "metadata": {},
   "outputs": [
    {
     "data": {
      "text/plain": [
       "1445"
      ]
     },
     "execution_count": 6,
     "metadata": {},
     "output_type": "execute_result"
    }
   ],
   "source": [
    "indicators = data['Indicator Name'].unique().tolist()\n",
    "len(indicators)"
   ]
  },
  {
   "cell_type": "code",
   "execution_count": 7,
   "metadata": {},
   "outputs": [
    {
     "name": "stdout",
     "output_type": "stream",
     "text": [
      "Variable       Type         Data/Info\n",
      "-------------------------------------\n",
      "countries      list         n=266\n",
      "countryCodes   list         n=266\n",
      "data           DataFrame                           Co<...>384370 rows x 67 columns]\n",
      "indicators     list         n=1445\n",
      "np             module       <module 'numpy' from 'C:\\<...>ges\\\\numpy\\\\__init__.py'>\n",
      "pd             module       <module 'pandas' from 'C:<...>es\\\\pandas\\\\__init__.py'>\n",
      "plt            module       <module 'matplotlib.pyplo<...>\\\\matplotlib\\\\pyplot.py'>\n",
      "random         module       <module 'random' from 'C:<...>aconda3\\\\lib\\\\random.py'>\n"
     ]
    }
   ],
   "source": [
    "# List environment variables that have been created so far:\n",
    "%whos"
   ]
  },
  {
   "cell_type": "markdown",
   "metadata": {},
   "source": [
    "### How many years of data do we have?"
   ]
  },
  {
   "cell_type": "code",
   "execution_count": 8,
   "metadata": {},
   "outputs": [
    {
     "data": {
      "text/plain": [
       "62"
      ]
     },
     "execution_count": 8,
     "metadata": {},
     "output_type": "execute_result"
    }
   ],
   "source": [
    "years = data.columns[4:-1]\n",
    "len(years)"
   ]
  },
  {
   "cell_type": "code",
   "execution_count": 9,
   "metadata": {},
   "outputs": [
    {
     "name": "stdout",
     "output_type": "stream",
     "text": [
      "<class 'pandas.core.indexes.base.Index'>\n",
      "(62,)\n"
     ]
    }
   ],
   "source": [
    "print(type(years))\n",
    "print(years.shape)"
   ]
  },
  {
   "cell_type": "code",
   "execution_count": 10,
   "metadata": {},
   "outputs": [
    {
     "name": "stdout",
     "output_type": "stream",
     "text": [
      "62\n",
      "<class 'list'>\n"
     ]
    }
   ],
   "source": [
    "# Convert index to list:\n",
    "years = years.tolist()\n",
    "print(len(years))\n",
    "print(type(years))"
   ]
  },
  {
   "cell_type": "markdown",
   "metadata": {},
   "source": [
    "### Range of years:"
   ]
  },
  {
   "cell_type": "code",
   "execution_count": 11,
   "metadata": {},
   "outputs": [
    {
     "name": "stdout",
     "output_type": "stream",
     "text": [
      "1960  to  2021\n"
     ]
    }
   ],
   "source": [
    "print(min(years), \" to \", max(years))"
   ]
  },
  {
   "cell_type": "markdown",
   "metadata": {},
   "source": [
    "## Step 2: Basic plotting with Matplotlib, Part 1"
   ]
  },
  {
   "cell_type": "markdown",
   "metadata": {},
   "source": [
    "### Country and indicator to explore:\n",
    "\n",
    "USA and CO2 emissions per capita"
   ]
  },
  {
   "cell_type": "code",
   "execution_count": 12,
   "metadata": {},
   "outputs": [
    {
     "name": "stdout",
     "output_type": "stream",
     "text": [
      "<class 'pandas.core.frame.DataFrame'>\n"
     ]
    }
   ],
   "source": [
    "# Create and set variables to hold indicator and country\n",
    "hist_indicator = 'CO2 emissions (metric'\n",
    "hist_country = 'USA'\n",
    "\n",
    "# Setup two masks (or filters):\n",
    "mask1 = data['Indicator Name'].str.contains(hist_indicator, regex = False) # Set the regular expression parameter to False\n",
    "# to treat the string argument as a literal string.\n",
    "mask2 = data['Country Code'].str.contains(hist_country)\n",
    "\n",
    "# Create and set a DataFrame called stage:\n",
    "stage = data[mask1 & mask2]\n",
    "print(type(stage))"
   ]
  },
  {
   "cell_type": "code",
   "execution_count": 13,
   "metadata": {},
   "outputs": [
    {
     "data": {
      "text/html": [
       "<div>\n",
       "<style scoped>\n",
       "    .dataframe tbody tr th:only-of-type {\n",
       "        vertical-align: middle;\n",
       "    }\n",
       "\n",
       "    .dataframe tbody tr th {\n",
       "        vertical-align: top;\n",
       "    }\n",
       "\n",
       "    .dataframe thead th {\n",
       "        text-align: right;\n",
       "    }\n",
       "</style>\n",
       "<table border=\"1\" class=\"dataframe\">\n",
       "  <thead>\n",
       "    <tr style=\"text-align: right;\">\n",
       "      <th></th>\n",
       "      <th>Country Name</th>\n",
       "      <th>Country Code</th>\n",
       "      <th>Indicator Name</th>\n",
       "      <th>Indicator Code</th>\n",
       "      <th>1960</th>\n",
       "      <th>1961</th>\n",
       "      <th>1962</th>\n",
       "      <th>1963</th>\n",
       "      <th>1964</th>\n",
       "      <th>1965</th>\n",
       "      <th>...</th>\n",
       "      <th>2013</th>\n",
       "      <th>2014</th>\n",
       "      <th>2015</th>\n",
       "      <th>2016</th>\n",
       "      <th>2017</th>\n",
       "      <th>2018</th>\n",
       "      <th>2019</th>\n",
       "      <th>2020</th>\n",
       "      <th>2021</th>\n",
       "      <th>Unnamed: 66</th>\n",
       "    </tr>\n",
       "  </thead>\n",
       "  <tbody>\n",
       "    <tr>\n",
       "      <th>368668</th>\n",
       "      <td>United States</td>\n",
       "      <td>USA</td>\n",
       "      <td>CO2 emissions (metric tons per capita)</td>\n",
       "      <td>EN.ATM.CO2E.PC</td>\n",
       "      <td>NaN</td>\n",
       "      <td>NaN</td>\n",
       "      <td>NaN</td>\n",
       "      <td>NaN</td>\n",
       "      <td>NaN</td>\n",
       "      <td>NaN</td>\n",
       "      <td>...</td>\n",
       "      <td>16.102958</td>\n",
       "      <td>16.026379</td>\n",
       "      <td>15.535342</td>\n",
       "      <td>15.131747</td>\n",
       "      <td>14.805882</td>\n",
       "      <td>15.240875</td>\n",
       "      <td>NaN</td>\n",
       "      <td>NaN</td>\n",
       "      <td>NaN</td>\n",
       "      <td>NaN</td>\n",
       "    </tr>\n",
       "  </tbody>\n",
       "</table>\n",
       "<p>1 rows × 67 columns</p>\n",
       "</div>"
      ],
      "text/plain": [
       "         Country Name Country Code                          Indicator Name  \\\n",
       "368668  United States          USA  CO2 emissions (metric tons per capita)   \n",
       "\n",
       "        Indicator Code  1960  1961  1962  1963  1964  1965  ...       2013  \\\n",
       "368668  EN.ATM.CO2E.PC   NaN   NaN   NaN   NaN   NaN   NaN  ...  16.102958   \n",
       "\n",
       "             2014       2015       2016       2017       2018  2019  2020  \\\n",
       "368668  16.026379  15.535342  15.131747  14.805882  15.240875   NaN   NaN   \n",
       "\n",
       "        2021  Unnamed: 66  \n",
       "368668   NaN          NaN  \n",
       "\n",
       "[1 rows x 67 columns]"
      ]
     },
     "execution_count": 13,
     "metadata": {},
     "output_type": "execute_result"
    }
   ],
   "source": [
    "stage.head()"
   ]
  },
  {
   "cell_type": "markdown",
   "metadata": {},
   "source": [
    "### Revised range of years:"
   ]
  },
  {
   "cell_type": "code",
   "execution_count": 14,
   "metadata": {},
   "outputs": [
    {
     "name": "stdout",
     "output_type": "stream",
     "text": [
      "1960  to  2021\n"
     ]
    }
   ],
   "source": [
    "print(min(years), \" to \", max(years))"
   ]
  },
  {
   "cell_type": "markdown",
   "metadata": {},
   "source": [
    "### Handle missing data"
   ]
  },
  {
   "cell_type": "code",
   "execution_count": 15,
   "metadata": {},
   "outputs": [],
   "source": [
    "# Drop columns with NaN values:\n",
    "stage = stage.dropna(axis = 1) # Set axis parameter to 1 to drop columns with NaN, set it to 0 to drop rows with NaN"
   ]
  },
  {
   "cell_type": "code",
   "execution_count": 16,
   "metadata": {},
   "outputs": [
    {
     "data": {
      "text/html": [
       "<div>\n",
       "<style scoped>\n",
       "    .dataframe tbody tr th:only-of-type {\n",
       "        vertical-align: middle;\n",
       "    }\n",
       "\n",
       "    .dataframe tbody tr th {\n",
       "        vertical-align: top;\n",
       "    }\n",
       "\n",
       "    .dataframe thead th {\n",
       "        text-align: right;\n",
       "    }\n",
       "</style>\n",
       "<table border=\"1\" class=\"dataframe\">\n",
       "  <thead>\n",
       "    <tr style=\"text-align: right;\">\n",
       "      <th></th>\n",
       "      <th>Country Name</th>\n",
       "      <th>Country Code</th>\n",
       "      <th>Indicator Name</th>\n",
       "      <th>Indicator Code</th>\n",
       "      <th>1990</th>\n",
       "      <th>1991</th>\n",
       "      <th>1992</th>\n",
       "      <th>1993</th>\n",
       "      <th>1994</th>\n",
       "      <th>1995</th>\n",
       "      <th>...</th>\n",
       "      <th>2009</th>\n",
       "      <th>2010</th>\n",
       "      <th>2011</th>\n",
       "      <th>2012</th>\n",
       "      <th>2013</th>\n",
       "      <th>2014</th>\n",
       "      <th>2015</th>\n",
       "      <th>2016</th>\n",
       "      <th>2017</th>\n",
       "      <th>2018</th>\n",
       "    </tr>\n",
       "  </thead>\n",
       "  <tbody>\n",
       "    <tr>\n",
       "      <th>368668</th>\n",
       "      <td>United States</td>\n",
       "      <td>USA</td>\n",
       "      <td>CO2 emissions (metric tons per capita)</td>\n",
       "      <td>EN.ATM.CO2E.PC</td>\n",
       "      <td>19.409229</td>\n",
       "      <td>19.005736</td>\n",
       "      <td>19.025082</td>\n",
       "      <td>19.238109</td>\n",
       "      <td>19.280611</td>\n",
       "      <td>19.253938</td>\n",
       "      <td>...</td>\n",
       "      <td>16.818868</td>\n",
       "      <td>17.434196</td>\n",
       "      <td>16.599404</td>\n",
       "      <td>15.771145</td>\n",
       "      <td>16.102958</td>\n",
       "      <td>16.026379</td>\n",
       "      <td>15.535342</td>\n",
       "      <td>15.131747</td>\n",
       "      <td>14.805882</td>\n",
       "      <td>15.240875</td>\n",
       "    </tr>\n",
       "  </tbody>\n",
       "</table>\n",
       "<p>1 rows × 33 columns</p>\n",
       "</div>"
      ],
      "text/plain": [
       "         Country Name Country Code                          Indicator Name  \\\n",
       "368668  United States          USA  CO2 emissions (metric tons per capita)   \n",
       "\n",
       "        Indicator Code       1990       1991       1992       1993       1994  \\\n",
       "368668  EN.ATM.CO2E.PC  19.409229  19.005736  19.025082  19.238109  19.280611   \n",
       "\n",
       "             1995  ...       2009       2010       2011       2012       2013  \\\n",
       "368668  19.253938  ...  16.818868  17.434196  16.599404  15.771145  16.102958   \n",
       "\n",
       "             2014       2015       2016       2017       2018  \n",
       "368668  16.026379  15.535342  15.131747  14.805882  15.240875  \n",
       "\n",
       "[1 rows x 33 columns]"
      ]
     },
     "execution_count": 16,
     "metadata": {},
     "output_type": "execute_result"
    }
   ],
   "source": [
    "stage.head()"
   ]
  },
  {
   "cell_type": "markdown",
   "metadata": {},
   "source": [
    "### Plot indicator over time using Matplotlib"
   ]
  },
  {
   "cell_type": "code",
   "execution_count": 17,
   "metadata": {},
   "outputs": [
    {
     "name": "stdout",
     "output_type": "stream",
     "text": [
      "29\n",
      "<class 'list'>\n",
      "<class 'str'>\n"
     ]
    }
   ],
   "source": [
    "# Get the years\n",
    "years = stage.columns[4:].tolist()\n",
    "\n",
    "print(len(years))\n",
    "print(type(years))\n",
    "print(type(years[0]))"
   ]
  },
  {
   "cell_type": "code",
   "execution_count": 18,
   "metadata": {},
   "outputs": [
    {
     "name": "stdout",
     "output_type": "stream",
     "text": [
      "1\n",
      "<class 'numpy.ndarray'>\n",
      "<class 'numpy.ndarray'>\n",
      "(1, 29)\n"
     ]
    }
   ],
   "source": [
    "# Get the CO2 values\n",
    "co2 = stage[years].values # Use the 'years' list to select the corresponding co2 values\n",
    "print(len(co2))\n",
    "print(type(co2))\n",
    "print(type(co2[0]))\n",
    "print(co2.shape)"
   ]
  },
  {
   "cell_type": "code",
   "execution_count": 19,
   "metadata": {},
   "outputs": [
    {
     "name": "stdout",
     "output_type": "stream",
     "text": [
      "29\n",
      "<class 'list'>\n",
      "<class 'int'>\n"
     ]
    }
   ],
   "source": [
    "# Change elements in 'years' list from string to integer:\n",
    "years = [int(years) for years in years]\n",
    "\n",
    "print(len(years))\n",
    "print(type(years))\n",
    "print(type(years[0]))"
   ]
  },
  {
   "cell_type": "code",
   "execution_count": 20,
   "metadata": {},
   "outputs": [],
   "source": [
    "#years"
   ]
  },
  {
   "cell_type": "code",
   "execution_count": 21,
   "metadata": {},
   "outputs": [
    {
     "name": "stdout",
     "output_type": "stream",
     "text": [
      "(29, 1)\n"
     ]
    }
   ],
   "source": [
    "# Transpose co2 data to allow conversion to scalar\n",
    "co2 = np.transpose(co2)\n",
    "print(co2.shape)"
   ]
  },
  {
   "cell_type": "code",
   "execution_count": 22,
   "metadata": {},
   "outputs": [
    {
     "name": "stdout",
     "output_type": "stream",
     "text": [
      "29\n",
      "<class 'list'>\n",
      "<class 'float'>\n"
     ]
    }
   ],
   "source": [
    "# Change elements in CO2\n",
    "co2 = [float(co2) for co2 in co2]\n",
    "print(len(co2))\n",
    "print(type(co2))\n",
    "print(type(co2[0]))"
   ]
  },
  {
   "cell_type": "markdown",
   "metadata": {},
   "source": [
    "### Plot"
   ]
  },
  {
   "cell_type": "code",
   "execution_count": 23,
   "metadata": {},
   "outputs": [
    {
     "data": {
      "text/plain": [
       "<BarContainer object of 29 artists>"
      ]
     },
     "execution_count": 23,
     "metadata": {},
     "output_type": "execute_result"
    },
    {
     "data": {
      "image/png": "[encoded data removed]",
      "text/plain": [
       "<Figure size 432x288 with 1 Axes>"
      ]
     },
     "metadata": {
      "needs_background": "light"
     },
     "output_type": "display_data"
    }
   ],
   "source": [
    "plt.bar(years, co2)"
   ]
  },
  {
   "cell_type": "markdown",
   "metadata": {},
   "source": [
    "It can be seen that CO2 emissions has dropped over time; the graphic should be more interpretable."
   ]
  },
  {
   "cell_type": "code",
   "execution_count": 24,
   "metadata": {},
   "outputs": [
    {
     "data": {
      "image/png": "[encoded data removed]",
      "text/plain": [
       "<Figure size 432x288 with 1 Axes>"
      ]
     },
     "metadata": {
      "needs_background": "light"
     },
     "output_type": "display_data"
    }
   ],
   "source": [
    "# Switch to a line plot\n",
    "plt.plot(years, co2)\n",
    "\n",
    "# Label the axes\n",
    "plt.xlabel('Year', fontsize = 16) # xlabel is a method on the plot\n",
    "plt.ylabel(stage['Indicator Name'].iloc[0], fontsize = 12)\n",
    "\n",
    "# Title\n",
    "plt.title('CO2 Emissions in USA', fontsize = 20)\n",
    "\n",
    "# Adjust the axis\n",
    "plt.axis([1990,2018,0,25]);\n",
    "\n",
    "# Adjust x-axis ticks\n",
    "#plt.xticks(np.arange(min(years), max(years), 3));"
   ]
  },
  {
   "cell_type": "markdown",
   "metadata": {},
   "source": [
    "### Histogram to explore distribution"
   ]
  },
  {
   "cell_type": "markdown",
   "metadata": {},
   "source": [
    "LaTeX format:\n",
    "\n",
    "Calculate number of bins using the square-root method\n",
    "\n",
    "$k = \\lceil sqrt(n) \\rceil$\n",
    "\n",
    "Where $\\lceil$ and $\\rceil$ indicate the celing function (the smallest integer >= input argument), and $n$ is the sample size."
   ]
  },
  {
   "cell_type": "code",
   "execution_count": 25,
   "metadata": {},
   "outputs": [
    {
     "data": {
      "text/plain": [
       "6"
      ]
     },
     "execution_count": 25,
     "metadata": {},
     "output_type": "execute_result"
    }
   ],
   "source": [
    "import math\n",
    "k = math.ceil(math.sqrt(len(co2)))\n",
    "k"
   ]
  },
  {
   "cell_type": "code",
   "execution_count": 26,
   "metadata": {},
   "outputs": [
    {
     "data": {
      "text/plain": [
       "Text(0, 0.5, '# of Years')"
      ]
     },
     "execution_count": 26,
     "metadata": {},
     "output_type": "execute_result"
    },
    {
     "data": {
      "image/png": "[encoded data removed]",
      "text/plain": [
       "<Figure size 432x288 with 1 Axes>"
      ]
     },
     "metadata": {
      "needs_background": "light"
     },
     "output_type": "display_data"
    }
   ],
   "source": [
    "plt.hist(co2, k, facecolor = 'green', edgecolor = 'white')\n",
    "\n",
    "plt.title('CO2 Emissions Frequency')\n",
    "plt.xlabel(stage['Indicator Name'].iloc[0])\n",
    "plt.ylabel('# of Years')\n",
    "#plt.grid(True)"
   ]
  },
  {
   "cell_type": "markdown",
   "metadata": {},
   "source": [
    "The USA has several years where its CO2 emissions were 19 metric tons per capita or greater."
   ]
  },
  {
   "cell_type": "markdown",
   "metadata": {},
   "source": [
    "### How does the USA CO2 emissions compare to other countries?"
   ]
  },
  {
   "cell_type": "code",
   "execution_count": 29,
   "metadata": {},
   "outputs": [
    {
     "name": "stdout",
     "output_type": "stream",
     "text": [
      "Variable         Type         Data/Info\n",
      "---------------------------------------\n",
      "co2              list         n=29\n",
      "countries        list         n=266\n",
      "countryCodes     list         n=266\n",
      "data             DataFrame                           Co<...>384370 rows x 67 columns]\n",
      "hist_country     str          USA\n",
      "hist_indicator   str          CO2 emissions (metric\n",
      "indicators       list         n=1445\n",
      "k                int          6\n",
      "mask1            Series       0         False\\n1       <...>ngth: 384370, dtype: bool\n",
      "mask2            Series       0         False\\n1       <...>ngth: 384370, dtype: bool\n",
      "math             module       <module 'math' (built-in)>\n",
      "np               module       <module 'numpy' from 'C:\\<...>ges\\\\numpy\\\\__init__.py'>\n",
      "pd               module       <module 'pandas' from 'C:<...>es\\\\pandas\\\\__init__.py'>\n",
      "plt              module       <module 'matplotlib.pyplo<...>\\\\matplotlib\\\\pyplot.py'>\n",
      "random           module       <module 'random' from 'C:<...>aconda3\\\\lib\\\\random.py'>\n",
      "stage            DataFrame             Country Name Cou<...>\\n\\n[1 rows x 33 columns]\n",
      "years            list         n=29\n"
     ]
    }
   ],
   "source": [
    "%whos"
   ]
  },
  {
   "cell_type": "code",
   "execution_count": 30,
   "metadata": {},
   "outputs": [
    {
     "name": "stdout",
     "output_type": "stream",
     "text": [
      "<class 'pandas.core.series.Series'>\n",
      "(239,)\n",
      "float64\n",
      "1\n",
      "239\n",
      "Int64Index([   193,   1638,   3083,   4528,   5973,   7418,   8863,  10308,\n",
      "             11753,  13198,\n",
      "            ...\n",
      "            367223, 368668, 370113, 371558, 373003, 374448, 375893, 380228,\n",
      "            381673, 383118],\n",
      "           dtype='int64', length=239)\n"
     ]
    },
    {
     "data": {
      "text/plain": [
       "193     0.933541\n",
       "1638    0.515544\n",
       "3083    4.438716\n",
       "4528    5.017034\n",
       "5973    6.597232\n",
       "Name: 2018, dtype: float64"
      ]
     },
     "execution_count": 30,
     "metadata": {},
     "output_type": "execute_result"
    }
   ],
   "source": [
    "# Extract CO2 emissions for the last year in the data range for all countries via Masking\n",
    "# Masking - to extract values from an array based on some criterion\n",
    "\n",
    "hist_indicator = 'CO2 emissions (metric'\n",
    "hist_year = '2018'\n",
    "\n",
    "# Create mask\n",
    "mask1 = data['Indicator Name'].str.contains(hist_indicator, regex=False)\n",
    "\n",
    "# Create a Pandas Series of only the specified year, query only the specified year\n",
    "data2018 = data[hist_year]\n",
    "\n",
    "# Apply mask\n",
    "co2_2018 = data2018[mask1].dropna(axis=0) # Drop rows that contain NaN, i.e., drop countries that don't have reported data\n",
    "\n",
    "print(type(co2_2018)) # The type of object, and the class that it's derived from\n",
    "print(co2_2018.shape) # a tuple of the shape of the underlying data.\n",
    "print(co2_2018.dtype) # dtype object of the underlying data.\n",
    "print(co2_2018.ndim) # # of dimensions of the underlying data.\n",
    "print(co2_2018.size) # # of elements in the underlying data.\n",
    "print(co2_2018.index) # The index (axis labels) of the Series.\n",
    "co2_2018.head()"
   ]
  },
  {
   "cell_type": "markdown",
   "metadata": {},
   "source": [
    "To compare how the USA measures up against other countries in terms of CO2 emissions, a histogram will be created with CO2 emissions on the x-axis and number of countries in the y-axis.\n",
    "\n",
    "I.e.,\n",
    "\n",
    "plt.hist(co2_2018)\n",
    "\n",
    "Since 'co2_2018' is a Series with only emissions data and indices (which identifies the country), the index must therefore be tied to the country name. This is the next step."
   ]
  },
  {
   "cell_type": "code",
   "execution_count": 32,
   "metadata": {},
   "outputs": [],
   "source": [
    "# The country 'Keys' can be queried using the keys() function, or simply using the .index method\n",
    "#countryKeys = co2_2018.keys()\n",
    "#countryKeys"
   ]
  },
  {
   "cell_type": "code",
   "execution_count": 33,
   "metadata": {},
   "outputs": [
    {
     "data": {
      "text/plain": [
       "193          Africa Eastern and Southern\n",
       "1638          Africa Western and Central\n",
       "3083                          Arab World\n",
       "4528              Caribbean small states\n",
       "5973      Central Europe and the Baltics\n",
       "                       ...              \n",
       "374448                     Venezuela, RB\n",
       "375893                           Vietnam\n",
       "380228                       Yemen, Rep.\n",
       "381673                            Zambia\n",
       "383118                          Zimbabwe\n",
       "Name: Country Name, Length: 239, dtype: object"
      ]
     },
     "execution_count": 33,
     "metadata": {},
     "output_type": "execute_result"
    }
   ],
   "source": [
    "countries = data['Country Name'].loc[co2_2018.index] # Slice into the 'data' DataFrame using the loc attribue, which\n",
    "# references the explicit index (the assigned index label in the DataFrame), whereas the attribute iloc would reference\n",
    "# the implicit Python-style index (i.e., the row #, where the array indices start at 0)\n",
    "countries"
   ]
  },
  {
   "cell_type": "code",
   "execution_count": 34,
   "metadata": {},
   "outputs": [
    {
     "name": "stdout",
     "output_type": "stream",
     "text": [
      "239\n",
      "(239, 2)\n"
     ]
    },
    {
     "data": {
      "text/html": [
       "<div>\n",
       "<style scoped>\n",
       "    .dataframe tbody tr th:only-of-type {\n",
       "        vertical-align: middle;\n",
       "    }\n",
       "\n",
       "    .dataframe tbody tr th {\n",
       "        vertical-align: top;\n",
       "    }\n",
       "\n",
       "    .dataframe thead th {\n",
       "        text-align: right;\n",
       "    }\n",
       "</style>\n",
       "<table border=\"1\" class=\"dataframe\">\n",
       "  <thead>\n",
       "    <tr style=\"text-align: right;\">\n",
       "      <th></th>\n",
       "      <th>Country</th>\n",
       "      <th>CO2 emissions per capita, 2018</th>\n",
       "    </tr>\n",
       "  </thead>\n",
       "  <tbody>\n",
       "    <tr>\n",
       "      <th>193</th>\n",
       "      <td>Africa Eastern and Southern</td>\n",
       "      <td>0.933541</td>\n",
       "    </tr>\n",
       "    <tr>\n",
       "      <th>1638</th>\n",
       "      <td>Africa Western and Central</td>\n",
       "      <td>0.515544</td>\n",
       "    </tr>\n",
       "    <tr>\n",
       "      <th>3083</th>\n",
       "      <td>Arab World</td>\n",
       "      <td>4.438716</td>\n",
       "    </tr>\n",
       "    <tr>\n",
       "      <th>4528</th>\n",
       "      <td>Caribbean small states</td>\n",
       "      <td>5.017034</td>\n",
       "    </tr>\n",
       "    <tr>\n",
       "      <th>5973</th>\n",
       "      <td>Central Europe and the Baltics</td>\n",
       "      <td>6.597232</td>\n",
       "    </tr>\n",
       "    <tr>\n",
       "      <th>...</th>\n",
       "      <td>...</td>\n",
       "      <td>...</td>\n",
       "    </tr>\n",
       "    <tr>\n",
       "      <th>374448</th>\n",
       "      <td>Venezuela, RB</td>\n",
       "      <td>4.782755</td>\n",
       "    </tr>\n",
       "    <tr>\n",
       "      <th>375893</th>\n",
       "      <td>Vietnam</td>\n",
       "      <td>2.698806</td>\n",
       "    </tr>\n",
       "    <tr>\n",
       "      <th>380228</th>\n",
       "      <td>Yemen, Rep.</td>\n",
       "      <td>0.326682</td>\n",
       "    </tr>\n",
       "    <tr>\n",
       "      <th>381673</th>\n",
       "      <td>Zambia</td>\n",
       "      <td>0.446065</td>\n",
       "    </tr>\n",
       "    <tr>\n",
       "      <th>383118</th>\n",
       "      <td>Zimbabwe</td>\n",
       "      <td>0.849793</td>\n",
       "    </tr>\n",
       "  </tbody>\n",
       "</table>\n",
       "<p>239 rows × 2 columns</p>\n",
       "</div>"
      ],
      "text/plain": [
       "                               Country  CO2 emissions per capita, 2018\n",
       "193        Africa Eastern and Southern                        0.933541\n",
       "1638        Africa Western and Central                        0.515544\n",
       "3083                        Arab World                        4.438716\n",
       "4528            Caribbean small states                        5.017034\n",
       "5973    Central Europe and the Baltics                        6.597232\n",
       "...                                ...                             ...\n",
       "374448                   Venezuela, RB                        4.782755\n",
       "375893                         Vietnam                        2.698806\n",
       "380228                     Yemen, Rep.                        0.326682\n",
       "381673                          Zambia                        0.446065\n",
       "383118                        Zimbabwe                        0.849793\n",
       "\n",
       "[239 rows x 2 columns]"
      ]
     },
     "execution_count": 34,
     "metadata": {},
     "output_type": "execute_result"
    }
   ],
   "source": [
    "# Construct a new DataFrame\n",
    "d = {'Country': countries, 'CO2 emissions per capita, 2018': co2_2018} # Dictionary, used to store data values in key:value\n",
    "# pairs\n",
    "df = pd.DataFrame(d)\n",
    "\n",
    "print(len(df))\n",
    "print(df.shape)\n",
    "df"
   ]
  },
  {
   "cell_type": "code",
   "execution_count": 42,
   "metadata": {},
   "outputs": [
    {
     "data": {
      "text/html": [
       "<div>\n",
       "<style scoped>\n",
       "    .dataframe tbody tr th:only-of-type {\n",
       "        vertical-align: middle;\n",
       "    }\n",
       "\n",
       "    .dataframe tbody tr th {\n",
       "        vertical-align: top;\n",
       "    }\n",
       "\n",
       "    .dataframe thead th {\n",
       "        text-align: right;\n",
       "    }\n",
       "</style>\n",
       "<table border=\"1\" class=\"dataframe\">\n",
       "  <thead>\n",
       "    <tr style=\"text-align: right;\">\n",
       "      <th></th>\n",
       "      <th>Country</th>\n",
       "      <th>CO2 emissions per capita, 2018</th>\n",
       "    </tr>\n",
       "  </thead>\n",
       "  <tbody>\n",
       "    <tr>\n",
       "      <th>368668</th>\n",
       "      <td>United States</td>\n",
       "      <td>15.240875</td>\n",
       "    </tr>\n",
       "  </tbody>\n",
       "</table>\n",
       "</div>"
      ],
      "text/plain": [
       "              Country  CO2 emissions per capita, 2018\n",
       "368668  United States                       15.240875"
      ]
     },
     "execution_count": 42,
     "metadata": {},
     "output_type": "execute_result"
    }
   ],
   "source": [
    "USA_emissions = df[df['Country'] == 'United States'] # Slice out the row by direct-masking with a boolean expression\n",
    "# Recall: Indexing refers to columns, slicing refers to rows.\n",
    "# Direct masking operations are interpreted row-wise rather than column-wise.\n",
    "USA_emissions\n",
    "#USA_emissions.iloc[0,1] # Extract the value\n",
    "#USA_emissions.values[0,1] # Also extracts the value"
   ]
  },
  {
   "cell_type": "markdown",
   "metadata": {},
   "source": [
    "What are the countries with the highest emissions?"
   ]
  },
  {
   "cell_type": "code",
   "execution_count": 47,
   "metadata": {},
   "outputs": [
    {
     "data": {
      "text/html": [
       "<div>\n",
       "<style scoped>\n",
       "    .dataframe tbody tr th:only-of-type {\n",
       "        vertical-align: middle;\n",
       "    }\n",
       "\n",
       "    .dataframe tbody tr th {\n",
       "        vertical-align: top;\n",
       "    }\n",
       "\n",
       "    .dataframe thead th {\n",
       "        text-align: right;\n",
       "    }\n",
       "</style>\n",
       "<table border=\"1\" class=\"dataframe\">\n",
       "  <thead>\n",
       "    <tr style=\"text-align: right;\">\n",
       "      <th></th>\n",
       "      <th>Country</th>\n",
       "      <th>CO2 emissions per capita, 2018</th>\n",
       "    </tr>\n",
       "  </thead>\n",
       "  <tbody>\n",
       "    <tr>\n",
       "      <th>224168</th>\n",
       "      <td>Kuwait</td>\n",
       "      <td>21.622724</td>\n",
       "    </tr>\n",
       "    <tr>\n",
       "      <th>300753</th>\n",
       "      <td>Qatar</td>\n",
       "      <td>32.415639</td>\n",
       "    </tr>\n",
       "    <tr>\n",
       "      <th>365778</th>\n",
       "      <td>United Arab Emirates</td>\n",
       "      <td>20.797498</td>\n",
       "    </tr>\n",
       "  </tbody>\n",
       "</table>\n",
       "</div>"
      ],
      "text/plain": [
       "                     Country  CO2 emissions per capita, 2018\n",
       "224168                Kuwait                       21.622724\n",
       "300753                 Qatar                       32.415639\n",
       "365778  United Arab Emirates                       20.797498"
      ]
     },
     "execution_count": 47,
     "metadata": {},
     "output_type": "execute_result"
    }
   ],
   "source": [
    "highestCO2_countries = df[df['CO2 emissions per capita, 2018'] > 20]\n",
    "highestCO2_countries"
   ]
  },
  {
   "cell_type": "code",
   "execution_count": 48,
   "metadata": {},
   "outputs": [
    {
     "data": {
      "text/html": [
       "<div>\n",
       "<style scoped>\n",
       "    .dataframe tbody tr th:only-of-type {\n",
       "        vertical-align: middle;\n",
       "    }\n",
       "\n",
       "    .dataframe tbody tr th {\n",
       "        vertical-align: top;\n",
       "    }\n",
       "\n",
       "    .dataframe thead th {\n",
       "        text-align: right;\n",
       "    }\n",
       "</style>\n",
       "<table border=\"1\" class=\"dataframe\">\n",
       "  <thead>\n",
       "    <tr style=\"text-align: right;\">\n",
       "      <th></th>\n",
       "      <th>Country</th>\n",
       "      <th>CO2 emissions per capita, 2018</th>\n",
       "    </tr>\n",
       "  </thead>\n",
       "  <tbody>\n",
       "    <tr>\n",
       "      <th>254513</th>\n",
       "      <td>Mexico</td>\n",
       "      <td>3.741478</td>\n",
       "    </tr>\n",
       "  </tbody>\n",
       "</table>\n",
       "</div>"
      ],
      "text/plain": [
       "       Country  CO2 emissions per capita, 2018\n",
       "254513  Mexico                        3.741478"
      ]
     },
     "execution_count": 48,
     "metadata": {},
     "output_type": "execute_result"
    }
   ],
   "source": [
    "# Where is Mexico in all of this?\n",
    "Mx_emissions = df[df['Country'] == 'Mexico']\n",
    "Mx_emissions"
   ]
  },
  {
   "cell_type": "code",
   "execution_count": 54,
   "metadata": {},
   "outputs": [
    {
     "data": {
      "text/plain": [
       "Text(0.5, 1.0, 'Histogram of CO2 Emissions per Capita in 2018')"
      ]
     },
     "execution_count": 54,
     "metadata": {},
     "output_type": "execute_result"
    },
    {
     "data": {
      "image/png": "[encoded data removed]",
      "text/plain": [
       "<Figure size 432x288 with 1 Axes>"
      ]
     },
     "metadata": {
      "needs_background": "light"
     },
     "output_type": "display_data"
    }
   ],
   "source": [
    "# Histogram of country emissions per capita\n",
    "\n",
    "# Create just a figure and only one subplot\n",
    "fig, ax = plt.subplots() # subplots returns a tuple with the figure, axis attributes\n",
    "# A tuple is a type of Python array. It is a collection which is ordered and unchangeable, whereas a list is ordered and\n",
    "# changeable. \n",
    "\n",
    "# Even though only one plot is being created, subplots() function is used because this function returns two arguments\n",
    "# figure and axes.Axes, the latter will be used in creating annotations.\n",
    "\n",
    "ax.annotate(\"USA\",\n",
    "           xy=(USA_emissions.iloc[0,1], 10), xycoords='data',\n",
    "           xytext=(USA_emissions.iloc[0,1],30), textcoords='data',\n",
    "           arrowprops=dict(arrowstyle=\"->\",\n",
    "                          connectionstyle=\"arc3\"),\n",
    "           )\n",
    "\n",
    "ax.annotate(\"Kuwait\",\n",
    "           xy=(highestCO2_countries.iloc[0,1], 5), xycoords = 'data',\n",
    "           xytext=(highestCO2_countries.iloc[0,1], 20), textcoords='data',\n",
    "            arrowprops=dict(arrowstyle=\"->\",\n",
    "                           connectionstyle=\"arc3\"),\n",
    "           )\n",
    "\n",
    "ax.annotate(\"UAE\",\n",
    "           xy=(highestCO2_countries.iloc[0,1], 5), xycoords = 'data',\n",
    "           xytext=(highestCO2_countries.iloc[0,1], 28), textcoords='data',\n",
    "           )\n",
    "\n",
    "ax.annotate(\"Qatar\",\n",
    "           xy=(highestCO2_countries.iloc[1,1]-1.4, 2), xycoords = 'data',\n",
    "           xytext=(highestCO2_countries.iloc[1,1]-1.4, 15), textcoords='data',\n",
    "            arrowprops=dict(arrowstyle=\"->\",\n",
    "                            connectionstyle=\"arc3\"),\n",
    "           )\n",
    "# Subtracting 1.4 from the Qatar value to shift the text to the left.\n",
    "\n",
    "ax.annotate(\"Mexico\",\n",
    "           xy=(Mx_emissions.iloc[0,1], 50), xycoords = 'data',\n",
    "           xytext=(Mx_emissions.iloc[0,1], 60), textcoords='data',\n",
    "            arrowprops=dict(arrowstyle=\"->\",\n",
    "                            connectionstyle=\"arc3\"),\n",
    "           )\n",
    "            \n",
    "# Note that 'data' in xycoords and textcoords is simply the option assigned to those two parameters, it is not referring\n",
    "# to the Pandas dataframe 'data' -- see the doc.\n",
    "                             \n",
    "# # of bins\n",
    "k = math.ceil(math.sqrt(len(co2_2018)))\n",
    "\n",
    "# Histogram                             \n",
    "plt.hist(co2_2018, k, facecolor = 'green', edgecolor = 'white')\n",
    "\n",
    "# Labels\n",
    "plt.xlabel(stage['Indicator Name'].iloc[0]) # Query column 'Indicator Name' in the stage DataFrame, and extract the location\n",
    "# of element 0 by using the implicit index 0 (Pthon-style index, where 0 references element 1 in the array)\n",
    "plt.ylabel('Number of Countries')\n",
    "plt.title('Histogram of CO2 Emissions per Capita in 2018')                             "
   ]
  },
  {
   "cell_type": "markdown",
   "metadata": {},
   "source": [
    "## Step 3: Data Science"
   ]
  },
  {
   "cell_type": "markdown",
   "metadata": {},
   "source": [
    "### Basic plotting with Matplotlib, part 2\n",
    "\n",
    "### Relationship between GDP and CO2 emissions in USA"
   ]
  },
  {
   "cell_type": "markdown",
   "metadata": {},
   "source": [
    "What is GDP? -- A monetary measure of the market value of all the final goods and services produced by a country in a specific time period."
   ]
  },
  {
   "cell_type": "code",
   "execution_count": 55,
   "metadata": {},
   "outputs": [
    {
     "data": {
      "text/html": [
       "<div>\n",
       "<style scoped>\n",
       "    .dataframe tbody tr th:only-of-type {\n",
       "        vertical-align: middle;\n",
       "    }\n",
       "\n",
       "    .dataframe tbody tr th {\n",
       "        vertical-align: top;\n",
       "    }\n",
       "\n",
       "    .dataframe thead th {\n",
       "        text-align: right;\n",
       "    }\n",
       "</style>\n",
       "<table border=\"1\" class=\"dataframe\">\n",
       "  <thead>\n",
       "    <tr style=\"text-align: right;\">\n",
       "      <th></th>\n",
       "      <th>Country Name</th>\n",
       "      <th>Country Code</th>\n",
       "      <th>Indicator Name</th>\n",
       "      <th>Indicator Code</th>\n",
       "      <th>1960</th>\n",
       "      <th>1961</th>\n",
       "      <th>1962</th>\n",
       "      <th>1963</th>\n",
       "      <th>1964</th>\n",
       "      <th>1965</th>\n",
       "      <th>...</th>\n",
       "      <th>2013</th>\n",
       "      <th>2014</th>\n",
       "      <th>2015</th>\n",
       "      <th>2016</th>\n",
       "      <th>2017</th>\n",
       "      <th>2018</th>\n",
       "      <th>2019</th>\n",
       "      <th>2020</th>\n",
       "      <th>2021</th>\n",
       "      <th>Unnamed: 66</th>\n",
       "    </tr>\n",
       "  </thead>\n",
       "  <tbody>\n",
       "    <tr>\n",
       "      <th>368946</th>\n",
       "      <td>United States</td>\n",
       "      <td>USA</td>\n",
       "      <td>GDP per capita (constant 2015 US$)</td>\n",
       "      <td>NY.GDP.PCAP.KD</td>\n",
       "      <td>19135.268182</td>\n",
       "      <td>19253.547329</td>\n",
       "      <td>20116.235124</td>\n",
       "      <td>20701.269947</td>\n",
       "      <td>21599.818705</td>\n",
       "      <td>22696.678583</td>\n",
       "      <td>...</td>\n",
       "      <td>54604.130054</td>\n",
       "      <td>55574.356825</td>\n",
       "      <td>56863.371496</td>\n",
       "      <td>57418.933846</td>\n",
       "      <td>58387.775808</td>\n",
       "      <td>59821.592274</td>\n",
       "      <td>60836.771454</td>\n",
       "      <td>58203.379006</td>\n",
       "      <td>NaN</td>\n",
       "      <td>NaN</td>\n",
       "    </tr>\n",
       "  </tbody>\n",
       "</table>\n",
       "<p>1 rows × 67 columns</p>\n",
       "</div>"
      ],
      "text/plain": [
       "         Country Name Country Code                      Indicator Name  \\\n",
       "368946  United States          USA  GDP per capita (constant 2015 US$)   \n",
       "\n",
       "        Indicator Code          1960          1961          1962  \\\n",
       "368946  NY.GDP.PCAP.KD  19135.268182  19253.547329  20116.235124   \n",
       "\n",
       "                1963          1964          1965  ...          2013  \\\n",
       "368946  20701.269947  21599.818705  22696.678583  ...  54604.130054   \n",
       "\n",
       "                2014          2015          2016          2017          2018  \\\n",
       "368946  55574.356825  56863.371496  57418.933846  58387.775808  59821.592274   \n",
       "\n",
       "                2019          2020  2021  Unnamed: 66  \n",
       "368946  60836.771454  58203.379006   NaN          NaN  \n",
       "\n",
       "[1 rows x 67 columns]"
      ]
     },
     "execution_count": 55,
     "metadata": {},
     "output_type": "execute_result"
    }
   ],
   "source": [
    "# Query GDP per capita for the US\n",
    "hist_indicator = 'GDP per capita (constant 2015'\n",
    "hist_country = 'USA'\n",
    "\n",
    "mask1 = data['Indicator Name'].str.contains(hist_indicator, regex=False)\n",
    "mask2 = data['Country Code'].str.contains(hist_country)\n",
    "\n",
    "gdp_stage = data[mask1 & mask2]\n",
    "gdp_stage.head()"
   ]
  },
  {
   "cell_type": "code",
   "execution_count": 56,
   "metadata": {},
   "outputs": [
    {
     "data": {
      "text/html": [
       "<div>\n",
       "<style scoped>\n",
       "    .dataframe tbody tr th:only-of-type {\n",
       "        vertical-align: middle;\n",
       "    }\n",
       "\n",
       "    .dataframe tbody tr th {\n",
       "        vertical-align: top;\n",
       "    }\n",
       "\n",
       "    .dataframe thead th {\n",
       "        text-align: right;\n",
       "    }\n",
       "</style>\n",
       "<table border=\"1\" class=\"dataframe\">\n",
       "  <thead>\n",
       "    <tr style=\"text-align: right;\">\n",
       "      <th></th>\n",
       "      <th>Country Name</th>\n",
       "      <th>Country Code</th>\n",
       "      <th>Indicator Name</th>\n",
       "      <th>Indicator Code</th>\n",
       "      <th>1960</th>\n",
       "      <th>1961</th>\n",
       "      <th>1962</th>\n",
       "      <th>1963</th>\n",
       "      <th>1964</th>\n",
       "      <th>1965</th>\n",
       "      <th>...</th>\n",
       "      <th>2011</th>\n",
       "      <th>2012</th>\n",
       "      <th>2013</th>\n",
       "      <th>2014</th>\n",
       "      <th>2015</th>\n",
       "      <th>2016</th>\n",
       "      <th>2017</th>\n",
       "      <th>2018</th>\n",
       "      <th>2019</th>\n",
       "      <th>2020</th>\n",
       "    </tr>\n",
       "  </thead>\n",
       "  <tbody>\n",
       "    <tr>\n",
       "      <th>368946</th>\n",
       "      <td>United States</td>\n",
       "      <td>USA</td>\n",
       "      <td>GDP per capita (constant 2015 US$)</td>\n",
       "      <td>NY.GDP.PCAP.KD</td>\n",
       "      <td>19135.268182</td>\n",
       "      <td>19253.547329</td>\n",
       "      <td>20116.235124</td>\n",
       "      <td>20701.269947</td>\n",
       "      <td>21599.818705</td>\n",
       "      <td>22696.678583</td>\n",
       "      <td>...</td>\n",
       "      <td>53190.231121</td>\n",
       "      <td>53989.24834</td>\n",
       "      <td>54604.130054</td>\n",
       "      <td>55574.356825</td>\n",
       "      <td>56863.371496</td>\n",
       "      <td>57418.933846</td>\n",
       "      <td>58387.775808</td>\n",
       "      <td>59821.592274</td>\n",
       "      <td>60836.771454</td>\n",
       "      <td>58203.379006</td>\n",
       "    </tr>\n",
       "  </tbody>\n",
       "</table>\n",
       "<p>1 rows × 65 columns</p>\n",
       "</div>"
      ],
      "text/plain": [
       "         Country Name Country Code                      Indicator Name  \\\n",
       "368946  United States          USA  GDP per capita (constant 2015 US$)   \n",
       "\n",
       "        Indicator Code          1960          1961          1962  \\\n",
       "368946  NY.GDP.PCAP.KD  19135.268182  19253.547329  20116.235124   \n",
       "\n",
       "                1963          1964          1965  ...          2011  \\\n",
       "368946  20701.269947  21599.818705  22696.678583  ...  53190.231121   \n",
       "\n",
       "               2012          2013          2014          2015          2016  \\\n",
       "368946  53989.24834  54604.130054  55574.356825  56863.371496  57418.933846   \n",
       "\n",
       "                2017          2018          2019          2020  \n",
       "368946  58387.775808  59821.592274  60836.771454  58203.379006  \n",
       "\n",
       "[1 rows x 65 columns]"
      ]
     },
     "execution_count": 56,
     "metadata": {},
     "output_type": "execute_result"
    }
   ],
   "source": [
    "# Handle missing data\n",
    "# Drop columns that contain NaN elements\n",
    "gdp_stage = gdp_stage.dropna(axis=1)\n",
    "gdp_stage.head()"
   ]
  },
  {
   "cell_type": "markdown",
   "metadata": {},
   "source": [
    "First, what is the trend of GDP over time for the USA?"
   ]
  },
  {
   "cell_type": "markdown",
   "metadata": {},
   "source": [
    "### Line plot"
   ]
  },
  {
   "cell_type": "code",
   "execution_count": 94,
   "metadata": {},
   "outputs": [
    {
     "name": "stdout",
     "output_type": "stream",
     "text": [
      "61\n",
      "Range: 1960 to 2020\n"
     ]
    }
   ],
   "source": [
    "# Line plot\n",
    "\n",
    "# Get the years\n",
    "gdp_years = gdp_stage.columns[4:].tolist()\n",
    "print(len(gdp_years))\n",
    "\n",
    "# Range:\n",
    "print(\"Range:\", min(gdp_years), \"to\", max(gdp_years))"
   ]
  },
  {
   "cell_type": "code",
   "execution_count": 95,
   "metadata": {},
   "outputs": [
    {
     "name": "stdout",
     "output_type": "stream",
     "text": [
      "<class 'numpy.ndarray'>\n",
      "1\n",
      "(1, 61)\n"
     ]
    }
   ],
   "source": [
    "# Get the GDP values\n",
    "gdp = gdp_stage[gdp_years].values # Use the years list to slice into the DataFrame, by using the values method, the output\n",
    "# of the expression will be a Numpy array\n",
    "\n",
    "print(type(gdp))\n",
    "print(len(gdp))\n",
    "print(gdp.shape)"
   ]
  },
  {
   "cell_type": "code",
   "execution_count": 96,
   "metadata": {},
   "outputs": [
    {
     "name": "stdout",
     "output_type": "stream",
     "text": [
      "(61, 1)\n"
     ]
    }
   ],
   "source": [
    "# To plot, both x and y must have the same first dimension, therefore gdp should be transposed\n",
    "gdp = gdp.T\n",
    "print(gdp.shape)"
   ]
  },
  {
   "cell_type": "code",
   "execution_count": 97,
   "metadata": {},
   "outputs": [],
   "source": [
    "# Convert gdp years list to an integer list\n",
    "gdp_years = [int(gdp_years) for gdp_years in gdp_years] # Need some clarification with this expression"
   ]
  },
  {
   "cell_type": "code",
   "execution_count": 99,
   "metadata": {},
   "outputs": [
    {
     "name": "stdout",
     "output_type": "stream",
     "text": [
      "<class 'list'>\n",
      "<class 'int'>\n"
     ]
    }
   ],
   "source": [
    "print(type(gdp_years))\n",
    "print(type(gdp_years[0]))\n",
    "#gdp_years"
   ]
  },
  {
   "cell_type": "code",
   "execution_count": 100,
   "metadata": {},
   "outputs": [
    {
     "data": {
      "text/plain": [
       "Text(0.5, 1.0, 'US GDP per Capita')"
      ]
     },
     "execution_count": 100,
     "metadata": {},
     "output_type": "execute_result"
    },
    {
     "data": {
      "image/png": "[encoded data removed]",
      "text/plain": [
       "<Figure size 432x288 with 1 Axes>"
      ]
     },
     "metadata": {
      "needs_background": "light"
     },
     "output_type": "display_data"
    }
   ],
   "source": [
    "plt.plot(gdp_years,gdp)\n",
    "\n",
    "plt.xlabel('Year', fontsize=14)\n",
    "plt.ylabel(gdp_stage['Indicator Name'].iloc[0], fontsize=12)\n",
    "plt.title('US GDP per Capita', fontsize=18)"
   ]
  },
  {
   "cell_type": "markdown",
   "metadata": {},
   "source": [
    "Is there a correlation between GDP per capita and CO2 emissions?"
   ]
  },
  {
   "cell_type": "markdown",
   "metadata": {},
   "source": [
    "### Scatter plot to evalute GDP against CO2 emissions per capita"
   ]
  },
  {
   "cell_type": "markdown",
   "metadata": {},
   "source": [
    "Ensure time frames for both indicators match, as a scatterplot requires that the length of the arrays be equal."
   ]
  },
  {
   "cell_type": "code",
   "execution_count": 101,
   "metadata": {},
   "outputs": [
    {
     "name": "stdout",
     "output_type": "stream",
     "text": [
      "GDP range:  1960 to  2020\n",
      "CO2 emissions range:  1990 to  2018\n"
     ]
    }
   ],
   "source": [
    "print(\"GDP range: \", min(gdp_years), \"to \", max(gdp_years))\n",
    "print(\"CO2 emissions range: \", min(years), \"to \", max(years))"
   ]
  },
  {
   "cell_type": "code",
   "execution_count": 102,
   "metadata": {},
   "outputs": [
    {
     "data": {
      "text/html": [
       "<div>\n",
       "<style scoped>\n",
       "    .dataframe tbody tr th:only-of-type {\n",
       "        vertical-align: middle;\n",
       "    }\n",
       "\n",
       "    .dataframe tbody tr th {\n",
       "        vertical-align: top;\n",
       "    }\n",
       "\n",
       "    .dataframe thead th {\n",
       "        text-align: right;\n",
       "    }\n",
       "</style>\n",
       "<table border=\"1\" class=\"dataframe\">\n",
       "  <thead>\n",
       "    <tr style=\"text-align: right;\">\n",
       "      <th></th>\n",
       "      <th>1990</th>\n",
       "      <th>1991</th>\n",
       "      <th>1992</th>\n",
       "      <th>1993</th>\n",
       "      <th>1994</th>\n",
       "      <th>1995</th>\n",
       "      <th>1996</th>\n",
       "      <th>1997</th>\n",
       "      <th>1998</th>\n",
       "      <th>1999</th>\n",
       "      <th>...</th>\n",
       "      <th>2009</th>\n",
       "      <th>2010</th>\n",
       "      <th>2011</th>\n",
       "      <th>2012</th>\n",
       "      <th>2013</th>\n",
       "      <th>2014</th>\n",
       "      <th>2015</th>\n",
       "      <th>2016</th>\n",
       "      <th>2017</th>\n",
       "      <th>2018</th>\n",
       "    </tr>\n",
       "  </thead>\n",
       "  <tbody>\n",
       "    <tr>\n",
       "      <th>368946</th>\n",
       "      <td>39278.59535</td>\n",
       "      <td>38715.261688</td>\n",
       "      <td>39526.970805</td>\n",
       "      <td>40082.604815</td>\n",
       "      <td>41189.238357</td>\n",
       "      <td>41794.192213</td>\n",
       "      <td>42869.24717</td>\n",
       "      <td>44212.167041</td>\n",
       "      <td>45658.136598</td>\n",
       "      <td>47282.284676</td>\n",
       "      <td>...</td>\n",
       "      <td>51869.706308</td>\n",
       "      <td>52759.998081</td>\n",
       "      <td>53190.231121</td>\n",
       "      <td>53989.24834</td>\n",
       "      <td>54604.130054</td>\n",
       "      <td>55574.356825</td>\n",
       "      <td>56863.371496</td>\n",
       "      <td>57418.933846</td>\n",
       "      <td>58387.775808</td>\n",
       "      <td>59821.592274</td>\n",
       "    </tr>\n",
       "  </tbody>\n",
       "</table>\n",
       "<p>1 rows × 29 columns</p>\n",
       "</div>"
      ],
      "text/plain": [
       "               1990          1991          1992          1993          1994  \\\n",
       "368946  39278.59535  38715.261688  39526.970805  40082.604815  41189.238357   \n",
       "\n",
       "                1995         1996          1997          1998          1999  \\\n",
       "368946  41794.192213  42869.24717  44212.167041  45658.136598  47282.284676   \n",
       "\n",
       "        ...          2009          2010          2011         2012  \\\n",
       "368946  ...  51869.706308  52759.998081  53190.231121  53989.24834   \n",
       "\n",
       "                2013          2014          2015          2016          2017  \\\n",
       "368946  54604.130054  55574.356825  56863.371496  57418.933846  58387.775808   \n",
       "\n",
       "                2018  \n",
       "368946  59821.592274  \n",
       "\n",
       "[1 rows x 29 columns]"
      ]
     },
     "execution_count": 102,
     "metadata": {},
     "output_type": "execute_result"
    }
   ],
   "source": [
    "# Truncate the gdp_stage on the left and right to match the CO2 emissions indicator range\n",
    "\n",
    "gdp_stage_trunc = gdp_stage.loc[:,'1990':'2018'] # Slice with column labels; when using .loc with slices, if both the start\n",
    "# and stop labels are present in the index, then elements located between the two (inclusive) are returned\n",
    "gdp_stage_trunc.head()"
   ]
  },
  {
   "cell_type": "code",
   "execution_count": 103,
   "metadata": {},
   "outputs": [
    {
     "data": {
      "text/html": [
       "<div>\n",
       "<style scoped>\n",
       "    .dataframe tbody tr th:only-of-type {\n",
       "        vertical-align: middle;\n",
       "    }\n",
       "\n",
       "    .dataframe tbody tr th {\n",
       "        vertical-align: top;\n",
       "    }\n",
       "\n",
       "    .dataframe thead th {\n",
       "        text-align: right;\n",
       "    }\n",
       "</style>\n",
       "<table border=\"1\" class=\"dataframe\">\n",
       "  <thead>\n",
       "    <tr style=\"text-align: right;\">\n",
       "      <th></th>\n",
       "      <th>Country Name</th>\n",
       "      <th>Country Code</th>\n",
       "      <th>Indicator Name</th>\n",
       "      <th>Indicator Code</th>\n",
       "      <th>1990</th>\n",
       "      <th>1991</th>\n",
       "      <th>1992</th>\n",
       "      <th>1993</th>\n",
       "      <th>1994</th>\n",
       "      <th>1995</th>\n",
       "      <th>...</th>\n",
       "      <th>2009</th>\n",
       "      <th>2010</th>\n",
       "      <th>2011</th>\n",
       "      <th>2012</th>\n",
       "      <th>2013</th>\n",
       "      <th>2014</th>\n",
       "      <th>2015</th>\n",
       "      <th>2016</th>\n",
       "      <th>2017</th>\n",
       "      <th>2018</th>\n",
       "    </tr>\n",
       "  </thead>\n",
       "  <tbody>\n",
       "    <tr>\n",
       "      <th>368668</th>\n",
       "      <td>United States</td>\n",
       "      <td>USA</td>\n",
       "      <td>CO2 emissions (metric tons per capita)</td>\n",
       "      <td>EN.ATM.CO2E.PC</td>\n",
       "      <td>19.409229</td>\n",
       "      <td>19.005736</td>\n",
       "      <td>19.025082</td>\n",
       "      <td>19.238109</td>\n",
       "      <td>19.280611</td>\n",
       "      <td>19.253938</td>\n",
       "      <td>...</td>\n",
       "      <td>16.818868</td>\n",
       "      <td>17.434196</td>\n",
       "      <td>16.599404</td>\n",
       "      <td>15.771145</td>\n",
       "      <td>16.102958</td>\n",
       "      <td>16.026379</td>\n",
       "      <td>15.535342</td>\n",
       "      <td>15.131747</td>\n",
       "      <td>14.805882</td>\n",
       "      <td>15.240875</td>\n",
       "    </tr>\n",
       "  </tbody>\n",
       "</table>\n",
       "<p>1 rows × 33 columns</p>\n",
       "</div>"
      ],
      "text/plain": [
       "         Country Name Country Code                          Indicator Name  \\\n",
       "368668  United States          USA  CO2 emissions (metric tons per capita)   \n",
       "\n",
       "        Indicator Code       1990       1991       1992       1993       1994  \\\n",
       "368668  EN.ATM.CO2E.PC  19.409229  19.005736  19.025082  19.238109  19.280611   \n",
       "\n",
       "             1995  ...       2009       2010       2011       2012       2013  \\\n",
       "368668  19.253938  ...  16.818868  17.434196  16.599404  15.771145  16.102958   \n",
       "\n",
       "             2014       2015       2016       2017       2018  \n",
       "368668  16.026379  15.535342  15.131747  14.805882  15.240875  \n",
       "\n",
       "[1 rows x 33 columns]"
      ]
     },
     "execution_count": 103,
     "metadata": {},
     "output_type": "execute_result"
    }
   ],
   "source": [
    "co2_stage = stage\n",
    "co2_stage"
   ]
  },
  {
   "cell_type": "code",
   "execution_count": 104,
   "metadata": {},
   "outputs": [
    {
     "name": "stdout",
     "output_type": "stream",
     "text": [
      "(29, 1)\n",
      "(29, 1)\n"
     ]
    }
   ],
   "source": [
    "# Get values from gdp_stage and co2_stage\n",
    "\n",
    "gdp_values = gdp_stage_trunc.values.T # To plot, the trailing dim must be 1, so a transpose is in order\n",
    "print(gdp_values.shape)\n",
    "\n",
    "co2_values = co2_stage.loc[:,'1990':].values.T\n",
    "print(co2_values.shape)"
   ]
  },
  {
   "cell_type": "code",
   "execution_count": 107,
   "metadata": {},
   "outputs": [
    {
     "data": {
      "text/plain": [
       "Text(0.5, 1.0, 'CO2 Emissions vs. GDP per Capita')"
      ]
     },
     "execution_count": 107,
     "metadata": {},
     "output_type": "execute_result"
    },
    {
     "data": {
      "image/png": "[encoded data removed]",
      "text/plain": [
       "<Figure size 432x288 with 1 Axes>"
      ]
     },
     "metadata": {
      "needs_background": "light"
     },
     "output_type": "display_data"
    }
   ],
   "source": [
    "# Scatter plot\n",
    "plt.scatter(gdp_values, co2_values)\n",
    "\n",
    "plt.xlabel(gdp_stage['Indicator Name'].iloc[0], fontsize=12)\n",
    "plt.ylabel(stage['Indicator Name'].iloc[0], fontsize=12)\n",
    "plt.title('CO2 Emissions vs. GDP per Capita', fontsize=16)"
   ]
  },
  {
   "cell_type": "markdown",
   "metadata": {},
   "source": [
    "There is an apparent negative correlation between the two indicators. A more objective conclusion can be drawn by calculating the correlation."
   ]
  },
  {
   "cell_type": "code",
   "execution_count": 116,
   "metadata": {},
   "outputs": [
    {
     "name": "stdout",
     "output_type": "stream",
     "text": [
      "<class 'list'>\n"
     ]
    },
    {
     "data": {
      "text/html": [
       "<div>\n",
       "<style scoped>\n",
       "    .dataframe tbody tr th:only-of-type {\n",
       "        vertical-align: middle;\n",
       "    }\n",
       "\n",
       "    .dataframe tbody tr th {\n",
       "        vertical-align: top;\n",
       "    }\n",
       "\n",
       "    .dataframe thead th {\n",
       "        text-align: right;\n",
       "    }\n",
       "</style>\n",
       "<table border=\"1\" class=\"dataframe\">\n",
       "  <thead>\n",
       "    <tr style=\"text-align: right;\">\n",
       "      <th></th>\n",
       "      <th>GDP</th>\n",
       "      <th>CO2</th>\n",
       "    </tr>\n",
       "  </thead>\n",
       "  <tbody>\n",
       "    <tr>\n",
       "      <th>0</th>\n",
       "      <td>39278.595350</td>\n",
       "      <td>19.409229</td>\n",
       "    </tr>\n",
       "    <tr>\n",
       "      <th>1</th>\n",
       "      <td>38715.261688</td>\n",
       "      <td>19.005736</td>\n",
       "    </tr>\n",
       "    <tr>\n",
       "      <th>2</th>\n",
       "      <td>39526.970805</td>\n",
       "      <td>19.025082</td>\n",
       "    </tr>\n",
       "    <tr>\n",
       "      <th>3</th>\n",
       "      <td>40082.604815</td>\n",
       "      <td>19.238109</td>\n",
       "    </tr>\n",
       "    <tr>\n",
       "      <th>4</th>\n",
       "      <td>41189.238357</td>\n",
       "      <td>19.280611</td>\n",
       "    </tr>\n",
       "    <tr>\n",
       "      <th>5</th>\n",
       "      <td>41794.192213</td>\n",
       "      <td>19.253938</td>\n",
       "    </tr>\n",
       "    <tr>\n",
       "      <th>6</th>\n",
       "      <td>42869.247170</td>\n",
       "      <td>19.611090</td>\n",
       "    </tr>\n",
       "    <tr>\n",
       "      <th>7</th>\n",
       "      <td>44212.167041</td>\n",
       "      <td>20.347873</td>\n",
       "    </tr>\n",
       "    <tr>\n",
       "      <th>8</th>\n",
       "      <td>45658.136598</td>\n",
       "      <td>20.266880</td>\n",
       "    </tr>\n",
       "    <tr>\n",
       "      <th>9</th>\n",
       "      <td>47282.284676</td>\n",
       "      <td>20.105720</td>\n",
       "    </tr>\n",
       "    <tr>\n",
       "      <th>10</th>\n",
       "      <td>48689.031290</td>\n",
       "      <td>20.471933</td>\n",
       "    </tr>\n",
       "    <tr>\n",
       "      <th>11</th>\n",
       "      <td>48690.807941</td>\n",
       "      <td>20.175005</td>\n",
       "    </tr>\n",
       "    <tr>\n",
       "      <th>12</th>\n",
       "      <td>49081.358788</td>\n",
       "      <td>19.449478</td>\n",
       "    </tr>\n",
       "    <tr>\n",
       "      <th>13</th>\n",
       "      <td>50053.624104</td>\n",
       "      <td>19.508705</td>\n",
       "    </tr>\n",
       "    <tr>\n",
       "      <th>14</th>\n",
       "      <td>51476.488786</td>\n",
       "      <td>19.603573</td>\n",
       "    </tr>\n",
       "    <tr>\n",
       "      <th>15</th>\n",
       "      <td>52796.089816</td>\n",
       "      <td>19.478026</td>\n",
       "    </tr>\n",
       "    <tr>\n",
       "      <th>16</th>\n",
       "      <td>53782.297288</td>\n",
       "      <td>18.957644</td>\n",
       "    </tr>\n",
       "    <tr>\n",
       "      <th>17</th>\n",
       "      <td>54272.719553</td>\n",
       "      <td>19.056027</td>\n",
       "    </tr>\n",
       "    <tr>\n",
       "      <th>18</th>\n",
       "      <td>53688.365135</td>\n",
       "      <td>18.294806</td>\n",
       "    </tr>\n",
       "    <tr>\n",
       "      <th>19</th>\n",
       "      <td>51869.706308</td>\n",
       "      <td>16.818868</td>\n",
       "    </tr>\n",
       "    <tr>\n",
       "      <th>20</th>\n",
       "      <td>52759.998081</td>\n",
       "      <td>17.434196</td>\n",
       "    </tr>\n",
       "    <tr>\n",
       "      <th>21</th>\n",
       "      <td>53190.231121</td>\n",
       "      <td>16.599404</td>\n",
       "    </tr>\n",
       "    <tr>\n",
       "      <th>22</th>\n",
       "      <td>53989.248340</td>\n",
       "      <td>15.771145</td>\n",
       "    </tr>\n",
       "    <tr>\n",
       "      <th>23</th>\n",
       "      <td>54604.130054</td>\n",
       "      <td>16.102958</td>\n",
       "    </tr>\n",
       "    <tr>\n",
       "      <th>24</th>\n",
       "      <td>55574.356825</td>\n",
       "      <td>16.026379</td>\n",
       "    </tr>\n",
       "    <tr>\n",
       "      <th>25</th>\n",
       "      <td>56863.371496</td>\n",
       "      <td>15.535342</td>\n",
       "    </tr>\n",
       "    <tr>\n",
       "      <th>26</th>\n",
       "      <td>57418.933846</td>\n",
       "      <td>15.131747</td>\n",
       "    </tr>\n",
       "    <tr>\n",
       "      <th>27</th>\n",
       "      <td>58387.775808</td>\n",
       "      <td>14.805882</td>\n",
       "    </tr>\n",
       "    <tr>\n",
       "      <th>28</th>\n",
       "      <td>59821.592274</td>\n",
       "      <td>15.240875</td>\n",
       "    </tr>\n",
       "  </tbody>\n",
       "</table>\n",
       "</div>"
      ],
      "text/plain": [
       "             GDP        CO2\n",
       "0   39278.595350  19.409229\n",
       "1   38715.261688  19.005736\n",
       "2   39526.970805  19.025082\n",
       "3   40082.604815  19.238109\n",
       "4   41189.238357  19.280611\n",
       "5   41794.192213  19.253938\n",
       "6   42869.247170  19.611090\n",
       "7   44212.167041  20.347873\n",
       "8   45658.136598  20.266880\n",
       "9   47282.284676  20.105720\n",
       "10  48689.031290  20.471933\n",
       "11  48690.807941  20.175005\n",
       "12  49081.358788  19.449478\n",
       "13  50053.624104  19.508705\n",
       "14  51476.488786  19.603573\n",
       "15  52796.089816  19.478026\n",
       "16  53782.297288  18.957644\n",
       "17  54272.719553  19.056027\n",
       "18  53688.365135  18.294806\n",
       "19  51869.706308  16.818868\n",
       "20  52759.998081  17.434196\n",
       "21  53190.231121  16.599404\n",
       "22  53989.248340  15.771145\n",
       "23  54604.130054  16.102958\n",
       "24  55574.356825  16.026379\n",
       "25  56863.371496  15.535342\n",
       "26  57418.933846  15.131747\n",
       "27  58387.775808  14.805882\n",
       "28  59821.592274  15.240875"
      ]
     },
     "execution_count": 116,
     "metadata": {},
     "output_type": "execute_result"
    }
   ],
   "source": [
    "# Compute correlation using the .corr method\n",
    "\n",
    "#print(type(gdp_values))\n",
    "#print(type(co2_values))\n",
    "\n",
    "# Convert both arrays floating point lists (Series argument must be 1-dimensional, so the 29x1 array is converted to a list),\n",
    "# then to Pandas Series, the two Series will then be used to create a dictionary, \n",
    "# then the dictionary to create a DataFrame. The DataFrame calls the .corr method.\n",
    "gdp_values = [float(gdp_values) for gdp_values in gdp_values]\n",
    "co2_values = [float(co2_values) for co2_values in co2_values]\n",
    "print(type(gdp_values))\n",
    "\n",
    "# Pandas Series\n",
    "gdp_Series = pd.Series(gdp_values)\n",
    "co2_Series = pd.Series(co2_values)\n",
    "\n",
    "# Dictionary\n",
    "d = {'GDP':gdp_Series, 'CO2':co2_Series}\n",
    "newdf = pd.DataFrame(d)\n",
    "newdf"
   ]
  },
  {
   "cell_type": "code",
   "execution_count": 117,
   "metadata": {},
   "outputs": [
    {
     "data": {
      "text/html": [
       "<div>\n",
       "<style scoped>\n",
       "    .dataframe tbody tr th:only-of-type {\n",
       "        vertical-align: middle;\n",
       "    }\n",
       "\n",
       "    .dataframe tbody tr th {\n",
       "        vertical-align: top;\n",
       "    }\n",
       "\n",
       "    .dataframe thead th {\n",
       "        text-align: right;\n",
       "    }\n",
       "</style>\n",
       "<table border=\"1\" class=\"dataframe\">\n",
       "  <thead>\n",
       "    <tr style=\"text-align: right;\">\n",
       "      <th></th>\n",
       "      <th>GDP</th>\n",
       "      <th>CO2</th>\n",
       "    </tr>\n",
       "  </thead>\n",
       "  <tbody>\n",
       "    <tr>\n",
       "      <th>GDP</th>\n",
       "      <td>1.000000</td>\n",
       "      <td>-0.703146</td>\n",
       "    </tr>\n",
       "    <tr>\n",
       "      <th>CO2</th>\n",
       "      <td>-0.703146</td>\n",
       "      <td>1.000000</td>\n",
       "    </tr>\n",
       "  </tbody>\n",
       "</table>\n",
       "</div>"
      ],
      "text/plain": [
       "          GDP       CO2\n",
       "GDP  1.000000 -0.703146\n",
       "CO2 -0.703146  1.000000"
      ]
     },
     "execution_count": 117,
     "metadata": {},
     "output_type": "execute_result"
    }
   ],
   "source": [
    "# Correlation\n",
    "newdf.corr(method='pearson')"
   ]
  },
  {
   "cell_type": "code",
   "execution_count": 118,
   "metadata": {},
   "outputs": [
    {
     "data": {
      "text/plain": [
       "-0.7031462424574285"
      ]
     },
     "execution_count": 118,
     "metadata": {},
     "output_type": "execute_result"
    }
   ],
   "source": [
    "# Alternatively, compute corr using the Series.corr method\n",
    "gdp_Series.corr(co2_Series, method='pearson')"
   ]
  },
  {
   "cell_type": "markdown",
   "metadata": {},
   "source": [
    "In the correlation matrix, the main diagonal represents each variable being correlated with itself, hence yielding a value of 1. \n",
    "The other diagonal represents the correlation between the two variables, a values of -0.70 indicates a negative and relatively strong correlation. E.g., as CO2 emissions decrease, GDP per capita increases - it is critical to note that this conclusion is based off a relatively short time-frame (1990 - 2018, 28 years) and in order to make this claim substantial a longer time period (>50 years) should be sampled."
   ]
  },
  {
   "cell_type": "code",
   "execution_count": 119,
   "metadata": {},
   "outputs": [],
   "source": [
    "# Some useful shell commands\n",
    "\n",
    "#!echo \"Printing from the shell\" # echo is like print() in Python, only coming from the shell\n",
    "#%pwd # Print working directory\n",
    "#%history -n 1-4 # Access a batch of previous inputs at once"
   ]
  },
  {
   "cell_type": "markdown",
   "metadata": {},
   "source": [
    "## Other Matplotlib plots:\n",
    "\n",
    "https://matplotlib.org/stable/plot_types/index.html"
   ]
  }
 ],
 "metadata": {
  "kernelspec": {
   "display_name": "Python 3",
   "language": "python",
   "name": "python3"
  },
  "language_info": {
   "codemirror_mode": {
    "name": "ipython",
    "version": 3
   },
   "file_extension": ".py",
   "mimetype": "text/x-python",
   "name": "python",
   "nbconvert_exporter": "python",
   "pygments_lexer": "ipython3",
   "version": "3.8.5"
  }
 },
 "nbformat": 4,
 "nbformat_minor": 4
}
