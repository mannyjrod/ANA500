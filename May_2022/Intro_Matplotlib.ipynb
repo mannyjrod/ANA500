{
 "cells": [
  {
   "cell_type": "markdown",
   "metadata": {},
   "source": [
    "# Intro to Data Visualization with Matplotlib\n",
    "\n",
    "Author: Emmanuel Rodriguez\n",
    "\n",
    "https://emmanueljrodriguez.com/\n",
    "\n",
    "Date: 12 May 2022"
   ]
  },
  {
   "cell_type": "markdown",
   "metadata": {},
   "source": [
    "## Data to be explored: World Development Indicators (WDI)\n",
    "\n",
    "https://datatopics.worldbank.org/world-development-indicators/?msclkid=905295b0cef211eca247786f37737c73"
   ]
  },
  {
   "cell_type": "markdown",
   "metadata": {},
   "source": [
    "## Step 1: Initial exploration of the dataset"
   ]
  },
  {
   "cell_type": "code",
   "execution_count": 43,
   "metadata": {},
   "outputs": [],
   "source": [
    "# Import libraries\n",
    "import pandas as pd\n",
    "import numpy as np\n",
    "import random\n",
    "import matplotlib.pyplot as plt"
   ]
  },
  {
   "cell_type": "code",
   "execution_count": 44,
   "metadata": {},
   "outputs": [
    {
     "data": {
      "text/plain": [
       "(384370, 67)"
      ]
     },
     "execution_count": 44,
     "metadata": {},
     "output_type": "execute_result"
    }
   ],
   "source": [
    "data = pd.read_csv(r'C:\\Users\\ejoaq\\OneDrive\\1 My_Notebook\\2 Entrepreneurship and Work\\1 Teaching\\1 National University\\1 ANA 500 - Python for Data Science\\My Notebooks - from edX course\\WDI_csv\\WDIData.csv')\n",
    "# Prefix with 'r' to produce raw string\n",
    "data.shape"
   ]
  },
  {
   "cell_type": "markdown",
   "metadata": {},
   "source": [
    "Let's explore what the data holds."
   ]
  },
  {
   "cell_type": "code",
   "execution_count": 45,
   "metadata": {},
   "outputs": [
    {
     "data": {
      "text/html": [
       "<div>\n",
       "<style scoped>\n",
       "    .dataframe tbody tr th:only-of-type {\n",
       "        vertical-align: middle;\n",
       "    }\n",
       "\n",
       "    .dataframe tbody tr th {\n",
       "        vertical-align: top;\n",
       "    }\n",
       "\n",
       "    .dataframe thead th {\n",
       "        text-align: right;\n",
       "    }\n",
       "</style>\n",
       "<table border=\"1\" class=\"dataframe\">\n",
       "  <thead>\n",
       "    <tr style=\"text-align: right;\">\n",
       "      <th></th>\n",
       "      <th>Country Name</th>\n",
       "      <th>Country Code</th>\n",
       "      <th>Indicator Name</th>\n",
       "      <th>Indicator Code</th>\n",
       "      <th>1960</th>\n",
       "      <th>1961</th>\n",
       "      <th>1962</th>\n",
       "      <th>1963</th>\n",
       "      <th>1964</th>\n",
       "      <th>1965</th>\n",
       "      <th>...</th>\n",
       "      <th>2013</th>\n",
       "      <th>2014</th>\n",
       "      <th>2015</th>\n",
       "      <th>2016</th>\n",
       "      <th>2017</th>\n",
       "      <th>2018</th>\n",
       "      <th>2019</th>\n",
       "      <th>2020</th>\n",
       "      <th>2021</th>\n",
       "      <th>Unnamed: 66</th>\n",
       "    </tr>\n",
       "  </thead>\n",
       "  <tbody>\n",
       "    <tr>\n",
       "      <th>0</th>\n",
       "      <td>Africa Eastern and Southern</td>\n",
       "      <td>AFE</td>\n",
       "      <td>Access to clean fuels and technologies for coo...</td>\n",
       "      <td>EG.CFT.ACCS.ZS</td>\n",
       "      <td>NaN</td>\n",
       "      <td>NaN</td>\n",
       "      <td>NaN</td>\n",
       "      <td>NaN</td>\n",
       "      <td>NaN</td>\n",
       "      <td>NaN</td>\n",
       "      <td>...</td>\n",
       "      <td>16.936004</td>\n",
       "      <td>17.337896</td>\n",
       "      <td>17.687093</td>\n",
       "      <td>18.140971</td>\n",
       "      <td>18.491344</td>\n",
       "      <td>18.825520</td>\n",
       "      <td>19.272212</td>\n",
       "      <td>19.628009</td>\n",
       "      <td>NaN</td>\n",
       "      <td>NaN</td>\n",
       "    </tr>\n",
       "    <tr>\n",
       "      <th>1</th>\n",
       "      <td>Africa Eastern and Southern</td>\n",
       "      <td>AFE</td>\n",
       "      <td>Access to clean fuels and technologies for coo...</td>\n",
       "      <td>EG.CFT.ACCS.RU.ZS</td>\n",
       "      <td>NaN</td>\n",
       "      <td>NaN</td>\n",
       "      <td>NaN</td>\n",
       "      <td>NaN</td>\n",
       "      <td>NaN</td>\n",
       "      <td>NaN</td>\n",
       "      <td>...</td>\n",
       "      <td>6.499471</td>\n",
       "      <td>6.680066</td>\n",
       "      <td>6.859110</td>\n",
       "      <td>7.016238</td>\n",
       "      <td>7.180364</td>\n",
       "      <td>7.322294</td>\n",
       "      <td>7.517191</td>\n",
       "      <td>7.651598</td>\n",
       "      <td>NaN</td>\n",
       "      <td>NaN</td>\n",
       "    </tr>\n",
       "    <tr>\n",
       "      <th>2</th>\n",
       "      <td>Africa Eastern and Southern</td>\n",
       "      <td>AFE</td>\n",
       "      <td>Access to clean fuels and technologies for coo...</td>\n",
       "      <td>EG.CFT.ACCS.UR.ZS</td>\n",
       "      <td>NaN</td>\n",
       "      <td>NaN</td>\n",
       "      <td>NaN</td>\n",
       "      <td>NaN</td>\n",
       "      <td>NaN</td>\n",
       "      <td>NaN</td>\n",
       "      <td>...</td>\n",
       "      <td>37.855399</td>\n",
       "      <td>38.046781</td>\n",
       "      <td>38.326255</td>\n",
       "      <td>38.468426</td>\n",
       "      <td>38.670044</td>\n",
       "      <td>38.722783</td>\n",
       "      <td>38.927016</td>\n",
       "      <td>39.042839</td>\n",
       "      <td>NaN</td>\n",
       "      <td>NaN</td>\n",
       "    </tr>\n",
       "    <tr>\n",
       "      <th>3</th>\n",
       "      <td>Africa Eastern and Southern</td>\n",
       "      <td>AFE</td>\n",
       "      <td>Access to electricity (% of population)</td>\n",
       "      <td>EG.ELC.ACCS.ZS</td>\n",
       "      <td>NaN</td>\n",
       "      <td>NaN</td>\n",
       "      <td>NaN</td>\n",
       "      <td>NaN</td>\n",
       "      <td>NaN</td>\n",
       "      <td>NaN</td>\n",
       "      <td>...</td>\n",
       "      <td>31.794160</td>\n",
       "      <td>32.001027</td>\n",
       "      <td>33.871910</td>\n",
       "      <td>38.880173</td>\n",
       "      <td>40.261358</td>\n",
       "      <td>43.061877</td>\n",
       "      <td>44.270860</td>\n",
       "      <td>45.803485</td>\n",
       "      <td>NaN</td>\n",
       "      <td>NaN</td>\n",
       "    </tr>\n",
       "    <tr>\n",
       "      <th>4</th>\n",
       "      <td>Africa Eastern and Southern</td>\n",
       "      <td>AFE</td>\n",
       "      <td>Access to electricity, rural (% of rural popul...</td>\n",
       "      <td>EG.ELC.ACCS.RU.ZS</td>\n",
       "      <td>NaN</td>\n",
       "      <td>NaN</td>\n",
       "      <td>NaN</td>\n",
       "      <td>NaN</td>\n",
       "      <td>NaN</td>\n",
       "      <td>NaN</td>\n",
       "      <td>...</td>\n",
       "      <td>18.663502</td>\n",
       "      <td>17.633986</td>\n",
       "      <td>16.464681</td>\n",
       "      <td>24.531436</td>\n",
       "      <td>25.345111</td>\n",
       "      <td>27.449908</td>\n",
       "      <td>29.641760</td>\n",
       "      <td>30.404935</td>\n",
       "      <td>NaN</td>\n",
       "      <td>NaN</td>\n",
       "    </tr>\n",
       "    <tr>\n",
       "      <th>5</th>\n",
       "      <td>Africa Eastern and Southern</td>\n",
       "      <td>AFE</td>\n",
       "      <td>Access to electricity, urban (% of urban popul...</td>\n",
       "      <td>EG.ELC.ACCS.UR.ZS</td>\n",
       "      <td>NaN</td>\n",
       "      <td>NaN</td>\n",
       "      <td>NaN</td>\n",
       "      <td>NaN</td>\n",
       "      <td>NaN</td>\n",
       "      <td>NaN</td>\n",
       "      <td>...</td>\n",
       "      <td>67.112206</td>\n",
       "      <td>66.283426</td>\n",
       "      <td>67.080235</td>\n",
       "      <td>69.132292</td>\n",
       "      <td>70.928567</td>\n",
       "      <td>71.866136</td>\n",
       "      <td>73.332842</td>\n",
       "      <td>73.942949</td>\n",
       "      <td>NaN</td>\n",
       "      <td>NaN</td>\n",
       "    </tr>\n",
       "    <tr>\n",
       "      <th>6</th>\n",
       "      <td>Africa Eastern and Southern</td>\n",
       "      <td>AFE</td>\n",
       "      <td>Account ownership at a financial institution o...</td>\n",
       "      <td>FX.OWN.TOTL.ZS</td>\n",
       "      <td>NaN</td>\n",
       "      <td>NaN</td>\n",
       "      <td>NaN</td>\n",
       "      <td>NaN</td>\n",
       "      <td>NaN</td>\n",
       "      <td>NaN</td>\n",
       "      <td>...</td>\n",
       "      <td>NaN</td>\n",
       "      <td>NaN</td>\n",
       "      <td>NaN</td>\n",
       "      <td>NaN</td>\n",
       "      <td>NaN</td>\n",
       "      <td>NaN</td>\n",
       "      <td>NaN</td>\n",
       "      <td>NaN</td>\n",
       "      <td>NaN</td>\n",
       "      <td>NaN</td>\n",
       "    </tr>\n",
       "    <tr>\n",
       "      <th>7</th>\n",
       "      <td>Africa Eastern and Southern</td>\n",
       "      <td>AFE</td>\n",
       "      <td>Account ownership at a financial institution o...</td>\n",
       "      <td>FX.OWN.TOTL.FE.ZS</td>\n",
       "      <td>NaN</td>\n",
       "      <td>NaN</td>\n",
       "      <td>NaN</td>\n",
       "      <td>NaN</td>\n",
       "      <td>NaN</td>\n",
       "      <td>NaN</td>\n",
       "      <td>...</td>\n",
       "      <td>NaN</td>\n",
       "      <td>NaN</td>\n",
       "      <td>NaN</td>\n",
       "      <td>NaN</td>\n",
       "      <td>NaN</td>\n",
       "      <td>NaN</td>\n",
       "      <td>NaN</td>\n",
       "      <td>NaN</td>\n",
       "      <td>NaN</td>\n",
       "      <td>NaN</td>\n",
       "    </tr>\n",
       "    <tr>\n",
       "      <th>8</th>\n",
       "      <td>Africa Eastern and Southern</td>\n",
       "      <td>AFE</td>\n",
       "      <td>Account ownership at a financial institution o...</td>\n",
       "      <td>FX.OWN.TOTL.MA.ZS</td>\n",
       "      <td>NaN</td>\n",
       "      <td>NaN</td>\n",
       "      <td>NaN</td>\n",
       "      <td>NaN</td>\n",
       "      <td>NaN</td>\n",
       "      <td>NaN</td>\n",
       "      <td>...</td>\n",
       "      <td>NaN</td>\n",
       "      <td>NaN</td>\n",
       "      <td>NaN</td>\n",
       "      <td>NaN</td>\n",
       "      <td>NaN</td>\n",
       "      <td>NaN</td>\n",
       "      <td>NaN</td>\n",
       "      <td>NaN</td>\n",
       "      <td>NaN</td>\n",
       "      <td>NaN</td>\n",
       "    </tr>\n",
       "    <tr>\n",
       "      <th>9</th>\n",
       "      <td>Africa Eastern and Southern</td>\n",
       "      <td>AFE</td>\n",
       "      <td>Account ownership at a financial institution o...</td>\n",
       "      <td>FX.OWN.TOTL.OL.ZS</td>\n",
       "      <td>NaN</td>\n",
       "      <td>NaN</td>\n",
       "      <td>NaN</td>\n",
       "      <td>NaN</td>\n",
       "      <td>NaN</td>\n",
       "      <td>NaN</td>\n",
       "      <td>...</td>\n",
       "      <td>NaN</td>\n",
       "      <td>NaN</td>\n",
       "      <td>NaN</td>\n",
       "      <td>NaN</td>\n",
       "      <td>NaN</td>\n",
       "      <td>NaN</td>\n",
       "      <td>NaN</td>\n",
       "      <td>NaN</td>\n",
       "      <td>NaN</td>\n",
       "      <td>NaN</td>\n",
       "    </tr>\n",
       "  </tbody>\n",
       "</table>\n",
       "<p>10 rows × 67 columns</p>\n",
       "</div>"
      ],
      "text/plain": [
       "                  Country Name Country Code  \\\n",
       "0  Africa Eastern and Southern          AFE   \n",
       "1  Africa Eastern and Southern          AFE   \n",
       "2  Africa Eastern and Southern          AFE   \n",
       "3  Africa Eastern and Southern          AFE   \n",
       "4  Africa Eastern and Southern          AFE   \n",
       "5  Africa Eastern and Southern          AFE   \n",
       "6  Africa Eastern and Southern          AFE   \n",
       "7  Africa Eastern and Southern          AFE   \n",
       "8  Africa Eastern and Southern          AFE   \n",
       "9  Africa Eastern and Southern          AFE   \n",
       "\n",
       "                                      Indicator Name     Indicator Code  1960  \\\n",
       "0  Access to clean fuels and technologies for coo...     EG.CFT.ACCS.ZS   NaN   \n",
       "1  Access to clean fuels and technologies for coo...  EG.CFT.ACCS.RU.ZS   NaN   \n",
       "2  Access to clean fuels and technologies for coo...  EG.CFT.ACCS.UR.ZS   NaN   \n",
       "3            Access to electricity (% of population)     EG.ELC.ACCS.ZS   NaN   \n",
       "4  Access to electricity, rural (% of rural popul...  EG.ELC.ACCS.RU.ZS   NaN   \n",
       "5  Access to electricity, urban (% of urban popul...  EG.ELC.ACCS.UR.ZS   NaN   \n",
       "6  Account ownership at a financial institution o...     FX.OWN.TOTL.ZS   NaN   \n",
       "7  Account ownership at a financial institution o...  FX.OWN.TOTL.FE.ZS   NaN   \n",
       "8  Account ownership at a financial institution o...  FX.OWN.TOTL.MA.ZS   NaN   \n",
       "9  Account ownership at a financial institution o...  FX.OWN.TOTL.OL.ZS   NaN   \n",
       "\n",
       "   1961  1962  1963  1964  1965  ...       2013       2014       2015  \\\n",
       "0   NaN   NaN   NaN   NaN   NaN  ...  16.936004  17.337896  17.687093   \n",
       "1   NaN   NaN   NaN   NaN   NaN  ...   6.499471   6.680066   6.859110   \n",
       "2   NaN   NaN   NaN   NaN   NaN  ...  37.855399  38.046781  38.326255   \n",
       "3   NaN   NaN   NaN   NaN   NaN  ...  31.794160  32.001027  33.871910   \n",
       "4   NaN   NaN   NaN   NaN   NaN  ...  18.663502  17.633986  16.464681   \n",
       "5   NaN   NaN   NaN   NaN   NaN  ...  67.112206  66.283426  67.080235   \n",
       "6   NaN   NaN   NaN   NaN   NaN  ...        NaN        NaN        NaN   \n",
       "7   NaN   NaN   NaN   NaN   NaN  ...        NaN        NaN        NaN   \n",
       "8   NaN   NaN   NaN   NaN   NaN  ...        NaN        NaN        NaN   \n",
       "9   NaN   NaN   NaN   NaN   NaN  ...        NaN        NaN        NaN   \n",
       "\n",
       "        2016       2017       2018       2019       2020  2021  Unnamed: 66  \n",
       "0  18.140971  18.491344  18.825520  19.272212  19.628009   NaN          NaN  \n",
       "1   7.016238   7.180364   7.322294   7.517191   7.651598   NaN          NaN  \n",
       "2  38.468426  38.670044  38.722783  38.927016  39.042839   NaN          NaN  \n",
       "3  38.880173  40.261358  43.061877  44.270860  45.803485   NaN          NaN  \n",
       "4  24.531436  25.345111  27.449908  29.641760  30.404935   NaN          NaN  \n",
       "5  69.132292  70.928567  71.866136  73.332842  73.942949   NaN          NaN  \n",
       "6        NaN        NaN        NaN        NaN        NaN   NaN          NaN  \n",
       "7        NaN        NaN        NaN        NaN        NaN   NaN          NaN  \n",
       "8        NaN        NaN        NaN        NaN        NaN   NaN          NaN  \n",
       "9        NaN        NaN        NaN        NaN        NaN   NaN          NaN  \n",
       "\n",
       "[10 rows x 67 columns]"
      ]
     },
     "execution_count": 45,
     "metadata": {},
     "output_type": "execute_result"
    }
   ],
   "source": [
    "data.head(10) # Use the head() method to view the headers of n rows"
   ]
  },
  {
   "cell_type": "markdown",
   "metadata": {},
   "source": [
    "This is a three-dimensional dataset, where the dimensions are: country, indicator, and year."
   ]
  },
  {
   "cell_type": "markdown",
   "metadata": {},
   "source": [
    "### How many unique country names are there?"
   ]
  },
  {
   "cell_type": "code",
   "execution_count": 46,
   "metadata": {},
   "outputs": [
    {
     "name": "stdout",
     "output_type": "stream",
     "text": [
      "266\n",
      "<class 'list'>\n"
     ]
    }
   ],
   "source": [
    "countries = data['Country Name'].unique().tolist()\n",
    "print(len(countries))\n",
    "print(type(countries))"
   ]
  },
  {
   "cell_type": "code",
   "execution_count": 47,
   "metadata": {},
   "outputs": [
    {
     "name": "stdout",
     "output_type": "stream",
     "text": [
      "266\n",
      "<class 'list'>\n"
     ]
    }
   ],
   "source": [
    "# For a quick sanity check, cross-check the number of country codes with the number of countries:\n",
    "countryCodes = data['Country Code'].unique().tolist()\n",
    "print(len(countryCodes))\n",
    "print(type(countryCodes))"
   ]
  },
  {
   "cell_type": "markdown",
   "metadata": {},
   "source": [
    "### How many indicators are there?"
   ]
  },
  {
   "cell_type": "code",
   "execution_count": 48,
   "metadata": {},
   "outputs": [
    {
     "data": {
      "text/plain": [
       "1445"
      ]
     },
     "execution_count": 48,
     "metadata": {},
     "output_type": "execute_result"
    }
   ],
   "source": [
    "indicators = data['Indicator Name'].unique().tolist()\n",
    "len(indicators)"
   ]
  },
  {
   "cell_type": "code",
   "execution_count": 49,
   "metadata": {},
   "outputs": [
    {
     "name": "stdout",
     "output_type": "stream",
     "text": [
      "Variable         Type         Data/Info\n",
      "---------------------------------------\n",
      "co2              list         n=29\n",
      "countries        list         n=266\n",
      "countryCodes     list         n=266\n",
      "data             DataFrame                           Co<...>384370 rows x 67 columns]\n",
      "hist_country     str          USA\n",
      "hist_indicator   str          CO2 emissions (metric\n",
      "indicators       list         n=1445\n",
      "k                int          6\n",
      "mask1            Series       0         False\\n1       <...>ngth: 384370, dtype: bool\n",
      "mask2            Series       0         False\\n1       <...>ngth: 384370, dtype: bool\n",
      "math             module       <module 'math' (built-in)>\n",
      "np               module       <module 'numpy' from 'C:\\<...>ges\\\\numpy\\\\__init__.py'>\n",
      "pd               module       <module 'pandas' from 'C:<...>es\\\\pandas\\\\__init__.py'>\n",
      "plt              module       <module 'matplotlib.pyplo<...>\\\\matplotlib\\\\pyplot.py'>\n",
      "random           module       <module 'random' from 'C:<...>aconda3\\\\lib\\\\random.py'>\n",
      "stage            DataFrame             Country Name Cou<...>\\n\\n[1 rows x 33 columns]\n",
      "years            list         n=29\n"
     ]
    }
   ],
   "source": [
    "# List environment variables that have been created so far:\n",
    "%whos"
   ]
  },
  {
   "cell_type": "markdown",
   "metadata": {},
   "source": [
    "### How many years of data do we have?"
   ]
  },
  {
   "cell_type": "code",
   "execution_count": 50,
   "metadata": {},
   "outputs": [
    {
     "data": {
      "text/plain": [
       "62"
      ]
     },
     "execution_count": 50,
     "metadata": {},
     "output_type": "execute_result"
    }
   ],
   "source": [
    "years = data.columns[4:-1]\n",
    "len(years)"
   ]
  },
  {
   "cell_type": "code",
   "execution_count": 51,
   "metadata": {},
   "outputs": [
    {
     "name": "stdout",
     "output_type": "stream",
     "text": [
      "<class 'pandas.core.indexes.base.Index'>\n",
      "(62,)\n"
     ]
    }
   ],
   "source": [
    "print(type(years))\n",
    "print(years.shape)"
   ]
  },
  {
   "cell_type": "code",
   "execution_count": 52,
   "metadata": {},
   "outputs": [
    {
     "name": "stdout",
     "output_type": "stream",
     "text": [
      "62\n",
      "<class 'list'>\n"
     ]
    }
   ],
   "source": [
    "# Convert index to list:\n",
    "years = years.tolist()\n",
    "print(len(years))\n",
    "print(type(years))"
   ]
  },
  {
   "cell_type": "markdown",
   "metadata": {},
   "source": [
    "### Range of years:"
   ]
  },
  {
   "cell_type": "code",
   "execution_count": 53,
   "metadata": {},
   "outputs": [
    {
     "name": "stdout",
     "output_type": "stream",
     "text": [
      "1960  to  2021\n"
     ]
    }
   ],
   "source": [
    "print(min(years), \" to \", max(years))"
   ]
  },
  {
   "cell_type": "markdown",
   "metadata": {},
   "source": [
    "## Matplotlib: Basic plotting"
   ]
  },
  {
   "cell_type": "markdown",
   "metadata": {},
   "source": [
    "### Country and indicator to explore:\n",
    "\n",
    "USA and CO2 emissions per capita"
   ]
  },
  {
   "cell_type": "code",
   "execution_count": 54,
   "metadata": {},
   "outputs": [
    {
     "name": "stdout",
     "output_type": "stream",
     "text": [
      "<class 'pandas.core.frame.DataFrame'>\n"
     ]
    }
   ],
   "source": [
    "# Create and set variables to hold indicator and country\n",
    "hist_indicator = 'CO2 emissions (metric'\n",
    "hist_country = 'USA'\n",
    "\n",
    "# Setup two masks (or filters):\n",
    "mask1 = data['Indicator Name'].str.contains(hist_indicator, regex = False) # Set the regular expression parameter to False\n",
    "# to treat the string argument as a literal string.\n",
    "mask2 = data['Country Code'].str.contains(hist_country)\n",
    "\n",
    "# Create and set a DataFrame called stage:\n",
    "stage = data[mask1 & mask2]\n",
    "print(type(stage))"
   ]
  },
  {
   "cell_type": "code",
   "execution_count": 55,
   "metadata": {},
   "outputs": [
    {
     "data": {
      "text/html": [
       "<div>\n",
       "<style scoped>\n",
       "    .dataframe tbody tr th:only-of-type {\n",
       "        vertical-align: middle;\n",
       "    }\n",
       "\n",
       "    .dataframe tbody tr th {\n",
       "        vertical-align: top;\n",
       "    }\n",
       "\n",
       "    .dataframe thead th {\n",
       "        text-align: right;\n",
       "    }\n",
       "</style>\n",
       "<table border=\"1\" class=\"dataframe\">\n",
       "  <thead>\n",
       "    <tr style=\"text-align: right;\">\n",
       "      <th></th>\n",
       "      <th>Country Name</th>\n",
       "      <th>Country Code</th>\n",
       "      <th>Indicator Name</th>\n",
       "      <th>Indicator Code</th>\n",
       "      <th>1960</th>\n",
       "      <th>1961</th>\n",
       "      <th>1962</th>\n",
       "      <th>1963</th>\n",
       "      <th>1964</th>\n",
       "      <th>1965</th>\n",
       "      <th>...</th>\n",
       "      <th>2013</th>\n",
       "      <th>2014</th>\n",
       "      <th>2015</th>\n",
       "      <th>2016</th>\n",
       "      <th>2017</th>\n",
       "      <th>2018</th>\n",
       "      <th>2019</th>\n",
       "      <th>2020</th>\n",
       "      <th>2021</th>\n",
       "      <th>Unnamed: 66</th>\n",
       "    </tr>\n",
       "  </thead>\n",
       "  <tbody>\n",
       "    <tr>\n",
       "      <th>368668</th>\n",
       "      <td>United States</td>\n",
       "      <td>USA</td>\n",
       "      <td>CO2 emissions (metric tons per capita)</td>\n",
       "      <td>EN.ATM.CO2E.PC</td>\n",
       "      <td>NaN</td>\n",
       "      <td>NaN</td>\n",
       "      <td>NaN</td>\n",
       "      <td>NaN</td>\n",
       "      <td>NaN</td>\n",
       "      <td>NaN</td>\n",
       "      <td>...</td>\n",
       "      <td>16.102958</td>\n",
       "      <td>16.026379</td>\n",
       "      <td>15.535342</td>\n",
       "      <td>15.131747</td>\n",
       "      <td>14.805882</td>\n",
       "      <td>15.240875</td>\n",
       "      <td>NaN</td>\n",
       "      <td>NaN</td>\n",
       "      <td>NaN</td>\n",
       "      <td>NaN</td>\n",
       "    </tr>\n",
       "  </tbody>\n",
       "</table>\n",
       "<p>1 rows × 67 columns</p>\n",
       "</div>"
      ],
      "text/plain": [
       "         Country Name Country Code                          Indicator Name  \\\n",
       "368668  United States          USA  CO2 emissions (metric tons per capita)   \n",
       "\n",
       "        Indicator Code  1960  1961  1962  1963  1964  1965  ...       2013  \\\n",
       "368668  EN.ATM.CO2E.PC   NaN   NaN   NaN   NaN   NaN   NaN  ...  16.102958   \n",
       "\n",
       "             2014       2015       2016       2017       2018  2019  2020  \\\n",
       "368668  16.026379  15.535342  15.131747  14.805882  15.240875   NaN   NaN   \n",
       "\n",
       "        2021  Unnamed: 66  \n",
       "368668   NaN          NaN  \n",
       "\n",
       "[1 rows x 67 columns]"
      ]
     },
     "execution_count": 55,
     "metadata": {},
     "output_type": "execute_result"
    }
   ],
   "source": [
    "stage.head()"
   ]
  },
  {
   "cell_type": "markdown",
   "metadata": {},
   "source": [
    "### Revised range of years:"
   ]
  },
  {
   "cell_type": "code",
   "execution_count": 22,
   "metadata": {},
   "outputs": [
    {
     "name": "stdout",
     "output_type": "stream",
     "text": [
      "1990  to  2018\n"
     ]
    }
   ],
   "source": [
    "print(min(years), \" to \", max(years))"
   ]
  },
  {
   "cell_type": "markdown",
   "metadata": {},
   "source": [
    "### Handle missing data"
   ]
  },
  {
   "cell_type": "code",
   "execution_count": 56,
   "metadata": {},
   "outputs": [],
   "source": [
    "# Drop columns with NaN values:\n",
    "stage = stage.dropna(axis = 1) # Set axis parameter to 1 to drop columns with NaN, set it to 0 to drop rows with NaN"
   ]
  },
  {
   "cell_type": "code",
   "execution_count": 57,
   "metadata": {},
   "outputs": [
    {
     "data": {
      "text/html": [
       "<div>\n",
       "<style scoped>\n",
       "    .dataframe tbody tr th:only-of-type {\n",
       "        vertical-align: middle;\n",
       "    }\n",
       "\n",
       "    .dataframe tbody tr th {\n",
       "        vertical-align: top;\n",
       "    }\n",
       "\n",
       "    .dataframe thead th {\n",
       "        text-align: right;\n",
       "    }\n",
       "</style>\n",
       "<table border=\"1\" class=\"dataframe\">\n",
       "  <thead>\n",
       "    <tr style=\"text-align: right;\">\n",
       "      <th></th>\n",
       "      <th>Country Name</th>\n",
       "      <th>Country Code</th>\n",
       "      <th>Indicator Name</th>\n",
       "      <th>Indicator Code</th>\n",
       "      <th>1990</th>\n",
       "      <th>1991</th>\n",
       "      <th>1992</th>\n",
       "      <th>1993</th>\n",
       "      <th>1994</th>\n",
       "      <th>1995</th>\n",
       "      <th>...</th>\n",
       "      <th>2009</th>\n",
       "      <th>2010</th>\n",
       "      <th>2011</th>\n",
       "      <th>2012</th>\n",
       "      <th>2013</th>\n",
       "      <th>2014</th>\n",
       "      <th>2015</th>\n",
       "      <th>2016</th>\n",
       "      <th>2017</th>\n",
       "      <th>2018</th>\n",
       "    </tr>\n",
       "  </thead>\n",
       "  <tbody>\n",
       "    <tr>\n",
       "      <th>368668</th>\n",
       "      <td>United States</td>\n",
       "      <td>USA</td>\n",
       "      <td>CO2 emissions (metric tons per capita)</td>\n",
       "      <td>EN.ATM.CO2E.PC</td>\n",
       "      <td>19.409229</td>\n",
       "      <td>19.005736</td>\n",
       "      <td>19.025082</td>\n",
       "      <td>19.238109</td>\n",
       "      <td>19.280611</td>\n",
       "      <td>19.253938</td>\n",
       "      <td>...</td>\n",
       "      <td>16.818868</td>\n",
       "      <td>17.434196</td>\n",
       "      <td>16.599404</td>\n",
       "      <td>15.771145</td>\n",
       "      <td>16.102958</td>\n",
       "      <td>16.026379</td>\n",
       "      <td>15.535342</td>\n",
       "      <td>15.131747</td>\n",
       "      <td>14.805882</td>\n",
       "      <td>15.240875</td>\n",
       "    </tr>\n",
       "  </tbody>\n",
       "</table>\n",
       "<p>1 rows × 33 columns</p>\n",
       "</div>"
      ],
      "text/plain": [
       "         Country Name Country Code                          Indicator Name  \\\n",
       "368668  United States          USA  CO2 emissions (metric tons per capita)   \n",
       "\n",
       "        Indicator Code       1990       1991       1992       1993       1994  \\\n",
       "368668  EN.ATM.CO2E.PC  19.409229  19.005736  19.025082  19.238109  19.280611   \n",
       "\n",
       "             1995  ...       2009       2010       2011       2012       2013  \\\n",
       "368668  19.253938  ...  16.818868  17.434196  16.599404  15.771145  16.102958   \n",
       "\n",
       "             2014       2015       2016       2017       2018  \n",
       "368668  16.026379  15.535342  15.131747  14.805882  15.240875  \n",
       "\n",
       "[1 rows x 33 columns]"
      ]
     },
     "execution_count": 57,
     "metadata": {},
     "output_type": "execute_result"
    }
   ],
   "source": [
    "stage.head()"
   ]
  },
  {
   "cell_type": "markdown",
   "metadata": {},
   "source": [
    "### Plot indicator over time using Matplotlib"
   ]
  },
  {
   "cell_type": "code",
   "execution_count": 58,
   "metadata": {},
   "outputs": [
    {
     "name": "stdout",
     "output_type": "stream",
     "text": [
      "29\n",
      "<class 'list'>\n",
      "<class 'str'>\n"
     ]
    }
   ],
   "source": [
    "# Get the years\n",
    "years = stage.columns[4:].tolist()\n",
    "\n",
    "print(len(years))\n",
    "print(type(years))\n",
    "print(type(years[0]))"
   ]
  },
  {
   "cell_type": "code",
   "execution_count": 59,
   "metadata": {},
   "outputs": [
    {
     "name": "stdout",
     "output_type": "stream",
     "text": [
      "1\n",
      "<class 'numpy.ndarray'>\n",
      "<class 'numpy.ndarray'>\n",
      "(1, 29)\n"
     ]
    }
   ],
   "source": [
    "# Get the CO2 values\n",
    "co2 = stage[years].values # Use the 'years' list to select the corresponding co2 values\n",
    "print(len(co2))\n",
    "print(type(co2))\n",
    "print(type(co2[0]))\n",
    "print(co2.shape)"
   ]
  },
  {
   "cell_type": "code",
   "execution_count": 60,
   "metadata": {},
   "outputs": [
    {
     "name": "stdout",
     "output_type": "stream",
     "text": [
      "29\n",
      "<class 'list'>\n",
      "<class 'int'>\n"
     ]
    }
   ],
   "source": [
    "# Change elements in 'years' list from string to integer:\n",
    "years = [int(years) for years in years]\n",
    "\n",
    "print(len(years))\n",
    "print(type(years))\n",
    "print(type(years[0]))"
   ]
  },
  {
   "cell_type": "code",
   "execution_count": 61,
   "metadata": {},
   "outputs": [],
   "source": [
    "#years"
   ]
  },
  {
   "cell_type": "code",
   "execution_count": 62,
   "metadata": {},
   "outputs": [
    {
     "name": "stdout",
     "output_type": "stream",
     "text": [
      "(29, 1)\n"
     ]
    }
   ],
   "source": [
    "# Transpose co2 data to allow conversion to scalar\n",
    "co2 = np.transpose(co2)\n",
    "print(co2.shape)"
   ]
  },
  {
   "cell_type": "code",
   "execution_count": 63,
   "metadata": {},
   "outputs": [
    {
     "name": "stdout",
     "output_type": "stream",
     "text": [
      "29\n",
      "<class 'list'>\n",
      "<class 'float'>\n"
     ]
    }
   ],
   "source": [
    "# Change elements in CO2\n",
    "co2 = [float(co2) for co2 in co2]\n",
    "print(len(co2))\n",
    "print(type(co2))\n",
    "print(type(co2[0]))"
   ]
  },
  {
   "cell_type": "markdown",
   "metadata": {},
   "source": [
    "### Plot"
   ]
  },
  {
   "cell_type": "code",
   "execution_count": 64,
   "metadata": {},
   "outputs": [
    {
     "data": {
      "text/plain": [
       "<BarContainer object of 29 artists>"
      ]
     },
     "execution_count": 64,
     "metadata": {},
     "output_type": "execute_result"
    },
    {
     "data": {
      "image/png": "[encoded data removed]",
      "text/plain": [
       "<Figure size 432x288 with 1 Axes>"
      ]
     },
     "metadata": {
      "needs_background": "light"
     },
     "output_type": "display_data"
    }
   ],
   "source": [
    "plt.bar(years, co2)"
   ]
  },
  {
   "cell_type": "markdown",
   "metadata": {},
   "source": [
    "It can be seen that CO2 emissions has dropped over time; the graphic should be more interpretable."
   ]
  },
  {
   "cell_type": "code",
   "execution_count": 65,
   "metadata": {},
   "outputs": [
    {
     "data": {
      "image/png": "[encoded data removed]",
      "text/plain": [
       "<Figure size 432x288 with 1 Axes>"
      ]
     },
     "metadata": {
      "needs_background": "light"
     },
     "output_type": "display_data"
    }
   ],
   "source": [
    "# Switch to a line plot\n",
    "plt.plot(years, co2)\n",
    "\n",
    "# Label the axes\n",
    "plt.xlabel('Year', fontsize = 16) # xlabel is a method on the plot\n",
    "plt.ylabel(stage['Indicator Name'].iloc[0], fontsize = 12)\n",
    "\n",
    "# Title\n",
    "plt.title('CO2 Emissions in USA', fontsize = 20)\n",
    "\n",
    "# Adjust the axis\n",
    "plt.axis([1990,2018,0,25]);\n",
    "\n",
    "# Adjust x-axis ticks\n",
    "#plt.xticks(np.arange(min(years), max(years), 3));"
   ]
  },
  {
   "cell_type": "markdown",
   "metadata": {},
   "source": [
    "### Histogram to explore distribution"
   ]
  },
  {
   "cell_type": "markdown",
   "metadata": {},
   "source": [
    "LaTeX format:\n",
    "\n",
    "Calculate number of bins using the square-root method\n",
    "\n",
    "$k = \\lceil sqrt(n) \\rceil$\n",
    "\n",
    "Where $\\lceil$ and $\\rceil$ indicate the celing function (the smallest integer >= input argument), and $n$ is the sample size."
   ]
  },
  {
   "cell_type": "code",
   "execution_count": 66,
   "metadata": {},
   "outputs": [
    {
     "data": {
      "text/plain": [
       "6"
      ]
     },
     "execution_count": 66,
     "metadata": {},
     "output_type": "execute_result"
    }
   ],
   "source": [
    "import math\n",
    "k = math.ceil(math.sqrt(len(co2)))\n",
    "k"
   ]
  },
  {
   "cell_type": "code",
   "execution_count": 69,
   "metadata": {},
   "outputs": [
    {
     "data": {
      "text/plain": [
       "Text(0, 0.5, '# of Years')"
      ]
     },
     "execution_count": 69,
     "metadata": {},
     "output_type": "execute_result"
    },
    {
     "data": {
      "image/png": "[encoded data removed]",
      "text/plain": [
       "<Figure size 432x288 with 1 Axes>"
      ]
     },
     "metadata": {
      "needs_background": "light"
     },
     "output_type": "display_data"
    }
   ],
   "source": [
    "plt.hist(co2, k, facecolor = 'green', edgecolor = 'white')\n",
    "\n",
    "plt.title('CO2 Emissions Frequency')\n",
    "plt.xlabel(stage['Indicator Name'].iloc[0])\n",
    "plt.ylabel('# of Years')\n",
    "#plt.grid(True)"
   ]
  },
  {
   "cell_type": "markdown",
   "metadata": {},
   "source": [
    "The USA has several years where its CO2 emissions were 19 metric tons per capita or greater."
   ]
  },
  {
   "cell_type": "markdown",
   "metadata": {},
   "source": [
    "### How does the USA CO2 emissions compare to other countries?"
   ]
  },
  {
   "cell_type": "markdown",
   "metadata": {},
   "source": [
    "## Other Matplotlib plots:\n",
    "\n",
    "https://matplotlib.org/stable/plot_types/index.html"
   ]
  },
  {
   "cell_type": "code",
   "execution_count": null,
   "metadata": {},
   "outputs": [],
   "source": []
  }
 ],
 "metadata": {
  "kernelspec": {
   "display_name": "Python 3",
   "language": "python",
   "name": "python3"
  },
  "language_info": {
   "codemirror_mode": {
    "name": "ipython",
    "version": 3
   },
   "file_extension": ".py",
   "mimetype": "text/x-python",
   "name": "python",
   "nbconvert_exporter": "python",
   "pygments_lexer": "ipython3",
   "version": "3.8.5"
  }
 },
 "nbformat": 4,
 "nbformat_minor": 4
}
